{
 "cells": [
  {
   "cell_type": "code",
   "execution_count": 1,
   "id": "d47024aa",
   "metadata": {
    "_cell_guid": "b1076dfc-b9ad-4769-8c92-a6c4dae69d19",
    "_uuid": "8f2839f25d086af736a60e9eeb907d3b93b6e0e5",
    "execution": {
     "iopub.execute_input": "2021-08-29T00:25:46.907387Z",
     "iopub.status.busy": "2021-08-29T00:25:46.906216Z",
     "iopub.status.idle": "2021-08-29T00:25:46.917459Z",
     "shell.execute_reply": "2021-08-29T00:25:46.917987Z",
     "shell.execute_reply.started": "2021-08-29T00:23:08.992508Z"
    },
    "papermill": {
     "duration": 0.058166,
     "end_time": "2021-08-29T00:25:46.918306",
     "exception": false,
     "start_time": "2021-08-29T00:25:46.860140",
     "status": "completed"
    },
    "tags": []
   },
   "outputs": [],
   "source": [
    "import numpy as np\n",
    "import pandas as pd\n",
    "import matplotlib.pyplot as plt\n",
    "pd.set_option('max_rows', 300)\n",
    "pd.set_option('max_columns', 300)\n",
    "\n",
    "import os\n",
    "import glob\n",
    "# data directory\n",
    "data_dir = '../input/optiver-realized-volatility-prediction/'"
   ]
  },
  {
   "cell_type": "markdown",
   "id": "dd2dde29",
   "metadata": {
    "papermill": {
     "duration": 0.039209,
     "end_time": "2021-08-29T00:25:46.997566",
     "exception": false,
     "start_time": "2021-08-29T00:25:46.958357",
     "status": "completed"
    },
    "tags": []
   },
   "source": [
    "# 関数準備"
   ]
  },
  {
   "cell_type": "code",
   "execution_count": 2,
   "id": "0ba885ef",
   "metadata": {
    "execution": {
     "iopub.execute_input": "2021-08-29T00:25:47.080825Z",
     "iopub.status.busy": "2021-08-29T00:25:47.080130Z",
     "iopub.status.idle": "2021-08-29T00:25:47.086832Z",
     "shell.execute_reply": "2021-08-29T00:25:47.087357Z",
     "shell.execute_reply.started": "2021-08-29T00:23:10.207795Z"
    },
    "papermill": {
     "duration": 0.050545,
     "end_time": "2021-08-29T00:25:47.087539",
     "exception": false,
     "start_time": "2021-08-29T00:25:47.036994",
     "status": "completed"
    },
    "tags": []
   },
   "outputs": [],
   "source": [
    "def calc_wap(df):\n",
    "    wap = (df['bid_price1'] * df['ask_size1'] + df['ask_price1'] * df['bid_size1'])/(df['bid_size1'] + df['ask_size1'])\n",
    "    return wap\n",
    "\n",
    "def calc_wap2(df):\n",
    "    wap = (df['bid_price2'] * df['ask_size2'] + df['ask_price2'] * df['bid_size2'])/(df['bid_size2'] + df['ask_size2'])\n",
    "    return wap\n",
    "\n",
    "def log_return(list_stock_prices):\n",
    "    return np.log(list_stock_prices).diff() \n",
    "\n",
    "def realized_volatility(series):\n",
    "    return np.sqrt(np.sum(series**2))\n",
    "\n",
    "def count_unique(series):\n",
    "    return len(np.unique(series))\n"
   ]
  },
  {
   "cell_type": "markdown",
   "id": "00dc2666",
   "metadata": {
    "papermill": {
     "duration": 0.039737,
     "end_time": "2021-08-29T00:25:47.168327",
     "exception": false,
     "start_time": "2021-08-29T00:25:47.128590",
     "status": "completed"
    },
    "tags": []
   },
   "source": [
    "# Book_Dataの特徴量抽出関数"
   ]
  },
  {
   "cell_type": "code",
   "execution_count": 3,
   "id": "ad5b040c",
   "metadata": {
    "execution": {
     "iopub.execute_input": "2021-08-29T00:25:47.251244Z",
     "iopub.status.busy": "2021-08-29T00:25:47.250536Z",
     "iopub.status.idle": "2021-08-29T00:25:47.351986Z",
     "shell.execute_reply": "2021-08-29T00:25:47.351418Z"
    },
    "papermill": {
     "duration": 0.143855,
     "end_time": "2021-08-29T00:25:47.352156",
     "exception": false,
     "start_time": "2021-08-29T00:25:47.208301",
     "status": "completed"
    },
    "tags": []
   },
   "outputs": [],
   "source": [
    "def preprocessor_book(file_path):\n",
    "    df = pd.read_parquet(file_path)\n",
    "    #calculate return etc\n",
    "    df['wap'] = calc_wap(df)\n",
    "    df['log_return'] = df.groupby('time_id')['wap'].apply(log_return)\n",
    "    \n",
    "    df['wap2'] = calc_wap2(df)\n",
    "    df['log_return2'] = df.groupby('time_id')['wap2'].apply(log_return)\n",
    "    \n",
    "    df['wap_balance'] = abs(df['wap'] - df['wap2'])\n",
    "    \n",
    "    df['price_spread'] = (df['ask_price1'] - df['bid_price1']) / ((df['ask_price1'] + df['bid_price1'])/2)\n",
    "    df['bid_spread'] = df['bid_price1'] - df['bid_price2']\n",
    "    df['ask_spread'] = df['ask_price1'] - df['ask_price2']\n",
    "    df['total_volume'] = (df['ask_size1'] + df['ask_size2']) + (df['bid_size1'] + df['bid_size2'])\n",
    "    df['volume_imbalance'] = abs((df['ask_size1'] + df['ask_size2']) - (df['bid_size1'] + df['bid_size2']))\n",
    "\n",
    "    #dict for aggregate\n",
    "    create_feature_dict = {\n",
    "        'log_return':[realized_volatility],\n",
    "        'log_return2':[realized_volatility],\n",
    "        'wap_balance':[np.mean],\n",
    "        'price_spread':[np.mean],\n",
    "        'bid_spread':[np.mean],\n",
    "        'ask_spread':[np.mean],\n",
    "        'volume_imbalance':[np.mean],\n",
    "        'total_volume':[np.mean],\n",
    "        'wap':[np.mean],\n",
    "            }\n",
    "\n",
    "    #####groupby / all seconds\n",
    "    df_feature = pd.DataFrame(df.groupby(['time_id']).agg(create_feature_dict)).reset_index()\n",
    "    \n",
    "    df_feature.columns = ['_'.join(col) for col in df_feature.columns] #time_id is changed to time_id_\n",
    "        \n",
    "    ######groupby / last XX seconds\n",
    "    last_seconds = []\n",
    "    \n",
    "    for second in last_seconds:\n",
    "        second = 600 - second \n",
    "    \n",
    "        df_feature_sec = pd.DataFrame(df.query(f'seconds_in_bucket >= {second}').groupby(['time_id']).agg(create_feature_dict)).reset_index()\n",
    "        df_feature_sec.columns = ['_'.join(col) for col in df_feature_sec.columns] #time_id is changed to time_id_\n",
    "        df_feature_sec = df_feature_sec.add_suffix('_' + str(second))\n",
    "        df_feature = pd.merge(df_feature,df_feature_sec,how='left',left_on='time_id_',right_on=f'time_id__{second}')\n",
    "        df_feature = df_feature.drop([f'time_id__{second}'],axis=1)\n",
    "    \n",
    "    #create row_id\n",
    "    stock_id = file_path.split('=')[1]\n",
    "    df_feature['row_id'] = df_feature['time_id_'].apply(lambda x:f'{stock_id}-{x}')\n",
    "    df_feature = df_feature.drop(['time_id_'],axis=1)\n",
    "    \n",
    "    return df_feature"
   ]
  },
  {
   "cell_type": "markdown",
   "id": "a61306bc",
   "metadata": {
    "papermill": {
     "duration": 0.039842,
     "end_time": "2021-08-29T00:25:47.432320",
     "exception": false,
     "start_time": "2021-08-29T00:25:47.392478",
     "status": "completed"
    },
    "tags": []
   },
   "source": [
    "# Trade_Dataの特徴量抽出"
   ]
  },
  {
   "cell_type": "code",
   "execution_count": 4,
   "id": "9a5cdac3",
   "metadata": {
    "execution": {
     "iopub.execute_input": "2021-08-29T00:25:47.522444Z",
     "iopub.status.busy": "2021-08-29T00:25:47.521621Z",
     "iopub.status.idle": "2021-08-29T00:25:47.524029Z",
     "shell.execute_reply": "2021-08-29T00:25:47.524526Z"
    },
    "papermill": {
     "duration": 0.052829,
     "end_time": "2021-08-29T00:25:47.524700",
     "exception": false,
     "start_time": "2021-08-29T00:25:47.471871",
     "status": "completed"
    },
    "tags": []
   },
   "outputs": [],
   "source": [
    "def preprocessor_trade(file_path):\n",
    "    df = pd.read_parquet(file_path)\n",
    "    df['log_return'] = df.groupby('time_id')['price'].apply(log_return)\n",
    "    \n",
    "    \n",
    "    aggregate_dictionary = {\n",
    "        'log_return':[realized_volatility],\n",
    "        'seconds_in_bucket':[count_unique],\n",
    "        'size':[np.sum],\n",
    "        'order_count':[np.mean],\n",
    "    }\n",
    "    \n",
    "    df_feature = df.groupby('time_id').agg(aggregate_dictionary)\n",
    "    \n",
    "    df_feature = df_feature.reset_index()\n",
    "    df_feature.columns = ['_'.join(col) for col in df_feature.columns]\n",
    "\n",
    "    \n",
    "    ######groupby / last XX seconds\n",
    "    last_seconds = []\n",
    "    \n",
    "    for second in last_seconds:\n",
    "        second = 600 - second\n",
    "    \n",
    "        df_feature_sec = df.query(f'seconds_in_bucket >= {second}').groupby('time_id').agg(aggregate_dictionary)\n",
    "        df_feature_sec = df_feature_sec.reset_index()\n",
    "        \n",
    "        df_feature_sec.columns = ['_'.join(col) for col in df_feature_sec.columns]\n",
    "        df_feature_sec = df_feature_sec.add_suffix('_' + str(second))\n",
    "        \n",
    "        df_feature = pd.merge(df_feature,df_feature_sec,how='left',left_on='time_id_',right_on=f'time_id__{second}')\n",
    "        df_feature = df_feature.drop([f'time_id__{second}'],axis=1)\n",
    "    \n",
    "    df_feature = df_feature.add_prefix('trade_')\n",
    "    stock_id = file_path.split('=')[1]\n",
    "    df_feature['row_id'] = df_feature['trade_time_id_'].apply(lambda x:f'{stock_id}-{x}')\n",
    "    df_feature = df_feature.drop(['trade_time_id_'],axis=1)\n",
    "    \n",
    "    return df_feature"
   ]
  },
  {
   "cell_type": "markdown",
   "id": "99191ca2",
   "metadata": {
    "papermill": {
     "duration": 0.03943,
     "end_time": "2021-08-29T00:25:47.604236",
     "exception": false,
     "start_time": "2021-08-29T00:25:47.564806",
     "status": "completed"
    },
    "tags": []
   },
   "source": [
    "# BookとTradeのデータをJoinする"
   ]
  },
  {
   "cell_type": "code",
   "execution_count": 5,
   "id": "190148a3",
   "metadata": {
    "execution": {
     "iopub.execute_input": "2021-08-29T00:25:47.686357Z",
     "iopub.status.busy": "2021-08-29T00:25:47.685699Z",
     "iopub.status.idle": "2021-08-29T00:25:47.693850Z",
     "shell.execute_reply": "2021-08-29T00:25:47.693292Z"
    },
    "papermill": {
     "duration": 0.050184,
     "end_time": "2021-08-29T00:25:47.693982",
     "exception": false,
     "start_time": "2021-08-29T00:25:47.643798",
     "status": "completed"
    },
    "tags": []
   },
   "outputs": [],
   "source": [
    "def preprocessor(list_stock_ids, is_train = True):\n",
    "    from joblib import Parallel, delayed # parallel computing to save time\n",
    "    df = pd.DataFrame()\n",
    "    \n",
    "    def for_joblib(stock_id):\n",
    "        if is_train:\n",
    "            file_path_book = data_dir + \"book_train.parquet/stock_id=\" + str(stock_id)\n",
    "            file_path_trade = data_dir + \"trade_train.parquet/stock_id=\" + str(stock_id)\n",
    "        else:\n",
    "            file_path_book = data_dir + \"book_test.parquet/stock_id=\" + str(stock_id)\n",
    "            file_path_trade = data_dir + \"trade_test.parquet/stock_id=\" + str(stock_id)\n",
    "            \n",
    "        df_tmp = pd.merge(preprocessor_book(file_path_book),preprocessor_trade(file_path_trade),on='row_id',how='left')\n",
    "     \n",
    "        return pd.concat([df,df_tmp])\n",
    "    \n",
    "    df = Parallel(n_jobs=-1, verbose=1)(\n",
    "        delayed(for_joblib)(stock_id) for stock_id in list_stock_ids\n",
    "        )\n",
    "\n",
    "    df =  pd.concat(df,ignore_index = True)\n",
    "    return df"
   ]
  },
  {
   "cell_type": "markdown",
   "id": "190a513e",
   "metadata": {
    "papermill": {
     "duration": 0.039874,
     "end_time": "2021-08-29T00:25:47.773730",
     "exception": false,
     "start_time": "2021-08-29T00:25:47.733856",
     "status": "completed"
    },
    "tags": []
   },
   "source": [
    "# データ\n",
    "## 学習データ準備"
   ]
  },
  {
   "cell_type": "code",
   "execution_count": 6,
   "id": "e9362cb2",
   "metadata": {
    "execution": {
     "iopub.execute_input": "2021-08-29T00:25:47.857939Z",
     "iopub.status.busy": "2021-08-29T00:25:47.857291Z",
     "iopub.status.idle": "2021-08-29T00:25:48.126294Z",
     "shell.execute_reply": "2021-08-29T00:25:48.125724Z"
    },
    "papermill": {
     "duration": 0.313037,
     "end_time": "2021-08-29T00:25:48.126433",
     "exception": false,
     "start_time": "2021-08-29T00:25:47.813396",
     "status": "completed"
    },
    "tags": []
   },
   "outputs": [],
   "source": [
    "train = pd.read_csv(data_dir + 'train.csv')\n",
    "train_ids = train.stock_id.unique()"
   ]
  },
  {
   "cell_type": "code",
   "execution_count": 7,
   "id": "14058be1",
   "metadata": {
    "execution": {
     "iopub.execute_input": "2021-08-29T00:25:48.212439Z",
     "iopub.status.busy": "2021-08-29T00:25:48.211809Z",
     "iopub.status.idle": "2021-08-29T00:33:16.763383Z",
     "shell.execute_reply": "2021-08-29T00:33:16.762841Z"
    },
    "papermill": {
     "duration": 448.596649,
     "end_time": "2021-08-29T00:33:16.763521",
     "exception": false,
     "start_time": "2021-08-29T00:25:48.166872",
     "status": "completed"
    },
    "tags": []
   },
   "outputs": [
    {
     "name": "stderr",
     "output_type": "stream",
     "text": [
      "[Parallel(n_jobs=-1)]: Using backend LokyBackend with 4 concurrent workers.\n",
      "[Parallel(n_jobs=-1)]: Done  42 tasks      | elapsed:  2.9min\n"
     ]
    },
    {
     "name": "stdout",
     "output_type": "stream",
     "text": [
      "CPU times: user 2.69 s, sys: 208 ms, total: 2.89 s\n",
      "Wall time: 7min 28s\n"
     ]
    },
    {
     "name": "stderr",
     "output_type": "stream",
     "text": [
      "[Parallel(n_jobs=-1)]: Done 112 out of 112 | elapsed:  7.5min finished\n"
     ]
    }
   ],
   "source": [
    "%%time\n",
    "df_train = preprocessor(list_stock_ids= train_ids, is_train = True)\n",
    "df_train_temp = df_train"
   ]
  },
  {
   "cell_type": "code",
   "execution_count": 8,
   "id": "bf4edee9",
   "metadata": {
    "execution": {
     "iopub.execute_input": "2021-08-29T00:33:16.849131Z",
     "iopub.status.busy": "2021-08-29T00:33:16.848510Z",
     "iopub.status.idle": "2021-08-29T00:33:18.742119Z",
     "shell.execute_reply": "2021-08-29T00:33:18.742602Z"
    },
    "papermill": {
     "duration": 1.938113,
     "end_time": "2021-08-29T00:33:18.742776",
     "exception": false,
     "start_time": "2021-08-29T00:33:16.804663",
     "status": "completed"
    },
    "tags": []
   },
   "outputs": [
    {
     "data": {
      "text/html": [
       "<div>\n",
       "<style scoped>\n",
       "    .dataframe tbody tr th:only-of-type {\n",
       "        vertical-align: middle;\n",
       "    }\n",
       "\n",
       "    .dataframe tbody tr th {\n",
       "        vertical-align: top;\n",
       "    }\n",
       "\n",
       "    .dataframe thead th {\n",
       "        text-align: right;\n",
       "    }\n",
       "</style>\n",
       "<table border=\"1\" class=\"dataframe\">\n",
       "  <thead>\n",
       "    <tr style=\"text-align: right;\">\n",
       "      <th></th>\n",
       "      <th>row_id</th>\n",
       "      <th>target</th>\n",
       "      <th>log_return_realized_volatility</th>\n",
       "      <th>log_return2_realized_volatility</th>\n",
       "      <th>wap_balance_mean</th>\n",
       "      <th>price_spread_mean</th>\n",
       "      <th>bid_spread_mean</th>\n",
       "      <th>ask_spread_mean</th>\n",
       "      <th>volume_imbalance_mean</th>\n",
       "      <th>total_volume_mean</th>\n",
       "      <th>wap_mean</th>\n",
       "      <th>trade_log_return_realized_volatility</th>\n",
       "      <th>trade_seconds_in_bucket_count_unique</th>\n",
       "      <th>trade_size_sum</th>\n",
       "      <th>trade_order_count_mean</th>\n",
       "    </tr>\n",
       "  </thead>\n",
       "  <tbody>\n",
       "    <tr>\n",
       "      <th>0</th>\n",
       "      <td>0-5</td>\n",
       "      <td>0.004136</td>\n",
       "      <td>0.004499</td>\n",
       "      <td>0.006999</td>\n",
       "      <td>0.000388</td>\n",
       "      <td>0.000852</td>\n",
       "      <td>0.000176</td>\n",
       "      <td>-0.000151</td>\n",
       "      <td>134.894040</td>\n",
       "      <td>323.496689</td>\n",
       "      <td>1.003725</td>\n",
       "      <td>0.002006</td>\n",
       "      <td>40.0</td>\n",
       "      <td>3179.0</td>\n",
       "      <td>2.750000</td>\n",
       "    </tr>\n",
       "    <tr>\n",
       "      <th>1</th>\n",
       "      <td>0-11</td>\n",
       "      <td>0.001445</td>\n",
       "      <td>0.001204</td>\n",
       "      <td>0.002476</td>\n",
       "      <td>0.000212</td>\n",
       "      <td>0.000394</td>\n",
       "      <td>0.000142</td>\n",
       "      <td>-0.000135</td>\n",
       "      <td>142.050000</td>\n",
       "      <td>411.450000</td>\n",
       "      <td>1.000239</td>\n",
       "      <td>0.000901</td>\n",
       "      <td>30.0</td>\n",
       "      <td>1289.0</td>\n",
       "      <td>1.900000</td>\n",
       "    </tr>\n",
       "    <tr>\n",
       "      <th>2</th>\n",
       "      <td>0-16</td>\n",
       "      <td>0.002168</td>\n",
       "      <td>0.002369</td>\n",
       "      <td>0.004801</td>\n",
       "      <td>0.000331</td>\n",
       "      <td>0.000725</td>\n",
       "      <td>0.000197</td>\n",
       "      <td>-0.000198</td>\n",
       "      <td>141.414894</td>\n",
       "      <td>416.351064</td>\n",
       "      <td>0.999542</td>\n",
       "      <td>0.001961</td>\n",
       "      <td>25.0</td>\n",
       "      <td>2161.0</td>\n",
       "      <td>2.720000</td>\n",
       "    </tr>\n",
       "    <tr>\n",
       "      <th>3</th>\n",
       "      <td>0-31</td>\n",
       "      <td>0.002195</td>\n",
       "      <td>0.002574</td>\n",
       "      <td>0.003637</td>\n",
       "      <td>0.000380</td>\n",
       "      <td>0.000860</td>\n",
       "      <td>0.000190</td>\n",
       "      <td>-0.000108</td>\n",
       "      <td>146.216667</td>\n",
       "      <td>435.266667</td>\n",
       "      <td>0.998832</td>\n",
       "      <td>0.001561</td>\n",
       "      <td>15.0</td>\n",
       "      <td>1962.0</td>\n",
       "      <td>3.933333</td>\n",
       "    </tr>\n",
       "    <tr>\n",
       "      <th>4</th>\n",
       "      <td>0-62</td>\n",
       "      <td>0.001747</td>\n",
       "      <td>0.001894</td>\n",
       "      <td>0.003257</td>\n",
       "      <td>0.000254</td>\n",
       "      <td>0.000397</td>\n",
       "      <td>0.000191</td>\n",
       "      <td>-0.000109</td>\n",
       "      <td>123.846591</td>\n",
       "      <td>343.221591</td>\n",
       "      <td>0.999619</td>\n",
       "      <td>0.000871</td>\n",
       "      <td>22.0</td>\n",
       "      <td>1791.0</td>\n",
       "      <td>4.045455</td>\n",
       "    </tr>\n",
       "  </tbody>\n",
       "</table>\n",
       "</div>"
      ],
      "text/plain": [
       "  row_id    target  log_return_realized_volatility  \\\n",
       "0    0-5  0.004136                        0.004499   \n",
       "1   0-11  0.001445                        0.001204   \n",
       "2   0-16  0.002168                        0.002369   \n",
       "3   0-31  0.002195                        0.002574   \n",
       "4   0-62  0.001747                        0.001894   \n",
       "\n",
       "   log_return2_realized_volatility  wap_balance_mean  price_spread_mean  \\\n",
       "0                         0.006999          0.000388           0.000852   \n",
       "1                         0.002476          0.000212           0.000394   \n",
       "2                         0.004801          0.000331           0.000725   \n",
       "3                         0.003637          0.000380           0.000860   \n",
       "4                         0.003257          0.000254           0.000397   \n",
       "\n",
       "   bid_spread_mean  ask_spread_mean  volume_imbalance_mean  total_volume_mean  \\\n",
       "0         0.000176        -0.000151             134.894040         323.496689   \n",
       "1         0.000142        -0.000135             142.050000         411.450000   \n",
       "2         0.000197        -0.000198             141.414894         416.351064   \n",
       "3         0.000190        -0.000108             146.216667         435.266667   \n",
       "4         0.000191        -0.000109             123.846591         343.221591   \n",
       "\n",
       "   wap_mean  trade_log_return_realized_volatility  \\\n",
       "0  1.003725                              0.002006   \n",
       "1  1.000239                              0.000901   \n",
       "2  0.999542                              0.001961   \n",
       "3  0.998832                              0.001561   \n",
       "4  0.999619                              0.000871   \n",
       "\n",
       "   trade_seconds_in_bucket_count_unique  trade_size_sum  \\\n",
       "0                                  40.0          3179.0   \n",
       "1                                  30.0          1289.0   \n",
       "2                                  25.0          2161.0   \n",
       "3                                  15.0          1962.0   \n",
       "4                                  22.0          1791.0   \n",
       "\n",
       "   trade_order_count_mean  \n",
       "0                2.750000  \n",
       "1                1.900000  \n",
       "2                2.720000  \n",
       "3                3.933333  \n",
       "4                4.045455  "
      ]
     },
     "execution_count": 8,
     "metadata": {},
     "output_type": "execute_result"
    }
   ],
   "source": [
    "train['row_id'] = train['stock_id'].astype(str) + '-' + train['time_id'].astype(str)\n",
    "train = train[['row_id','target']]\n",
    "df_train = train.merge(df_train_temp, on = ['row_id'], how = 'left')\n",
    "df_train.head()"
   ]
  },
  {
   "cell_type": "markdown",
   "id": "55d12a42",
   "metadata": {
    "papermill": {
     "duration": 0.042606,
     "end_time": "2021-08-29T00:33:18.827271",
     "exception": false,
     "start_time": "2021-08-29T00:33:18.784665",
     "status": "completed"
    },
    "tags": []
   },
   "source": [
    "## テストデータ準備"
   ]
  },
  {
   "cell_type": "code",
   "execution_count": 9,
   "id": "109c6288",
   "metadata": {
    "execution": {
     "iopub.execute_input": "2021-08-29T00:33:18.924018Z",
     "iopub.status.busy": "2021-08-29T00:33:18.923399Z",
     "iopub.status.idle": "2021-08-29T00:33:18.938702Z",
     "shell.execute_reply": "2021-08-29T00:33:18.938011Z"
    },
    "papermill": {
     "duration": 0.069813,
     "end_time": "2021-08-29T00:33:18.938843",
     "exception": false,
     "start_time": "2021-08-29T00:33:18.869030",
     "status": "completed"
    },
    "tags": []
   },
   "outputs": [],
   "source": [
    "test = pd.read_csv(data_dir + 'test.csv')\n",
    "test_ids = test.stock_id.unique()"
   ]
  },
  {
   "cell_type": "code",
   "execution_count": 10,
   "id": "28a92456",
   "metadata": {
    "execution": {
     "iopub.execute_input": "2021-08-29T00:33:19.042177Z",
     "iopub.status.busy": "2021-08-29T00:33:19.041254Z",
     "iopub.status.idle": "2021-08-29T00:33:19.153278Z",
     "shell.execute_reply": "2021-08-29T00:33:19.152398Z"
    },
    "papermill": {
     "duration": 0.160484,
     "end_time": "2021-08-29T00:33:19.153461",
     "exception": false,
     "start_time": "2021-08-29T00:33:18.992977",
     "status": "completed"
    },
    "tags": []
   },
   "outputs": [
    {
     "name": "stdout",
     "output_type": "stream",
     "text": [
      "CPU times: user 17.8 ms, sys: 1.08 ms, total: 18.9 ms\n",
      "Wall time: 107 ms\n"
     ]
    },
    {
     "name": "stderr",
     "output_type": "stream",
     "text": [
      "[Parallel(n_jobs=-1)]: Using backend LokyBackend with 4 concurrent workers.\n",
      "[Parallel(n_jobs=-1)]: Done   1 out of   1 | elapsed:    0.1s finished\n"
     ]
    }
   ],
   "source": [
    "%%time\n",
    "df_test = preprocessor(list_stock_ids= test_ids, is_train = False)\n",
    "df_test_temp = df_test"
   ]
  },
  {
   "cell_type": "code",
   "execution_count": 11,
   "id": "8fe5d8b1",
   "metadata": {
    "execution": {
     "iopub.execute_input": "2021-08-29T00:33:19.265697Z",
     "iopub.status.busy": "2021-08-29T00:33:19.264733Z",
     "iopub.status.idle": "2021-08-29T00:33:19.269235Z",
     "shell.execute_reply": "2021-08-29T00:33:19.268739Z"
    },
    "papermill": {
     "duration": 0.072231,
     "end_time": "2021-08-29T00:33:19.269372",
     "exception": false,
     "start_time": "2021-08-29T00:33:19.197141",
     "status": "completed"
    },
    "tags": []
   },
   "outputs": [
    {
     "data": {
      "text/html": [
       "<div>\n",
       "<style scoped>\n",
       "    .dataframe tbody tr th:only-of-type {\n",
       "        vertical-align: middle;\n",
       "    }\n",
       "\n",
       "    .dataframe tbody tr th {\n",
       "        vertical-align: top;\n",
       "    }\n",
       "\n",
       "    .dataframe thead th {\n",
       "        text-align: right;\n",
       "    }\n",
       "</style>\n",
       "<table border=\"1\" class=\"dataframe\">\n",
       "  <thead>\n",
       "    <tr style=\"text-align: right;\">\n",
       "      <th></th>\n",
       "      <th>stock_id</th>\n",
       "      <th>time_id</th>\n",
       "      <th>row_id</th>\n",
       "      <th>log_return_realized_volatility</th>\n",
       "      <th>log_return2_realized_volatility</th>\n",
       "      <th>wap_balance_mean</th>\n",
       "      <th>price_spread_mean</th>\n",
       "      <th>bid_spread_mean</th>\n",
       "      <th>ask_spread_mean</th>\n",
       "      <th>volume_imbalance_mean</th>\n",
       "      <th>total_volume_mean</th>\n",
       "      <th>wap_mean</th>\n",
       "      <th>trade_log_return_realized_volatility</th>\n",
       "      <th>trade_seconds_in_bucket_count_unique</th>\n",
       "      <th>trade_size_sum</th>\n",
       "      <th>trade_order_count_mean</th>\n",
       "    </tr>\n",
       "  </thead>\n",
       "  <tbody>\n",
       "    <tr>\n",
       "      <th>0</th>\n",
       "      <td>0</td>\n",
       "      <td>4</td>\n",
       "      <td>0-4</td>\n",
       "      <td>0.000294</td>\n",
       "      <td>0.000252</td>\n",
       "      <td>0.000145</td>\n",
       "      <td>0.000557</td>\n",
       "      <td>0.000393</td>\n",
       "      <td>-0.000115</td>\n",
       "      <td>164.666667</td>\n",
       "      <td>350.666667</td>\n",
       "      <td>1.000405</td>\n",
       "      <td>0.000295</td>\n",
       "      <td>3.0</td>\n",
       "      <td>201.0</td>\n",
       "      <td>3.666667</td>\n",
       "    </tr>\n",
       "    <tr>\n",
       "      <th>1</th>\n",
       "      <td>0</td>\n",
       "      <td>32</td>\n",
       "      <td>0-32</td>\n",
       "      <td>NaN</td>\n",
       "      <td>NaN</td>\n",
       "      <td>NaN</td>\n",
       "      <td>NaN</td>\n",
       "      <td>NaN</td>\n",
       "      <td>NaN</td>\n",
       "      <td>NaN</td>\n",
       "      <td>NaN</td>\n",
       "      <td>NaN</td>\n",
       "      <td>NaN</td>\n",
       "      <td>NaN</td>\n",
       "      <td>NaN</td>\n",
       "      <td>NaN</td>\n",
       "    </tr>\n",
       "    <tr>\n",
       "      <th>2</th>\n",
       "      <td>0</td>\n",
       "      <td>34</td>\n",
       "      <td>0-34</td>\n",
       "      <td>NaN</td>\n",
       "      <td>NaN</td>\n",
       "      <td>NaN</td>\n",
       "      <td>NaN</td>\n",
       "      <td>NaN</td>\n",
       "      <td>NaN</td>\n",
       "      <td>NaN</td>\n",
       "      <td>NaN</td>\n",
       "      <td>NaN</td>\n",
       "      <td>NaN</td>\n",
       "      <td>NaN</td>\n",
       "      <td>NaN</td>\n",
       "      <td>NaN</td>\n",
       "    </tr>\n",
       "  </tbody>\n",
       "</table>\n",
       "</div>"
      ],
      "text/plain": [
       "   stock_id  time_id row_id  log_return_realized_volatility  \\\n",
       "0         0        4    0-4                        0.000294   \n",
       "1         0       32   0-32                             NaN   \n",
       "2         0       34   0-34                             NaN   \n",
       "\n",
       "   log_return2_realized_volatility  wap_balance_mean  price_spread_mean  \\\n",
       "0                         0.000252          0.000145           0.000557   \n",
       "1                              NaN               NaN                NaN   \n",
       "2                              NaN               NaN                NaN   \n",
       "\n",
       "   bid_spread_mean  ask_spread_mean  volume_imbalance_mean  total_volume_mean  \\\n",
       "0         0.000393        -0.000115             164.666667         350.666667   \n",
       "1              NaN              NaN                    NaN                NaN   \n",
       "2              NaN              NaN                    NaN                NaN   \n",
       "\n",
       "   wap_mean  trade_log_return_realized_volatility  \\\n",
       "0  1.000405                              0.000295   \n",
       "1       NaN                                   NaN   \n",
       "2       NaN                                   NaN   \n",
       "\n",
       "   trade_seconds_in_bucket_count_unique  trade_size_sum  \\\n",
       "0                                   3.0           201.0   \n",
       "1                                   NaN             NaN   \n",
       "2                                   NaN             NaN   \n",
       "\n",
       "   trade_order_count_mean  \n",
       "0                3.666667  \n",
       "1                     NaN  \n",
       "2                     NaN  "
      ]
     },
     "execution_count": 11,
     "metadata": {},
     "output_type": "execute_result"
    }
   ],
   "source": [
    "df_test = test.merge(df_test, on = ['row_id'], how = 'left')\n",
    "df_test.head()"
   ]
  },
  {
   "cell_type": "code",
   "execution_count": 12,
   "id": "f6ec90fa",
   "metadata": {
    "execution": {
     "iopub.execute_input": "2021-08-29T00:33:19.365373Z",
     "iopub.status.busy": "2021-08-29T00:33:19.364604Z",
     "iopub.status.idle": "2021-08-29T00:33:21.286746Z",
     "shell.execute_reply": "2021-08-29T00:33:21.285989Z"
    },
    "papermill": {
     "duration": 1.973989,
     "end_time": "2021-08-29T00:33:21.286896",
     "exception": false,
     "start_time": "2021-08-29T00:33:19.312907",
     "status": "completed"
    },
    "tags": []
   },
   "outputs": [],
   "source": [
    "from sklearn.model_selection import KFold\n",
    "#stock_id target encoding\n",
    "df_train['stock_id'] = df_train['row_id'].apply(lambda x:x.split('-')[0])\n",
    "df_test['stock_id'] = df_test['row_id'].apply(lambda x:x.split('-')[0])\n",
    "\n",
    "stock_id_target_mean = df_train.groupby('stock_id')['target'].mean() \n",
    "df_test['stock_id_target_enc'] = df_test['stock_id'].map(stock_id_target_mean) # test_set\n",
    "\n",
    "#training\n",
    "tmp = np.repeat(np.nan, df_train.shape[0])\n",
    "kf = KFold(n_splits = 10, shuffle=True,random_state = 19911109)\n",
    "for idx_1, idx_2 in kf.split(df_train):\n",
    "    target_mean = df_train.iloc[idx_1].groupby('stock_id')['target'].mean()\n",
    "\n",
    "    tmp[idx_2] = df_train['stock_id'].iloc[idx_2].map(target_mean)\n",
    "df_train['stock_id_target_enc'] = tmp"
   ]
  },
  {
   "cell_type": "markdown",
   "id": "9f90911b",
   "metadata": {
    "papermill": {
     "duration": 0.043977,
     "end_time": "2021-08-29T00:33:21.374599",
     "exception": false,
     "start_time": "2021-08-29T00:33:21.330622",
     "status": "completed"
    },
    "tags": []
   },
   "source": [
    "# Model Building"
   ]
  },
  {
   "cell_type": "code",
   "execution_count": 13,
   "id": "3afe9ae2",
   "metadata": {
    "execution": {
     "iopub.execute_input": "2021-08-29T00:33:21.466382Z",
     "iopub.status.busy": "2021-08-29T00:33:21.465399Z",
     "iopub.status.idle": "2021-08-29T00:33:21.488427Z",
     "shell.execute_reply": "2021-08-29T00:33:21.488880Z"
    },
    "papermill": {
     "duration": 0.070354,
     "end_time": "2021-08-29T00:33:21.489063",
     "exception": false,
     "start_time": "2021-08-29T00:33:21.418709",
     "status": "completed"
    },
    "tags": []
   },
   "outputs": [
    {
     "data": {
      "text/html": [
       "<div>\n",
       "<style scoped>\n",
       "    .dataframe tbody tr th:only-of-type {\n",
       "        vertical-align: middle;\n",
       "    }\n",
       "\n",
       "    .dataframe tbody tr th {\n",
       "        vertical-align: top;\n",
       "    }\n",
       "\n",
       "    .dataframe thead th {\n",
       "        text-align: right;\n",
       "    }\n",
       "</style>\n",
       "<table border=\"1\" class=\"dataframe\">\n",
       "  <thead>\n",
       "    <tr style=\"text-align: right;\">\n",
       "      <th></th>\n",
       "      <th>row_id</th>\n",
       "      <th>target</th>\n",
       "      <th>log_return_realized_volatility</th>\n",
       "      <th>log_return2_realized_volatility</th>\n",
       "      <th>wap_balance_mean</th>\n",
       "      <th>price_spread_mean</th>\n",
       "      <th>bid_spread_mean</th>\n",
       "      <th>ask_spread_mean</th>\n",
       "      <th>volume_imbalance_mean</th>\n",
       "      <th>total_volume_mean</th>\n",
       "      <th>wap_mean</th>\n",
       "      <th>trade_log_return_realized_volatility</th>\n",
       "      <th>trade_seconds_in_bucket_count_unique</th>\n",
       "      <th>trade_size_sum</th>\n",
       "      <th>trade_order_count_mean</th>\n",
       "      <th>stock_id</th>\n",
       "      <th>stock_id_target_enc</th>\n",
       "    </tr>\n",
       "  </thead>\n",
       "  <tbody>\n",
       "    <tr>\n",
       "      <th>0</th>\n",
       "      <td>0-5</td>\n",
       "      <td>0.004136</td>\n",
       "      <td>0.004499</td>\n",
       "      <td>0.006999</td>\n",
       "      <td>0.000388</td>\n",
       "      <td>0.000852</td>\n",
       "      <td>0.000176</td>\n",
       "      <td>-0.000151</td>\n",
       "      <td>134.894040</td>\n",
       "      <td>323.496689</td>\n",
       "      <td>1.003725</td>\n",
       "      <td>0.002006</td>\n",
       "      <td>40.0</td>\n",
       "      <td>3179.0</td>\n",
       "      <td>2.750000</td>\n",
       "      <td>0</td>\n",
       "      <td>0.004041</td>\n",
       "    </tr>\n",
       "    <tr>\n",
       "      <th>1</th>\n",
       "      <td>0-11</td>\n",
       "      <td>0.001445</td>\n",
       "      <td>0.001204</td>\n",
       "      <td>0.002476</td>\n",
       "      <td>0.000212</td>\n",
       "      <td>0.000394</td>\n",
       "      <td>0.000142</td>\n",
       "      <td>-0.000135</td>\n",
       "      <td>142.050000</td>\n",
       "      <td>411.450000</td>\n",
       "      <td>1.000239</td>\n",
       "      <td>0.000901</td>\n",
       "      <td>30.0</td>\n",
       "      <td>1289.0</td>\n",
       "      <td>1.900000</td>\n",
       "      <td>0</td>\n",
       "      <td>0.004039</td>\n",
       "    </tr>\n",
       "    <tr>\n",
       "      <th>2</th>\n",
       "      <td>0-16</td>\n",
       "      <td>0.002168</td>\n",
       "      <td>0.002369</td>\n",
       "      <td>0.004801</td>\n",
       "      <td>0.000331</td>\n",
       "      <td>0.000725</td>\n",
       "      <td>0.000197</td>\n",
       "      <td>-0.000198</td>\n",
       "      <td>141.414894</td>\n",
       "      <td>416.351064</td>\n",
       "      <td>0.999542</td>\n",
       "      <td>0.001961</td>\n",
       "      <td>25.0</td>\n",
       "      <td>2161.0</td>\n",
       "      <td>2.720000</td>\n",
       "      <td>0</td>\n",
       "      <td>0.004041</td>\n",
       "    </tr>\n",
       "    <tr>\n",
       "      <th>3</th>\n",
       "      <td>0-31</td>\n",
       "      <td>0.002195</td>\n",
       "      <td>0.002574</td>\n",
       "      <td>0.003637</td>\n",
       "      <td>0.000380</td>\n",
       "      <td>0.000860</td>\n",
       "      <td>0.000190</td>\n",
       "      <td>-0.000108</td>\n",
       "      <td>146.216667</td>\n",
       "      <td>435.266667</td>\n",
       "      <td>0.998832</td>\n",
       "      <td>0.001561</td>\n",
       "      <td>15.0</td>\n",
       "      <td>1962.0</td>\n",
       "      <td>3.933333</td>\n",
       "      <td>0</td>\n",
       "      <td>0.004013</td>\n",
       "    </tr>\n",
       "    <tr>\n",
       "      <th>4</th>\n",
       "      <td>0-62</td>\n",
       "      <td>0.001747</td>\n",
       "      <td>0.001894</td>\n",
       "      <td>0.003257</td>\n",
       "      <td>0.000254</td>\n",
       "      <td>0.000397</td>\n",
       "      <td>0.000191</td>\n",
       "      <td>-0.000109</td>\n",
       "      <td>123.846591</td>\n",
       "      <td>343.221591</td>\n",
       "      <td>0.999619</td>\n",
       "      <td>0.000871</td>\n",
       "      <td>22.0</td>\n",
       "      <td>1791.0</td>\n",
       "      <td>4.045455</td>\n",
       "      <td>0</td>\n",
       "      <td>0.004032</td>\n",
       "    </tr>\n",
       "  </tbody>\n",
       "</table>\n",
       "</div>"
      ],
      "text/plain": [
       "  row_id    target  log_return_realized_volatility  \\\n",
       "0    0-5  0.004136                        0.004499   \n",
       "1   0-11  0.001445                        0.001204   \n",
       "2   0-16  0.002168                        0.002369   \n",
       "3   0-31  0.002195                        0.002574   \n",
       "4   0-62  0.001747                        0.001894   \n",
       "\n",
       "   log_return2_realized_volatility  wap_balance_mean  price_spread_mean  \\\n",
       "0                         0.006999          0.000388           0.000852   \n",
       "1                         0.002476          0.000212           0.000394   \n",
       "2                         0.004801          0.000331           0.000725   \n",
       "3                         0.003637          0.000380           0.000860   \n",
       "4                         0.003257          0.000254           0.000397   \n",
       "\n",
       "   bid_spread_mean  ask_spread_mean  volume_imbalance_mean  total_volume_mean  \\\n",
       "0         0.000176        -0.000151             134.894040         323.496689   \n",
       "1         0.000142        -0.000135             142.050000         411.450000   \n",
       "2         0.000197        -0.000198             141.414894         416.351064   \n",
       "3         0.000190        -0.000108             146.216667         435.266667   \n",
       "4         0.000191        -0.000109             123.846591         343.221591   \n",
       "\n",
       "   wap_mean  trade_log_return_realized_volatility  \\\n",
       "0  1.003725                              0.002006   \n",
       "1  1.000239                              0.000901   \n",
       "2  0.999542                              0.001961   \n",
       "3  0.998832                              0.001561   \n",
       "4  0.999619                              0.000871   \n",
       "\n",
       "   trade_seconds_in_bucket_count_unique  trade_size_sum  \\\n",
       "0                                  40.0          3179.0   \n",
       "1                                  30.0          1289.0   \n",
       "2                                  25.0          2161.0   \n",
       "3                                  15.0          1962.0   \n",
       "4                                  22.0          1791.0   \n",
       "\n",
       "   trade_order_count_mean stock_id  stock_id_target_enc  \n",
       "0                2.750000        0             0.004041  \n",
       "1                1.900000        0             0.004039  \n",
       "2                2.720000        0             0.004041  \n",
       "3                3.933333        0             0.004013  \n",
       "4                4.045455        0             0.004032  "
      ]
     },
     "execution_count": 13,
     "metadata": {},
     "output_type": "execute_result"
    }
   ],
   "source": [
    "df_train.head()"
   ]
  },
  {
   "cell_type": "code",
   "execution_count": 14,
   "id": "34fcd377",
   "metadata": {
    "execution": {
     "iopub.execute_input": "2021-08-29T00:33:21.582205Z",
     "iopub.status.busy": "2021-08-29T00:33:21.581254Z",
     "iopub.status.idle": "2021-08-29T00:33:21.601463Z",
     "shell.execute_reply": "2021-08-29T00:33:21.601949Z"
    },
    "papermill": {
     "duration": 0.068617,
     "end_time": "2021-08-29T00:33:21.602126",
     "exception": false,
     "start_time": "2021-08-29T00:33:21.533509",
     "status": "completed"
    },
    "tags": []
   },
   "outputs": [
    {
     "data": {
      "text/html": [
       "<div>\n",
       "<style scoped>\n",
       "    .dataframe tbody tr th:only-of-type {\n",
       "        vertical-align: middle;\n",
       "    }\n",
       "\n",
       "    .dataframe tbody tr th {\n",
       "        vertical-align: top;\n",
       "    }\n",
       "\n",
       "    .dataframe thead th {\n",
       "        text-align: right;\n",
       "    }\n",
       "</style>\n",
       "<table border=\"1\" class=\"dataframe\">\n",
       "  <thead>\n",
       "    <tr style=\"text-align: right;\">\n",
       "      <th></th>\n",
       "      <th>stock_id</th>\n",
       "      <th>time_id</th>\n",
       "      <th>row_id</th>\n",
       "      <th>log_return_realized_volatility</th>\n",
       "      <th>log_return2_realized_volatility</th>\n",
       "      <th>wap_balance_mean</th>\n",
       "      <th>price_spread_mean</th>\n",
       "      <th>bid_spread_mean</th>\n",
       "      <th>ask_spread_mean</th>\n",
       "      <th>volume_imbalance_mean</th>\n",
       "      <th>total_volume_mean</th>\n",
       "      <th>wap_mean</th>\n",
       "      <th>trade_log_return_realized_volatility</th>\n",
       "      <th>trade_seconds_in_bucket_count_unique</th>\n",
       "      <th>trade_size_sum</th>\n",
       "      <th>trade_order_count_mean</th>\n",
       "      <th>stock_id_target_enc</th>\n",
       "    </tr>\n",
       "  </thead>\n",
       "  <tbody>\n",
       "    <tr>\n",
       "      <th>0</th>\n",
       "      <td>0</td>\n",
       "      <td>4</td>\n",
       "      <td>0-4</td>\n",
       "      <td>0.000294</td>\n",
       "      <td>0.000252</td>\n",
       "      <td>0.000145</td>\n",
       "      <td>0.000557</td>\n",
       "      <td>0.000393</td>\n",
       "      <td>-0.000115</td>\n",
       "      <td>164.666667</td>\n",
       "      <td>350.666667</td>\n",
       "      <td>1.000405</td>\n",
       "      <td>0.000295</td>\n",
       "      <td>3.0</td>\n",
       "      <td>201.0</td>\n",
       "      <td>3.666667</td>\n",
       "      <td>0.004028</td>\n",
       "    </tr>\n",
       "    <tr>\n",
       "      <th>1</th>\n",
       "      <td>0</td>\n",
       "      <td>32</td>\n",
       "      <td>0-32</td>\n",
       "      <td>NaN</td>\n",
       "      <td>NaN</td>\n",
       "      <td>NaN</td>\n",
       "      <td>NaN</td>\n",
       "      <td>NaN</td>\n",
       "      <td>NaN</td>\n",
       "      <td>NaN</td>\n",
       "      <td>NaN</td>\n",
       "      <td>NaN</td>\n",
       "      <td>NaN</td>\n",
       "      <td>NaN</td>\n",
       "      <td>NaN</td>\n",
       "      <td>NaN</td>\n",
       "      <td>0.004028</td>\n",
       "    </tr>\n",
       "    <tr>\n",
       "      <th>2</th>\n",
       "      <td>0</td>\n",
       "      <td>34</td>\n",
       "      <td>0-34</td>\n",
       "      <td>NaN</td>\n",
       "      <td>NaN</td>\n",
       "      <td>NaN</td>\n",
       "      <td>NaN</td>\n",
       "      <td>NaN</td>\n",
       "      <td>NaN</td>\n",
       "      <td>NaN</td>\n",
       "      <td>NaN</td>\n",
       "      <td>NaN</td>\n",
       "      <td>NaN</td>\n",
       "      <td>NaN</td>\n",
       "      <td>NaN</td>\n",
       "      <td>NaN</td>\n",
       "      <td>0.004028</td>\n",
       "    </tr>\n",
       "  </tbody>\n",
       "</table>\n",
       "</div>"
      ],
      "text/plain": [
       "  stock_id  time_id row_id  log_return_realized_volatility  \\\n",
       "0        0        4    0-4                        0.000294   \n",
       "1        0       32   0-32                             NaN   \n",
       "2        0       34   0-34                             NaN   \n",
       "\n",
       "   log_return2_realized_volatility  wap_balance_mean  price_spread_mean  \\\n",
       "0                         0.000252          0.000145           0.000557   \n",
       "1                              NaN               NaN                NaN   \n",
       "2                              NaN               NaN                NaN   \n",
       "\n",
       "   bid_spread_mean  ask_spread_mean  volume_imbalance_mean  total_volume_mean  \\\n",
       "0         0.000393        -0.000115             164.666667         350.666667   \n",
       "1              NaN              NaN                    NaN                NaN   \n",
       "2              NaN              NaN                    NaN                NaN   \n",
       "\n",
       "   wap_mean  trade_log_return_realized_volatility  \\\n",
       "0  1.000405                              0.000295   \n",
       "1       NaN                                   NaN   \n",
       "2       NaN                                   NaN   \n",
       "\n",
       "   trade_seconds_in_bucket_count_unique  trade_size_sum  \\\n",
       "0                                   3.0           201.0   \n",
       "1                                   NaN             NaN   \n",
       "2                                   NaN             NaN   \n",
       "\n",
       "   trade_order_count_mean  stock_id_target_enc  \n",
       "0                3.666667             0.004028  \n",
       "1                     NaN             0.004028  \n",
       "2                     NaN             0.004028  "
      ]
     },
     "execution_count": 14,
     "metadata": {},
     "output_type": "execute_result"
    }
   ],
   "source": [
    "df_test.head()"
   ]
  },
  {
   "cell_type": "code",
   "execution_count": 15,
   "id": "3c2722c2",
   "metadata": {
    "execution": {
     "iopub.execute_input": "2021-08-29T00:33:21.695971Z",
     "iopub.status.busy": "2021-08-29T00:33:21.695013Z",
     "iopub.status.idle": "2021-08-29T00:33:21.698957Z",
     "shell.execute_reply": "2021-08-29T00:33:21.699441Z"
    },
    "papermill": {
     "duration": 0.052464,
     "end_time": "2021-08-29T00:33:21.699631",
     "exception": false,
     "start_time": "2021-08-29T00:33:21.647167",
     "status": "completed"
    },
    "tags": []
   },
   "outputs": [],
   "source": [
    "DO_FEAT_IMP = False\n",
    "if len(df_test)==3:\n",
    "    DO_FEAT_IMP = True"
   ]
  },
  {
   "cell_type": "markdown",
   "id": "cf26f5d5",
   "metadata": {
    "papermill": {
     "duration": 0.045194,
     "end_time": "2021-08-29T00:33:21.790626",
     "exception": false,
     "start_time": "2021-08-29T00:33:21.745432",
     "status": "completed"
    },
    "tags": []
   },
   "source": [
    "# LightGBM"
   ]
  },
  {
   "cell_type": "code",
   "execution_count": 16,
   "id": "885a3614",
   "metadata": {
    "execution": {
     "iopub.execute_input": "2021-08-29T00:33:21.884976Z",
     "iopub.status.busy": "2021-08-29T00:33:21.884319Z",
     "iopub.status.idle": "2021-08-29T00:33:23.031885Z",
     "shell.execute_reply": "2021-08-29T00:33:23.031288Z"
    },
    "papermill": {
     "duration": 1.19544,
     "end_time": "2021-08-29T00:33:23.032024",
     "exception": false,
     "start_time": "2021-08-29T00:33:21.836584",
     "status": "completed"
    },
    "tags": []
   },
   "outputs": [
    {
     "data": {
      "text/html": [
       "<style type='text/css'>\n",
       ".datatable table.frame { margin-bottom: 0; }\n",
       ".datatable table.frame thead { border-bottom: none; }\n",
       ".datatable table.frame tr.coltypes td {  color: #FFFFFF;  line-height: 6px;  padding: 0 0.5em;}\n",
       ".datatable .bool    { background: #DDDD99; }\n",
       ".datatable .object  { background: #565656; }\n",
       ".datatable .int     { background: #5D9E5D; }\n",
       ".datatable .float   { background: #4040CC; }\n",
       ".datatable .str     { background: #CC4040; }\n",
       ".datatable .time    { background: #40CC40; }\n",
       ".datatable .row_index {  background: var(--jp-border-color3);  border-right: 1px solid var(--jp-border-color0);  color: var(--jp-ui-font-color3);  font-size: 9px;}\n",
       ".datatable .frame tbody td { text-align: left; }\n",
       ".datatable .frame tr.coltypes .row_index {  background: var(--jp-border-color0);}\n",
       ".datatable th:nth-child(2) { padding-left: 12px; }\n",
       ".datatable .hellipsis {  color: var(--jp-cell-editor-border-color);}\n",
       ".datatable .vellipsis {  background: var(--jp-layout-color0);  color: var(--jp-cell-editor-border-color);}\n",
       ".datatable .na {  color: var(--jp-cell-editor-border-color);  font-size: 80%;}\n",
       ".datatable .sp {  opacity: 0.25;}\n",
       ".datatable .footer { font-size: 9px; }\n",
       ".datatable .frame_dimensions {  background: var(--jp-border-color3);  border-top: 1px solid var(--jp-border-color0);  color: var(--jp-ui-font-color3);  display: inline-block;  opacity: 0.6;  padding: 1px 10px 1px 5px;}\n",
       "</style>\n"
      ],
      "text/plain": [
       "<IPython.core.display.HTML object>"
      ]
     },
     "metadata": {},
     "output_type": "display_data"
    }
   ],
   "source": [
    "import lightgbm as lgbm"
   ]
  },
  {
   "cell_type": "code",
   "execution_count": 17,
   "id": "ab9ffba8",
   "metadata": {
    "execution": {
     "iopub.execute_input": "2021-08-29T00:33:23.132364Z",
     "iopub.status.busy": "2021-08-29T00:33:23.131698Z",
     "iopub.status.idle": "2021-08-29T00:33:23.133610Z",
     "shell.execute_reply": "2021-08-29T00:33:23.134093Z"
    },
    "papermill": {
     "duration": 0.05602,
     "end_time": "2021-08-29T00:33:23.134264",
     "exception": false,
     "start_time": "2021-08-29T00:33:23.078244",
     "status": "completed"
    },
    "tags": []
   },
   "outputs": [],
   "source": [
    "# ref https://www.kaggle.com/corochann/permutation-importance-for-feature-selection-part1\n",
    "def calc_model_importance(model, feature_names=None, importance_type='gain'):\n",
    "    importance_df = pd.DataFrame(model.feature_importance(importance_type=importance_type),\n",
    "                                 index=feature_names,\n",
    "                                 columns=['importance']).sort_values('importance')\n",
    "    return importance_df\n",
    "\n",
    "\n",
    "def plot_importance(importance_df, title='',\n",
    "                    save_filepath=None, figsize=(8, 12)):\n",
    "    fig, ax = plt.subplots(figsize=figsize)\n",
    "    importance_df.plot.barh(ax=ax)\n",
    "    if title:\n",
    "        plt.title(title)\n",
    "    plt.tight_layout()\n",
    "    if save_filepath is None:\n",
    "        plt.show()\n",
    "    else:\n",
    "        plt.savefig(save_filepath)\n",
    "    plt.close()"
   ]
  },
  {
   "cell_type": "code",
   "execution_count": 18,
   "id": "7f5735ec",
   "metadata": {
    "execution": {
     "iopub.execute_input": "2021-08-29T00:33:23.229885Z",
     "iopub.status.busy": "2021-08-29T00:33:23.229260Z",
     "iopub.status.idle": "2021-08-29T00:33:23.316669Z",
     "shell.execute_reply": "2021-08-29T00:33:23.317170Z"
    },
    "papermill": {
     "duration": 0.136719,
     "end_time": "2021-08-29T00:33:23.317354",
     "exception": false,
     "start_time": "2021-08-29T00:33:23.180635",
     "status": "completed"
    },
    "tags": []
   },
   "outputs": [],
   "source": [
    "df_train['stock_id'] = df_train['stock_id'].astype(int)\n",
    "df_test['stock_id'] = df_test['stock_id'].astype(int)\n",
    "X = df_train.drop(['row_id','target'],axis=1)\n",
    "y = df_train['target']"
   ]
  },
  {
   "cell_type": "code",
   "execution_count": 19,
   "id": "96a51650",
   "metadata": {
    "execution": {
     "iopub.execute_input": "2021-08-29T00:33:23.413208Z",
     "iopub.status.busy": "2021-08-29T00:33:23.412559Z",
     "iopub.status.idle": "2021-08-29T00:33:23.418620Z",
     "shell.execute_reply": "2021-08-29T00:33:23.419138Z"
    },
    "papermill": {
     "duration": 0.055538,
     "end_time": "2021-08-29T00:33:23.419298",
     "exception": false,
     "start_time": "2021-08-29T00:33:23.363760",
     "status": "completed"
    },
    "tags": []
   },
   "outputs": [],
   "source": [
    "def rmspe(y_true, y_pred):\n",
    "    return  (np.sqrt(np.mean(np.square((y_true - y_pred) / y_true))))\n",
    "\n",
    "def feval_RMSPE(preds, lgbm_train):\n",
    "    labels = lgbm_train.get_label()\n",
    "    return 'RMSPE', round(rmspe(y_true = labels, y_pred = preds),5), False\n",
    "\n",
    "params = {\n",
    "      \"objective\": \"rmse\", \n",
    "      \"metric\": \"rmse\", \n",
    "      \"boosting_type\": \"gbdt\",\n",
    "      'early_stopping_rounds': 30,\n",
    "      'learning_rate': 0.01,\n",
    "      'lambda_l1': 1,\n",
    "      'lambda_l2': 1,\n",
    "      'feature_fraction': 0.8,\n",
    "      'bagging_fraction': 0.8,\n",
    "  }"
   ]
  },
  {
   "cell_type": "markdown",
   "id": "9fac5704",
   "metadata": {
    "papermill": {
     "duration": 0.046456,
     "end_time": "2021-08-29T00:33:23.512221",
     "exception": false,
     "start_time": "2021-08-29T00:33:23.465765",
     "status": "completed"
    },
    "tags": []
   },
   "source": [
    "# Cross Validation"
   ]
  },
  {
   "cell_type": "code",
   "execution_count": 20,
   "id": "07ef67bc",
   "metadata": {
    "execution": {
     "iopub.execute_input": "2021-08-29T00:33:23.608796Z",
     "iopub.status.busy": "2021-08-29T00:33:23.608153Z",
     "iopub.status.idle": "2021-08-29T00:33:23.613047Z",
     "shell.execute_reply": "2021-08-29T00:33:23.613668Z"
    },
    "papermill": {
     "duration": 0.054955,
     "end_time": "2021-08-29T00:33:23.613849",
     "exception": false,
     "start_time": "2021-08-29T00:33:23.558894",
     "status": "completed"
    },
    "tags": []
   },
   "outputs": [],
   "source": [
    "from sklearn.model_selection import KFold\n",
    "kf = KFold(n_splits=5, random_state=19901028, shuffle=True)\n",
    "oof = pd.DataFrame()                 # out-of-fold result\n",
    "models = []                          # models\n",
    "scores = 0.0                         # validation score\n",
    "\n",
    "gain_importance_list = []\n",
    "split_importance_list = []"
   ]
  },
  {
   "cell_type": "code",
   "execution_count": 21,
   "id": "d998ea64",
   "metadata": {
    "execution": {
     "iopub.execute_input": "2021-08-29T00:33:23.711187Z",
     "iopub.status.busy": "2021-08-29T00:33:23.710515Z",
     "iopub.status.idle": "2021-08-29T00:38:00.379129Z",
     "shell.execute_reply": "2021-08-29T00:38:00.379678Z"
    },
    "papermill": {
     "duration": 276.719168,
     "end_time": "2021-08-29T00:38:00.379866",
     "exception": false,
     "start_time": "2021-08-29T00:33:23.660698",
     "status": "completed"
    },
    "tags": []
   },
   "outputs": [
    {
     "name": "stdout",
     "output_type": "stream",
     "text": [
      "Fold : 1\n"
     ]
    },
    {
     "name": "stderr",
     "output_type": "stream",
     "text": [
      "/opt/conda/lib/python3.7/site-packages/lightgbm/engine.py:153: UserWarning: Found `early_stopping_rounds` in params. Will use it instead of argument\n",
      "  _log_warning(\"Found `{}` in params. Will use it instead of argument\".format(alias))\n",
      "/opt/conda/lib/python3.7/site-packages/lightgbm/basic.py:1706: UserWarning: categorical_feature in Dataset is overridden.\n",
      "New categorical_feature is ['stock_id']\n",
      "  'New categorical_feature is {}'.format(sorted(list(categorical_feature))))\n"
     ]
    },
    {
     "name": "stdout",
     "output_type": "stream",
     "text": [
      "[LightGBM] [Warning] Auto-choosing col-wise multi-threading, the overhead of testing was 0.030046 seconds.\n",
      "You can set `force_col_wise=true` to remove the overhead.\n",
      "[LightGBM] [Info] Total Bins 3682\n",
      "[LightGBM] [Info] Number of data points in the train set: 343145, number of used features: 15\n",
      "[LightGBM] [Info] Start training from score 0.001800\n",
      "Training until validation scores don't improve for 30 rounds\n"
     ]
    },
    {
     "name": "stderr",
     "output_type": "stream",
     "text": [
      "/opt/conda/lib/python3.7/site-packages/lightgbm/basic.py:1433: UserWarning: Overriding the parameters from Reference Dataset.\n",
      "  _log_warning('Overriding the parameters from Reference Dataset.')\n",
      "/opt/conda/lib/python3.7/site-packages/lightgbm/basic.py:1245: UserWarning: categorical_column in param dict is overridden.\n",
      "  _log_warning('{} in param dict is overridden.'.format(cat_alias))\n"
     ]
    },
    {
     "name": "stdout",
     "output_type": "stream",
     "text": [
      "[100]\ttraining's rmse: 0.000666125\ttraining's RMSPE: 0.30828\tvalid_1's rmse: 0.000667347\tvalid_1's RMSPE: 0.30891\n",
      "[200]\ttraining's rmse: 0.000545829\ttraining's RMSPE: 0.25261\tvalid_1's rmse: 0.000549351\tvalid_1's RMSPE: 0.25429\n",
      "[300]\ttraining's rmse: 0.000520643\ttraining's RMSPE: 0.24095\tvalid_1's rmse: 0.000525166\tvalid_1's RMSPE: 0.2431\n",
      "[400]\ttraining's rmse: 0.000513117\ttraining's RMSPE: 0.23747\tvalid_1's rmse: 0.000518593\tvalid_1's RMSPE: 0.24006\n",
      "[500]\ttraining's rmse: 0.000509306\ttraining's RMSPE: 0.2357\tvalid_1's rmse: 0.000515605\tvalid_1's RMSPE: 0.23867\n",
      "[600]\ttraining's rmse: 0.000506544\ttraining's RMSPE: 0.23442\tvalid_1's rmse: 0.000513722\tvalid_1's RMSPE: 0.2378\n",
      "[700]\ttraining's rmse: 0.000504381\ttraining's RMSPE: 0.23342\tvalid_1's rmse: 0.000512353\tvalid_1's RMSPE: 0.23717\n",
      "[800]\ttraining's rmse: 0.000502443\ttraining's RMSPE: 0.23253\tvalid_1's rmse: 0.000511437\tvalid_1's RMSPE: 0.23674\n",
      "[900]\ttraining's rmse: 0.000500699\ttraining's RMSPE: 0.23172\tvalid_1's rmse: 0.000510658\tvalid_1's RMSPE: 0.23638\n",
      "[1000]\ttraining's rmse: 0.000499129\ttraining's RMSPE: 0.23099\tvalid_1's rmse: 0.000510002\tvalid_1's RMSPE: 0.23608\n",
      "[1100]\ttraining's rmse: 0.000497688\ttraining's RMSPE: 0.23033\tvalid_1's rmse: 0.000509433\tvalid_1's RMSPE: 0.23581\n",
      "[1200]\ttraining's rmse: 0.000496393\ttraining's RMSPE: 0.22973\tvalid_1's rmse: 0.00050886\tvalid_1's RMSPE: 0.23555\n",
      "[1300]\ttraining's rmse: 0.000495176\ttraining's RMSPE: 0.22916\tvalid_1's rmse: 0.00050842\tvalid_1's RMSPE: 0.23535\n",
      "[1400]\ttraining's rmse: 0.000494082\ttraining's RMSPE: 0.22866\tvalid_1's rmse: 0.000508066\tvalid_1's RMSPE: 0.23518\n",
      "[1500]\ttraining's rmse: 0.000493028\ttraining's RMSPE: 0.22817\tvalid_1's rmse: 0.000507724\tvalid_1's RMSPE: 0.23502\n",
      "[1600]\ttraining's rmse: 0.000492018\ttraining's RMSPE: 0.2277\tvalid_1's rmse: 0.000507392\tvalid_1's RMSPE: 0.23487\n",
      "[1700]\ttraining's rmse: 0.000491094\ttraining's RMSPE: 0.22727\tvalid_1's rmse: 0.000507167\tvalid_1's RMSPE: 0.23477\n",
      "[1800]\ttraining's rmse: 0.000490192\ttraining's RMSPE: 0.22686\tvalid_1's rmse: 0.000506934\tvalid_1's RMSPE: 0.23466\n",
      "[1900]\ttraining's rmse: 0.000489314\ttraining's RMSPE: 0.22645\tvalid_1's rmse: 0.00050667\tvalid_1's RMSPE: 0.23454\n",
      "[2000]\ttraining's rmse: 0.000488495\ttraining's RMSPE: 0.22607\tvalid_1's rmse: 0.000506415\tvalid_1's RMSPE: 0.23442\n",
      "[2100]\ttraining's rmse: 0.000487713\ttraining's RMSPE: 0.22571\tvalid_1's rmse: 0.000506191\tvalid_1's RMSPE: 0.23431\n",
      "[2200]\ttraining's rmse: 0.000486935\ttraining's RMSPE: 0.22535\tvalid_1's rmse: 0.000505993\tvalid_1's RMSPE: 0.23422\n",
      "[2300]\ttraining's rmse: 0.000486205\ttraining's RMSPE: 0.22501\tvalid_1's rmse: 0.000505799\tvalid_1's RMSPE: 0.23413\n",
      "[2400]\ttraining's rmse: 0.000485499\ttraining's RMSPE: 0.22468\tvalid_1's rmse: 0.000505642\tvalid_1's RMSPE: 0.23406\n",
      "[2500]\ttraining's rmse: 0.000484788\ttraining's RMSPE: 0.22436\tvalid_1's rmse: 0.000505494\tvalid_1's RMSPE: 0.23399\n",
      "Early stopping, best iteration is:\n",
      "[2565]\ttraining's rmse: 0.000484333\ttraining's RMSPE: 0.22415\tvalid_1's rmse: 0.000505371\tvalid_1's RMSPE: 0.23393\n",
      "Performance of the　prediction: , RMSPE: 0.234\n",
      "****************************************************************************************************\n",
      "Fold : 2\n"
     ]
    },
    {
     "name": "stderr",
     "output_type": "stream",
     "text": [
      "/opt/conda/lib/python3.7/site-packages/lightgbm/engine.py:153: UserWarning: Found `early_stopping_rounds` in params. Will use it instead of argument\n",
      "  _log_warning(\"Found `{}` in params. Will use it instead of argument\".format(alias))\n",
      "/opt/conda/lib/python3.7/site-packages/lightgbm/basic.py:1706: UserWarning: categorical_feature in Dataset is overridden.\n",
      "New categorical_feature is ['stock_id']\n",
      "  'New categorical_feature is {}'.format(sorted(list(categorical_feature))))\n"
     ]
    },
    {
     "name": "stdout",
     "output_type": "stream",
     "text": [
      "[LightGBM] [Warning] Auto-choosing col-wise multi-threading, the overhead of testing was 0.028962 seconds.\n",
      "You can set `force_col_wise=true` to remove the overhead.\n",
      "[LightGBM] [Info] Total Bins 3682\n",
      "[LightGBM] [Info] Number of data points in the train set: 343145, number of used features: 15\n",
      "[LightGBM] [Info] Start training from score 0.001795\n",
      "Training until validation scores don't improve for 30 rounds\n"
     ]
    },
    {
     "name": "stderr",
     "output_type": "stream",
     "text": [
      "/opt/conda/lib/python3.7/site-packages/lightgbm/basic.py:1433: UserWarning: Overriding the parameters from Reference Dataset.\n",
      "  _log_warning('Overriding the parameters from Reference Dataset.')\n",
      "/opt/conda/lib/python3.7/site-packages/lightgbm/basic.py:1245: UserWarning: categorical_column in param dict is overridden.\n",
      "  _log_warning('{} in param dict is overridden.'.format(cat_alias))\n"
     ]
    },
    {
     "name": "stdout",
     "output_type": "stream",
     "text": [
      "[100]\ttraining's rmse: 0.000665154\ttraining's RMSPE: 0.30851\tvalid_1's rmse: 0.00066811\tvalid_1's RMSPE: 0.3065\n",
      "[200]\ttraining's rmse: 0.00054461\ttraining's RMSPE: 0.2526\tvalid_1's rmse: 0.000551492\tvalid_1's RMSPE: 0.253\n",
      "[300]\ttraining's rmse: 0.000519427\ttraining's RMSPE: 0.24092\tvalid_1's rmse: 0.000528685\tvalid_1's RMSPE: 0.24253\n",
      "[400]\ttraining's rmse: 0.000511848\ttraining's RMSPE: 0.23741\tvalid_1's rmse: 0.000522789\tvalid_1's RMSPE: 0.23983\n",
      "[500]\ttraining's rmse: 0.000507932\ttraining's RMSPE: 0.23559\tvalid_1's rmse: 0.00052019\tvalid_1's RMSPE: 0.23864\n",
      "[600]\ttraining's rmse: 0.000505253\ttraining's RMSPE: 0.23435\tvalid_1's rmse: 0.000518489\tvalid_1's RMSPE: 0.23786\n",
      "[700]\ttraining's rmse: 0.000503088\ttraining's RMSPE: 0.23334\tvalid_1's rmse: 0.000517242\tvalid_1's RMSPE: 0.23728\n",
      "[800]\ttraining's rmse: 0.000501184\ttraining's RMSPE: 0.23246\tvalid_1's rmse: 0.000516244\tvalid_1's RMSPE: 0.23683\n",
      "[900]\ttraining's rmse: 0.000499481\ttraining's RMSPE: 0.23167\tvalid_1's rmse: 0.000515529\tvalid_1's RMSPE: 0.2365\n",
      "[1000]\ttraining's rmse: 0.000497949\ttraining's RMSPE: 0.23096\tvalid_1's rmse: 0.000514932\tvalid_1's RMSPE: 0.23623\n",
      "[1100]\ttraining's rmse: 0.000496562\ttraining's RMSPE: 0.23032\tvalid_1's rmse: 0.000514448\tvalid_1's RMSPE: 0.236\n",
      "[1200]\ttraining's rmse: 0.000495267\ttraining's RMSPE: 0.22972\tvalid_1's rmse: 0.000514002\tvalid_1's RMSPE: 0.2358\n",
      "[1300]\ttraining's rmse: 0.000494058\ttraining's RMSPE: 0.22916\tvalid_1's rmse: 0.000513614\tvalid_1's RMSPE: 0.23562\n",
      "[1400]\ttraining's rmse: 0.000492931\ttraining's RMSPE: 0.22863\tvalid_1's rmse: 0.000513275\tvalid_1's RMSPE: 0.23546\n",
      "[1500]\ttraining's rmse: 0.000491864\ttraining's RMSPE: 0.22814\tvalid_1's rmse: 0.000512942\tvalid_1's RMSPE: 0.23531\n",
      "[1600]\ttraining's rmse: 0.000490857\ttraining's RMSPE: 0.22767\tvalid_1's rmse: 0.000512629\tvalid_1's RMSPE: 0.23517\n",
      "[1700]\ttraining's rmse: 0.000489918\ttraining's RMSPE: 0.22724\tvalid_1's rmse: 0.00051237\tvalid_1's RMSPE: 0.23505\n",
      "[1800]\ttraining's rmse: 0.00048902\ttraining's RMSPE: 0.22682\tvalid_1's rmse: 0.000512133\tvalid_1's RMSPE: 0.23494\n",
      "[1900]\ttraining's rmse: 0.000488176\ttraining's RMSPE: 0.22643\tvalid_1's rmse: 0.000511947\tvalid_1's RMSPE: 0.23486\n",
      "[2000]\ttraining's rmse: 0.000487338\ttraining's RMSPE: 0.22604\tvalid_1's rmse: 0.000511765\tvalid_1's RMSPE: 0.23477\n",
      "[2100]\ttraining's rmse: 0.00048653\ttraining's RMSPE: 0.22566\tvalid_1's rmse: 0.000511615\tvalid_1's RMSPE: 0.2347\n",
      "Early stopping, best iteration is:\n",
      "[2107]\ttraining's rmse: 0.000486475\ttraining's RMSPE: 0.22564\tvalid_1's rmse: 0.000511597\tvalid_1's RMSPE: 0.23469\n",
      "Performance of the　prediction: , RMSPE: 0.235\n",
      "****************************************************************************************************\n",
      "Fold : 3\n"
     ]
    },
    {
     "name": "stderr",
     "output_type": "stream",
     "text": [
      "/opt/conda/lib/python3.7/site-packages/lightgbm/engine.py:153: UserWarning: Found `early_stopping_rounds` in params. Will use it instead of argument\n",
      "  _log_warning(\"Found `{}` in params. Will use it instead of argument\".format(alias))\n",
      "/opt/conda/lib/python3.7/site-packages/lightgbm/basic.py:1706: UserWarning: categorical_feature in Dataset is overridden.\n",
      "New categorical_feature is ['stock_id']\n",
      "  'New categorical_feature is {}'.format(sorted(list(categorical_feature))))\n"
     ]
    },
    {
     "name": "stdout",
     "output_type": "stream",
     "text": [
      "[LightGBM] [Warning] Auto-choosing col-wise multi-threading, the overhead of testing was 0.027984 seconds.\n",
      "You can set `force_col_wise=true` to remove the overhead.\n",
      "[LightGBM] [Info] Total Bins 3682\n",
      "[LightGBM] [Info] Number of data points in the train set: 343146, number of used features: 15\n",
      "[LightGBM] [Info] Start training from score 0.001800\n",
      "Training until validation scores don't improve for 30 rounds\n"
     ]
    },
    {
     "name": "stderr",
     "output_type": "stream",
     "text": [
      "/opt/conda/lib/python3.7/site-packages/lightgbm/basic.py:1433: UserWarning: Overriding the parameters from Reference Dataset.\n",
      "  _log_warning('Overriding the parameters from Reference Dataset.')\n",
      "/opt/conda/lib/python3.7/site-packages/lightgbm/basic.py:1245: UserWarning: categorical_column in param dict is overridden.\n",
      "  _log_warning('{} in param dict is overridden.'.format(cat_alias))\n"
     ]
    },
    {
     "name": "stdout",
     "output_type": "stream",
     "text": [
      "[100]\ttraining's rmse: 0.000665965\ttraining's RMSPE: 0.30821\tvalid_1's rmse: 0.000667537\tvalid_1's RMSPE: 0.30899\n",
      "[200]\ttraining's rmse: 0.00054562\ttraining's RMSPE: 0.25251\tvalid_1's rmse: 0.000550408\tvalid_1's RMSPE: 0.25477\n",
      "[300]\ttraining's rmse: 0.000520333\ttraining's RMSPE: 0.24081\tvalid_1's rmse: 0.000526995\tvalid_1's RMSPE: 0.24393\n",
      "[400]\ttraining's rmse: 0.000512818\ttraining's RMSPE: 0.23733\tvalid_1's rmse: 0.000520878\tvalid_1's RMSPE: 0.2411\n",
      "[500]\ttraining's rmse: 0.000508888\ttraining's RMSPE: 0.23551\tvalid_1's rmse: 0.000518732\tvalid_1's RMSPE: 0.24011\n",
      "[600]\ttraining's rmse: 0.000506194\ttraining's RMSPE: 0.23426\tvalid_1's rmse: 0.000517457\tvalid_1's RMSPE: 0.23952\n",
      "[700]\ttraining's rmse: 0.000504019\ttraining's RMSPE: 0.23326\tvalid_1's rmse: 0.000517131\tvalid_1's RMSPE: 0.23937\n",
      "[800]\ttraining's rmse: 0.000502076\ttraining's RMSPE: 0.23236\tvalid_1's rmse: 0.000516586\tvalid_1's RMSPE: 0.23912\n",
      "Early stopping, best iteration is:\n",
      "[775]\ttraining's rmse: 0.000502548\ttraining's RMSPE: 0.23258\tvalid_1's rmse: 0.000516488\tvalid_1's RMSPE: 0.23907\n",
      "Performance of the　prediction: , RMSPE: 0.239\n",
      "****************************************************************************************************\n",
      "Fold : 4\n"
     ]
    },
    {
     "name": "stderr",
     "output_type": "stream",
     "text": [
      "/opt/conda/lib/python3.7/site-packages/lightgbm/engine.py:153: UserWarning: Found `early_stopping_rounds` in params. Will use it instead of argument\n",
      "  _log_warning(\"Found `{}` in params. Will use it instead of argument\".format(alias))\n",
      "/opt/conda/lib/python3.7/site-packages/lightgbm/basic.py:1706: UserWarning: categorical_feature in Dataset is overridden.\n",
      "New categorical_feature is ['stock_id']\n",
      "  'New categorical_feature is {}'.format(sorted(list(categorical_feature))))\n"
     ]
    },
    {
     "name": "stdout",
     "output_type": "stream",
     "text": [
      "[LightGBM] [Warning] Auto-choosing col-wise multi-threading, the overhead of testing was 0.031426 seconds.\n",
      "You can set `force_col_wise=true` to remove the overhead.\n",
      "[LightGBM] [Info] Total Bins 3682\n",
      "[LightGBM] [Info] Number of data points in the train set: 343146, number of used features: 15\n",
      "[LightGBM] [Info] Start training from score 0.001805\n",
      "Training until validation scores don't improve for 30 rounds\n"
     ]
    },
    {
     "name": "stderr",
     "output_type": "stream",
     "text": [
      "/opt/conda/lib/python3.7/site-packages/lightgbm/basic.py:1433: UserWarning: Overriding the parameters from Reference Dataset.\n",
      "  _log_warning('Overriding the parameters from Reference Dataset.')\n",
      "/opt/conda/lib/python3.7/site-packages/lightgbm/basic.py:1245: UserWarning: categorical_column in param dict is overridden.\n",
      "  _log_warning('{} in param dict is overridden.'.format(cat_alias))\n"
     ]
    },
    {
     "name": "stdout",
     "output_type": "stream",
     "text": [
      "[100]\ttraining's rmse: 0.00066572\ttraining's RMSPE: 0.30763\tvalid_1's rmse: 0.000671139\tvalid_1's RMSPE: 0.31251\n",
      "[200]\ttraining's rmse: 0.00054547\ttraining's RMSPE: 0.25206\tvalid_1's rmse: 0.00055211\tvalid_1's RMSPE: 0.25708\n",
      "[300]\ttraining's rmse: 0.000520343\ttraining's RMSPE: 0.24045\tvalid_1's rmse: 0.000528312\tvalid_1's RMSPE: 0.246\n",
      "[400]\ttraining's rmse: 0.000512781\ttraining's RMSPE: 0.23696\tvalid_1's rmse: 0.000522946\tvalid_1's RMSPE: 0.2435\n",
      "[500]\ttraining's rmse: 0.000508952\ttraining's RMSPE: 0.23519\tvalid_1's rmse: 0.000521103\tvalid_1's RMSPE: 0.24264\n",
      "[600]\ttraining's rmse: 0.000506207\ttraining's RMSPE: 0.23392\tvalid_1's rmse: 0.000520078\tvalid_1's RMSPE: 0.24217\n",
      "[700]\ttraining's rmse: 0.000504003\ttraining's RMSPE: 0.2329\tvalid_1's rmse: 0.000519572\tvalid_1's RMSPE: 0.24193\n",
      "Early stopping, best iteration is:\n",
      "[716]\ttraining's rmse: 0.000503682\ttraining's RMSPE: 0.23275\tvalid_1's rmse: 0.000519507\tvalid_1's RMSPE: 0.2419\n",
      "Performance of the　prediction: , RMSPE: 0.242\n",
      "****************************************************************************************************\n",
      "Fold : 5\n"
     ]
    },
    {
     "name": "stderr",
     "output_type": "stream",
     "text": [
      "/opt/conda/lib/python3.7/site-packages/lightgbm/engine.py:153: UserWarning: Found `early_stopping_rounds` in params. Will use it instead of argument\n",
      "  _log_warning(\"Found `{}` in params. Will use it instead of argument\".format(alias))\n",
      "/opt/conda/lib/python3.7/site-packages/lightgbm/basic.py:1706: UserWarning: categorical_feature in Dataset is overridden.\n",
      "New categorical_feature is ['stock_id']\n",
      "  'New categorical_feature is {}'.format(sorted(list(categorical_feature))))\n"
     ]
    },
    {
     "name": "stdout",
     "output_type": "stream",
     "text": [
      "[LightGBM] [Warning] Auto-choosing col-wise multi-threading, the overhead of testing was 0.030334 seconds.\n",
      "You can set `force_col_wise=true` to remove the overhead.\n",
      "[LightGBM] [Info] Total Bins 3682\n",
      "[LightGBM] [Info] Number of data points in the train set: 343146, number of used features: 15\n",
      "[LightGBM] [Info] Start training from score 0.001802\n",
      "Training until validation scores don't improve for 30 rounds\n"
     ]
    },
    {
     "name": "stderr",
     "output_type": "stream",
     "text": [
      "/opt/conda/lib/python3.7/site-packages/lightgbm/basic.py:1433: UserWarning: Overriding the parameters from Reference Dataset.\n",
      "  _log_warning('Overriding the parameters from Reference Dataset.')\n",
      "/opt/conda/lib/python3.7/site-packages/lightgbm/basic.py:1245: UserWarning: categorical_column in param dict is overridden.\n",
      "  _log_warning('{} in param dict is overridden.'.format(cat_alias))\n"
     ]
    },
    {
     "name": "stdout",
     "output_type": "stream",
     "text": [
      "[100]\ttraining's rmse: 0.000665069\ttraining's RMSPE: 0.30763\tvalid_1's rmse: 0.000676282\tvalid_1's RMSPE: 0.31371\n",
      "[200]\ttraining's rmse: 0.000545052\ttraining's RMSPE: 0.25211\tvalid_1's rmse: 0.000561062\tvalid_1's RMSPE: 0.26026\n",
      "[300]\ttraining's rmse: 0.000519934\ttraining's RMSPE: 0.24049\tvalid_1's rmse: 0.000537462\tvalid_1's RMSPE: 0.24932\n",
      "[400]\ttraining's rmse: 0.000512486\ttraining's RMSPE: 0.23705\tvalid_1's rmse: 0.000531747\tvalid_1's RMSPE: 0.24666\n",
      "[500]\ttraining's rmse: 0.000508615\ttraining's RMSPE: 0.23526\tvalid_1's rmse: 0.000528923\tvalid_1's RMSPE: 0.24535\n",
      "[600]\ttraining's rmse: 0.000505843\ttraining's RMSPE: 0.23398\tvalid_1's rmse: 0.000527429\tvalid_1's RMSPE: 0.24466\n",
      "[700]\ttraining's rmse: 0.000503671\ttraining's RMSPE: 0.23297\tvalid_1's rmse: 0.000526206\tvalid_1's RMSPE: 0.24409\n",
      "[800]\ttraining's rmse: 0.000501736\ttraining's RMSPE: 0.23208\tvalid_1's rmse: 0.000525385\tvalid_1's RMSPE: 0.24371\n",
      "[900]\ttraining's rmse: 0.000500013\ttraining's RMSPE: 0.23128\tvalid_1's rmse: 0.000524686\tvalid_1's RMSPE: 0.24339\n",
      "[1000]\ttraining's rmse: 0.000498503\ttraining's RMSPE: 0.23058\tvalid_1's rmse: 0.000524292\tvalid_1's RMSPE: 0.24321\n",
      "[1100]\ttraining's rmse: 0.000497086\ttraining's RMSPE: 0.22993\tvalid_1's rmse: 0.000523616\tvalid_1's RMSPE: 0.24289\n",
      "[1200]\ttraining's rmse: 0.00049578\ttraining's RMSPE: 0.22932\tvalid_1's rmse: 0.000523241\tvalid_1's RMSPE: 0.24272\n",
      "[1300]\ttraining's rmse: 0.000494579\ttraining's RMSPE: 0.22877\tvalid_1's rmse: 0.000522844\tvalid_1's RMSPE: 0.24253\n",
      "Early stopping, best iteration is:\n",
      "[1339]\ttraining's rmse: 0.000494143\ttraining's RMSPE: 0.22856\tvalid_1's rmse: 0.000522713\tvalid_1's RMSPE: 0.24247\n",
      "Performance of the　prediction: , RMSPE: 0.242\n",
      "****************************************************************************************************\n",
      "CPU times: user 18min 4s, sys: 3.01 s, total: 18min 7s\n",
      "Wall time: 4min 36s\n"
     ]
    }
   ],
   "source": [
    "%%time\n",
    "for fold, (trn_idx, val_idx) in enumerate(kf.split(X, y)):\n",
    "\n",
    "    print(\"Fold :\", fold+1)\n",
    "    \n",
    "    # create dataset\n",
    "    X_train, y_train = X.loc[trn_idx], y[trn_idx]\n",
    "    X_valid, y_valid = X.loc[val_idx], y[val_idx]\n",
    "    \n",
    "    #RMSPE weight\n",
    "    weights = 1/np.square(y_train)\n",
    "    lgbm_train = lgbm.Dataset(X_train,y_train,weight = weights)\n",
    "\n",
    "    weights = 1/np.square(y_valid)\n",
    "    lgbm_valid = lgbm.Dataset(X_valid,y_valid,reference = lgbm_train,weight = weights)\n",
    "    \n",
    "    # model \n",
    "    model = lgbm.train(params=params,\n",
    "                      train_set=lgbm_train,\n",
    "                      valid_sets=[lgbm_train, lgbm_valid],\n",
    "                      num_boost_round=5000,         \n",
    "                      feval=feval_RMSPE,\n",
    "                      verbose_eval=100,\n",
    "                      categorical_feature = ['stock_id']                \n",
    "                     )\n",
    "    \n",
    "    # validation \n",
    "    y_pred = model.predict(X_valid, num_iteration=model.best_iteration)\n",
    "\n",
    "    RMSPE = round(rmspe(y_true = y_valid, y_pred = y_pred),3)\n",
    "    print(f'Performance of the　prediction: , RMSPE: {RMSPE}')\n",
    "\n",
    "    #keep scores and models\n",
    "    scores += RMSPE / 5\n",
    "    models.append(model)\n",
    "    print(\"*\" * 100)\n",
    "    \n",
    "    # --- calc model feature importance ---\n",
    "    if DO_FEAT_IMP:    \n",
    "        feature_names = X_train.columns.values.tolist()\n",
    "        gain_importance_df = calc_model_importance(\n",
    "            model, feature_names=feature_names, importance_type='gain')\n",
    "        gain_importance_list.append(gain_importance_df)\n",
    "\n",
    "        split_importance_df = calc_model_importance(\n",
    "            model, feature_names=feature_names, importance_type='split')\n",
    "        split_importance_list.append(split_importance_df)"
   ]
  },
  {
   "cell_type": "code",
   "execution_count": 22,
   "id": "250a4b6c",
   "metadata": {
    "execution": {
     "iopub.execute_input": "2021-08-29T00:38:00.539259Z",
     "iopub.status.busy": "2021-08-29T00:38:00.538318Z",
     "iopub.status.idle": "2021-08-29T00:38:00.542711Z",
     "shell.execute_reply": "2021-08-29T00:38:00.542161Z"
    },
    "papermill": {
     "duration": 0.086508,
     "end_time": "2021-08-29T00:38:00.542845",
     "exception": false,
     "start_time": "2021-08-29T00:38:00.456337",
     "status": "completed"
    },
    "tags": []
   },
   "outputs": [
    {
     "data": {
      "text/plain": [
       "0.2384"
      ]
     },
     "execution_count": 22,
     "metadata": {},
     "output_type": "execute_result"
    }
   ],
   "source": [
    "scores"
   ]
  },
  {
   "cell_type": "code",
   "execution_count": 23,
   "id": "e044a6a5",
   "metadata": {
    "execution": {
     "iopub.execute_input": "2021-08-29T00:38:00.700348Z",
     "iopub.status.busy": "2021-08-29T00:38:00.699694Z",
     "iopub.status.idle": "2021-08-29T00:38:00.705176Z",
     "shell.execute_reply": "2021-08-29T00:38:00.704631Z"
    },
    "papermill": {
     "duration": 0.084992,
     "end_time": "2021-08-29T00:38:00.705311",
     "exception": false,
     "start_time": "2021-08-29T00:38:00.620319",
     "status": "completed"
    },
    "tags": []
   },
   "outputs": [],
   "source": [
    "def calc_mean_importance(importance_df_list):\n",
    "    mean_importance = np.mean(\n",
    "        np.array([df['importance'].values for df in importance_df_list]), axis=0)\n",
    "    mean_df = importance_df_list[0].copy()\n",
    "    mean_df['importance'] = mean_importance\n",
    "    return mean_df"
   ]
  },
  {
   "cell_type": "code",
   "execution_count": 24,
   "id": "e87dfcd4",
   "metadata": {
    "execution": {
     "iopub.execute_input": "2021-08-29T00:38:00.883261Z",
     "iopub.status.busy": "2021-08-29T00:38:00.882579Z",
     "iopub.status.idle": "2021-08-29T00:38:01.273639Z",
     "shell.execute_reply": "2021-08-29T00:38:01.272985Z"
    },
    "papermill": {
     "duration": 0.49052,
     "end_time": "2021-08-29T00:38:01.273799",
     "exception": false,
     "start_time": "2021-08-29T00:38:00.783279",
     "status": "completed"
    },
    "tags": []
   },
   "outputs": [
    {
     "data": {
      "image/png": "[encoded data removed]",
      "text/plain": [
       "<Figure size 576x864 with 1 Axes>"
      ]
     },
     "metadata": {
      "needs_background": "light"
     },
     "output_type": "display_data"
    }
   ],
   "source": [
    "if DO_FEAT_IMP:\n",
    "    mean_gain_df = calc_mean_importance(gain_importance_list)\n",
    "    plot_importance(mean_gain_df, title='Model feature importance by gain')\n",
    "    mean_gain_df = mean_gain_df.reset_index().rename(columns={'index': 'feature_names'})\n",
    "    mean_gain_df.to_csv('gain_importance_mean.csv', index=False)"
   ]
  },
  {
   "cell_type": "code",
   "execution_count": 25,
   "id": "f60b6886",
   "metadata": {
    "execution": {
     "iopub.execute_input": "2021-08-29T00:38:01.467990Z",
     "iopub.status.busy": "2021-08-29T00:38:01.466233Z",
     "iopub.status.idle": "2021-08-29T00:38:01.736391Z",
     "shell.execute_reply": "2021-08-29T00:38:01.735726Z"
    },
    "papermill": {
     "duration": 0.382731,
     "end_time": "2021-08-29T00:38:01.736531",
     "exception": false,
     "start_time": "2021-08-29T00:38:01.353800",
     "status": "completed"
    },
    "tags": []
   },
   "outputs": [
    {
     "data": {
      "image/png": "[encoded data removed]",
      "text/plain": [
       "<Figure size 576x864 with 1 Axes>"
      ]
     },
     "metadata": {
      "needs_background": "light"
     },
     "output_type": "display_data"
    }
   ],
   "source": [
    "if DO_FEAT_IMP:\n",
    "    mean_split_df = calc_mean_importance(split_importance_list)\n",
    "    plot_importance(mean_split_df, title='Model feature importance by split')\n",
    "    mean_split_df = mean_split_df.reset_index().rename(columns={'index': 'feature_names'})\n",
    "    mean_split_df.to_csv('split_importance_mean.csv', index=False)"
   ]
  },
  {
   "cell_type": "markdown",
   "id": "72d976a5",
   "metadata": {
    "papermill": {
     "duration": 0.080091,
     "end_time": "2021-08-29T00:38:01.896831",
     "exception": false,
     "start_time": "2021-08-29T00:38:01.816740",
     "status": "completed"
    },
    "tags": []
   },
   "source": [
    "# 以下 試行錯誤欄"
   ]
  },
  {
   "cell_type": "markdown",
   "id": "17793f83",
   "metadata": {
    "papermill": {
     "duration": 0.081853,
     "end_time": "2021-08-29T00:38:02.059950",
     "exception": false,
     "start_time": "2021-08-29T00:38:01.978097",
     "status": "completed"
    },
    "tags": []
   },
   "source": [
    "## book側"
   ]
  },
  {
   "cell_type": "code",
   "execution_count": 26,
   "id": "534d75d9",
   "metadata": {
    "execution": {
     "iopub.execute_input": "2021-08-29T00:38:02.226368Z",
     "iopub.status.busy": "2021-08-29T00:38:02.225673Z",
     "iopub.status.idle": "2021-08-29T00:38:02.376318Z",
     "shell.execute_reply": "2021-08-29T00:38:02.375691Z"
    },
    "papermill": {
     "duration": 0.236251,
     "end_time": "2021-08-29T00:38:02.376458",
     "exception": false,
     "start_time": "2021-08-29T00:38:02.140207",
     "status": "completed"
    },
    "tags": []
   },
   "outputs": [
    {
     "data": {
      "text/plain": [
       "array([    5,    11,    16, ..., 32758, 32763, 32767], dtype=int16)"
      ]
     },
     "execution_count": 26,
     "metadata": {},
     "output_type": "execute_result"
    }
   ],
   "source": [
    "df = pd.read_parquet(data_dir + \"book_train.parquet/stock_id=0\")\n",
    "df_ids = df.time_id.unique()\n",
    "df_ids"
   ]
  },
  {
   "cell_type": "code",
   "execution_count": 27,
   "id": "91b27407",
   "metadata": {
    "execution": {
     "iopub.execute_input": "2021-08-29T00:38:02.540337Z",
     "iopub.status.busy": "2021-08-29T00:38:02.539712Z",
     "iopub.status.idle": "2021-08-29T00:38:02.543089Z",
     "shell.execute_reply": "2021-08-29T00:38:02.543596Z"
    },
    "papermill": {
     "duration": 0.086828,
     "end_time": "2021-08-29T00:38:02.543759",
     "exception": false,
     "start_time": "2021-08-29T00:38:02.456931",
     "status": "completed"
    },
    "tags": []
   },
   "outputs": [],
   "source": [
    "book_time_id_number = 5"
   ]
  },
  {
   "cell_type": "code",
   "execution_count": 28,
   "id": "08878fae",
   "metadata": {
    "execution": {
     "iopub.execute_input": "2021-08-29T00:38:02.707739Z",
     "iopub.status.busy": "2021-08-29T00:38:02.707053Z",
     "iopub.status.idle": "2021-08-29T00:38:04.389539Z",
     "shell.execute_reply": "2021-08-29T00:38:04.388900Z"
    },
    "papermill": {
     "duration": 1.765415,
     "end_time": "2021-08-29T00:38:04.389685",
     "exception": false,
     "start_time": "2021-08-29T00:38:02.624270",
     "status": "completed"
    },
    "tags": []
   },
   "outputs": [
    {
     "data": {
      "text/html": [
       "<div>\n",
       "<style scoped>\n",
       "    .dataframe tbody tr th:only-of-type {\n",
       "        vertical-align: middle;\n",
       "    }\n",
       "\n",
       "    .dataframe tbody tr th {\n",
       "        vertical-align: top;\n",
       "    }\n",
       "\n",
       "    .dataframe thead th {\n",
       "        text-align: right;\n",
       "    }\n",
       "</style>\n",
       "<table border=\"1\" class=\"dataframe\">\n",
       "  <thead>\n",
       "    <tr style=\"text-align: right;\">\n",
       "      <th></th>\n",
       "      <th>time_id</th>\n",
       "      <th>seconds_in_bucket</th>\n",
       "      <th>bid_price1</th>\n",
       "      <th>ask_price1</th>\n",
       "      <th>bid_price2</th>\n",
       "      <th>ask_price2</th>\n",
       "      <th>bid_size1</th>\n",
       "      <th>ask_size1</th>\n",
       "      <th>bid_size2</th>\n",
       "      <th>ask_size2</th>\n",
       "      <th>wap</th>\n",
       "      <th>wap2</th>\n",
       "      <th>log_return</th>\n",
       "    </tr>\n",
       "  </thead>\n",
       "  <tbody>\n",
       "    <tr>\n",
       "      <th>0</th>\n",
       "      <td>5</td>\n",
       "      <td>0</td>\n",
       "      <td>1.001422</td>\n",
       "      <td>1.002301</td>\n",
       "      <td>1.001370</td>\n",
       "      <td>1.002353</td>\n",
       "      <td>3</td>\n",
       "      <td>226</td>\n",
       "      <td>2</td>\n",
       "      <td>100</td>\n",
       "      <td>1.001434</td>\n",
       "      <td>1.001390</td>\n",
       "      <td>NaN</td>\n",
       "    </tr>\n",
       "    <tr>\n",
       "      <th>1</th>\n",
       "      <td>5</td>\n",
       "      <td>1</td>\n",
       "      <td>1.001422</td>\n",
       "      <td>1.002301</td>\n",
       "      <td>1.001370</td>\n",
       "      <td>1.002353</td>\n",
       "      <td>3</td>\n",
       "      <td>100</td>\n",
       "      <td>2</td>\n",
       "      <td>100</td>\n",
       "      <td>1.001448</td>\n",
       "      <td>1.001390</td>\n",
       "      <td>0.000014</td>\n",
       "    </tr>\n",
       "    <tr>\n",
       "      <th>2</th>\n",
       "      <td>5</td>\n",
       "      <td>5</td>\n",
       "      <td>1.001422</td>\n",
       "      <td>1.002301</td>\n",
       "      <td>1.001370</td>\n",
       "      <td>1.002405</td>\n",
       "      <td>3</td>\n",
       "      <td>100</td>\n",
       "      <td>2</td>\n",
       "      <td>100</td>\n",
       "      <td>1.001448</td>\n",
       "      <td>1.001391</td>\n",
       "      <td>0.000000</td>\n",
       "    </tr>\n",
       "    <tr>\n",
       "      <th>3</th>\n",
       "      <td>5</td>\n",
       "      <td>6</td>\n",
       "      <td>1.001422</td>\n",
       "      <td>1.002301</td>\n",
       "      <td>1.001370</td>\n",
       "      <td>1.002405</td>\n",
       "      <td>3</td>\n",
       "      <td>126</td>\n",
       "      <td>2</td>\n",
       "      <td>100</td>\n",
       "      <td>1.001443</td>\n",
       "      <td>1.001391</td>\n",
       "      <td>-0.000005</td>\n",
       "    </tr>\n",
       "    <tr>\n",
       "      <th>4</th>\n",
       "      <td>5</td>\n",
       "      <td>7</td>\n",
       "      <td>1.001422</td>\n",
       "      <td>1.002301</td>\n",
       "      <td>1.001370</td>\n",
       "      <td>1.002405</td>\n",
       "      <td>3</td>\n",
       "      <td>126</td>\n",
       "      <td>2</td>\n",
       "      <td>100</td>\n",
       "      <td>1.001443</td>\n",
       "      <td>1.001391</td>\n",
       "      <td>0.000000</td>\n",
       "    </tr>\n",
       "    <tr>\n",
       "      <th>...</th>\n",
       "      <td>...</td>\n",
       "      <td>...</td>\n",
       "      <td>...</td>\n",
       "      <td>...</td>\n",
       "      <td>...</td>\n",
       "      <td>...</td>\n",
       "      <td>...</td>\n",
       "      <td>...</td>\n",
       "      <td>...</td>\n",
       "      <td>...</td>\n",
       "      <td>...</td>\n",
       "      <td>...</td>\n",
       "      <td>...</td>\n",
       "    </tr>\n",
       "    <tr>\n",
       "      <th>297</th>\n",
       "      <td>5</td>\n",
       "      <td>585</td>\n",
       "      <td>1.003129</td>\n",
       "      <td>1.003749</td>\n",
       "      <td>1.003025</td>\n",
       "      <td>1.003801</td>\n",
       "      <td>100</td>\n",
       "      <td>3</td>\n",
       "      <td>26</td>\n",
       "      <td>3</td>\n",
       "      <td>1.003731</td>\n",
       "      <td>1.003721</td>\n",
       "      <td>0.000245</td>\n",
       "    </tr>\n",
       "    <tr>\n",
       "      <th>298</th>\n",
       "      <td>5</td>\n",
       "      <td>586</td>\n",
       "      <td>1.003129</td>\n",
       "      <td>1.003749</td>\n",
       "      <td>1.002612</td>\n",
       "      <td>1.003801</td>\n",
       "      <td>100</td>\n",
       "      <td>3</td>\n",
       "      <td>2</td>\n",
       "      <td>3</td>\n",
       "      <td>1.003731</td>\n",
       "      <td>1.003087</td>\n",
       "      <td>0.000000</td>\n",
       "    </tr>\n",
       "    <tr>\n",
       "      <th>299</th>\n",
       "      <td>5</td>\n",
       "      <td>587</td>\n",
       "      <td>1.003129</td>\n",
       "      <td>1.003749</td>\n",
       "      <td>1.003025</td>\n",
       "      <td>1.003801</td>\n",
       "      <td>100</td>\n",
       "      <td>3</td>\n",
       "      <td>26</td>\n",
       "      <td>3</td>\n",
       "      <td>1.003731</td>\n",
       "      <td>1.003721</td>\n",
       "      <td>0.000000</td>\n",
       "    </tr>\n",
       "    <tr>\n",
       "      <th>300</th>\n",
       "      <td>5</td>\n",
       "      <td>588</td>\n",
       "      <td>1.003129</td>\n",
       "      <td>1.003749</td>\n",
       "      <td>1.002612</td>\n",
       "      <td>1.003801</td>\n",
       "      <td>100</td>\n",
       "      <td>3</td>\n",
       "      <td>2</td>\n",
       "      <td>3</td>\n",
       "      <td>1.003731</td>\n",
       "      <td>1.003087</td>\n",
       "      <td>0.000000</td>\n",
       "    </tr>\n",
       "    <tr>\n",
       "      <th>301</th>\n",
       "      <td>5</td>\n",
       "      <td>593</td>\n",
       "      <td>1.003129</td>\n",
       "      <td>1.003749</td>\n",
       "      <td>1.003025</td>\n",
       "      <td>1.003801</td>\n",
       "      <td>100</td>\n",
       "      <td>3</td>\n",
       "      <td>26</td>\n",
       "      <td>3</td>\n",
       "      <td>1.003731</td>\n",
       "      <td>1.003721</td>\n",
       "      <td>0.000000</td>\n",
       "    </tr>\n",
       "  </tbody>\n",
       "</table>\n",
       "<p>302 rows × 13 columns</p>\n",
       "</div>"
      ],
      "text/plain": [
       "     time_id  seconds_in_bucket  bid_price1  ask_price1  bid_price2  \\\n",
       "0          5                  0    1.001422    1.002301    1.001370   \n",
       "1          5                  1    1.001422    1.002301    1.001370   \n",
       "2          5                  5    1.001422    1.002301    1.001370   \n",
       "3          5                  6    1.001422    1.002301    1.001370   \n",
       "4          5                  7    1.001422    1.002301    1.001370   \n",
       "..       ...                ...         ...         ...         ...   \n",
       "297        5                585    1.003129    1.003749    1.003025   \n",
       "298        5                586    1.003129    1.003749    1.002612   \n",
       "299        5                587    1.003129    1.003749    1.003025   \n",
       "300        5                588    1.003129    1.003749    1.002612   \n",
       "301        5                593    1.003129    1.003749    1.003025   \n",
       "\n",
       "     ask_price2  bid_size1  ask_size1  bid_size2  ask_size2       wap  \\\n",
       "0      1.002353          3        226          2        100  1.001434   \n",
       "1      1.002353          3        100          2        100  1.001448   \n",
       "2      1.002405          3        100          2        100  1.001448   \n",
       "3      1.002405          3        126          2        100  1.001443   \n",
       "4      1.002405          3        126          2        100  1.001443   \n",
       "..          ...        ...        ...        ...        ...       ...   \n",
       "297    1.003801        100          3         26          3  1.003731   \n",
       "298    1.003801        100          3          2          3  1.003731   \n",
       "299    1.003801        100          3         26          3  1.003731   \n",
       "300    1.003801        100          3          2          3  1.003731   \n",
       "301    1.003801        100          3         26          3  1.003731   \n",
       "\n",
       "         wap2  log_return  \n",
       "0    1.001390         NaN  \n",
       "1    1.001390    0.000014  \n",
       "2    1.001391    0.000000  \n",
       "3    1.001391   -0.000005  \n",
       "4    1.001391    0.000000  \n",
       "..        ...         ...  \n",
       "297  1.003721    0.000245  \n",
       "298  1.003087    0.000000  \n",
       "299  1.003721    0.000000  \n",
       "300  1.003087    0.000000  \n",
       "301  1.003721    0.000000  \n",
       "\n",
       "[302 rows x 13 columns]"
      ]
     },
     "execution_count": 28,
     "metadata": {},
     "output_type": "execute_result"
    }
   ],
   "source": [
    "df['wap'] = calc_wap(df)\n",
    "df['wap2'] = calc_wap2(df)\n",
    "\n",
    "df['log_return'] = df.groupby('time_id')['wap'].apply(log_return)\n",
    "df[df[\"time_id\"] == book_time_id_number]"
   ]
  },
  {
   "cell_type": "code",
   "execution_count": 29,
   "id": "e473a607",
   "metadata": {
    "execution": {
     "iopub.execute_input": "2021-08-29T00:38:04.557746Z",
     "iopub.status.busy": "2021-08-29T00:38:04.557134Z",
     "iopub.status.idle": "2021-08-29T00:38:04.767304Z",
     "shell.execute_reply": "2021-08-29T00:38:04.767768Z"
    },
    "papermill": {
     "duration": 0.296821,
     "end_time": "2021-08-29T00:38:04.767943",
     "exception": false,
     "start_time": "2021-08-29T00:38:04.471122",
     "status": "completed"
    },
    "tags": []
   },
   "outputs": [
    {
     "data": {
      "text/plain": [
       "<AxesSubplot:>"
      ]
     },
     "execution_count": 29,
     "metadata": {},
     "output_type": "execute_result"
    },
    {
     "data": {
      "image/png": "[encoded data removed]",
      "text/plain": [
       "<Figure size 432x288 with 1 Axes>"
      ]
     },
     "metadata": {
      "needs_background": "light"
     },
     "output_type": "display_data"
    }
   ],
   "source": [
    "df[df['time_id']== book_time_id_number][\"wap\"].hist(bins=20)"
   ]
  },
  {
   "cell_type": "code",
   "execution_count": 30,
   "id": "d3871b8a",
   "metadata": {
    "execution": {
     "iopub.execute_input": "2021-08-29T00:38:04.963980Z",
     "iopub.status.busy": "2021-08-29T00:38:04.963010Z",
     "iopub.status.idle": "2021-08-29T00:38:05.380807Z",
     "shell.execute_reply": "2021-08-29T00:38:05.381269Z"
    },
    "papermill": {
     "duration": 0.530795,
     "end_time": "2021-08-29T00:38:05.381442",
     "exception": false,
     "start_time": "2021-08-29T00:38:04.850647",
     "status": "completed"
    },
    "tags": []
   },
   "outputs": [
    {
     "data": {
      "text/plain": [
       "<AxesSubplot:>"
      ]
     },
     "execution_count": 30,
     "metadata": {},
     "output_type": "execute_result"
    },
    {
     "data": {
      "image/png": "[encoded data removed]",
      "text/plain": [
       "<Figure size 432x288 with 1 Axes>"
      ]
     },
     "metadata": {
      "needs_background": "light"
     },
     "output_type": "display_data"
    }
   ],
   "source": [
    "df_book_time_id_count = df.groupby('time_id').count()\n",
    "df_book_time_id_count[\"wap\"].hist(bins=100)"
   ]
  },
  {
   "cell_type": "code",
   "execution_count": 31,
   "id": "6b77b257",
   "metadata": {
    "execution": {
     "iopub.execute_input": "2021-08-29T00:38:05.553811Z",
     "iopub.status.busy": "2021-08-29T00:38:05.553181Z",
     "iopub.status.idle": "2021-08-29T00:38:05.558926Z",
     "shell.execute_reply": "2021-08-29T00:38:05.559446Z"
    },
    "papermill": {
     "duration": 0.094093,
     "end_time": "2021-08-29T00:38:05.559620",
     "exception": false,
     "start_time": "2021-08-29T00:38:05.465527",
     "status": "completed"
    },
    "tags": []
   },
   "outputs": [
    {
     "data": {
      "text/plain": [
       "73"
      ]
     },
     "execution_count": 31,
     "metadata": {},
     "output_type": "execute_result"
    }
   ],
   "source": [
    "min(df_book_time_id_count[\"wap\"])"
   ]
  },
  {
   "attachments": {
    "532d65c4-b630-488e-8da0-6ee3130a90d0.png": {
     "image/png": "[encoded data removed]"
    }
   },
   "cell_type": "markdown",
   "id": "56ab3300",
   "metadata": {
    "papermill": {
     "duration": 0.083716,
     "end_time": "2021-08-29T00:38:05.727756",
     "exception": false,
     "start_time": "2021-08-29T00:38:05.644040",
     "status": "completed"
    },
    "tags": []
   },
   "source": [
    "## ボインジャーバンド\n",
    "ボリンジャーバンドは統計学を使って作られていて、大まかにいうと、高い確率で＋2σ(標準偏差)と－2σのラインの間で価格は動くだろうという予測をもとに将来の価格の動きを予測するために使う指標。  \n",
    "なので、±2σの差が大きいほど値動きが激しいので、次の予想に使えるのではないかと思った。  \n",
    "  \n",
    "  \n",
    "![image.png](attachment:532d65c4-b630-488e-8da0-6ee3130a90d0.png)!\n"
   ]
  },
  {
   "cell_type": "code",
   "execution_count": 32,
   "id": "17552949",
   "metadata": {
    "execution": {
     "iopub.execute_input": "2021-08-29T00:38:05.901185Z",
     "iopub.status.busy": "2021-08-29T00:38:05.900536Z",
     "iopub.status.idle": "2021-08-29T00:38:06.052190Z",
     "shell.execute_reply": "2021-08-29T00:38:06.052674Z"
    },
    "papermill": {
     "duration": 0.240858,
     "end_time": "2021-08-29T00:38:06.052859",
     "exception": false,
     "start_time": "2021-08-29T00:38:05.812001",
     "status": "completed"
    },
    "tags": []
   },
   "outputs": [
    {
     "data": {
      "text/html": [
       "<div>\n",
       "<style scoped>\n",
       "    .dataframe tbody tr th:only-of-type {\n",
       "        vertical-align: middle;\n",
       "    }\n",
       "\n",
       "    .dataframe tbody tr th {\n",
       "        vertical-align: top;\n",
       "    }\n",
       "\n",
       "    .dataframe thead th {\n",
       "        text-align: right;\n",
       "    }\n",
       "</style>\n",
       "<table border=\"1\" class=\"dataframe\">\n",
       "  <thead>\n",
       "    <tr style=\"text-align: right;\">\n",
       "      <th></th>\n",
       "      <th>time_id</th>\n",
       "      <th>seconds_in_bucket</th>\n",
       "      <th>bid_price1</th>\n",
       "      <th>ask_price1</th>\n",
       "      <th>bid_price2</th>\n",
       "      <th>ask_price2</th>\n",
       "      <th>bid_size1</th>\n",
       "      <th>ask_size1</th>\n",
       "      <th>bid_size2</th>\n",
       "      <th>ask_size2</th>\n",
       "      <th>wap</th>\n",
       "      <th>wap2</th>\n",
       "      <th>log_return</th>\n",
       "      <th>mean</th>\n",
       "      <th>std</th>\n",
       "      <th>wap_bol_upper</th>\n",
       "      <th>wap_bol_lower</th>\n",
       "      <th>wap_bol_balance</th>\n",
       "    </tr>\n",
       "  </thead>\n",
       "  <tbody>\n",
       "    <tr>\n",
       "      <th>0</th>\n",
       "      <td>5</td>\n",
       "      <td>0</td>\n",
       "      <td>1.001422</td>\n",
       "      <td>1.002301</td>\n",
       "      <td>1.001370</td>\n",
       "      <td>1.002353</td>\n",
       "      <td>3</td>\n",
       "      <td>226</td>\n",
       "      <td>2</td>\n",
       "      <td>100</td>\n",
       "      <td>1.001434</td>\n",
       "      <td>1.001390</td>\n",
       "      <td>NaN</td>\n",
       "      <td>NaN</td>\n",
       "      <td>NaN</td>\n",
       "      <td>NaN</td>\n",
       "      <td>NaN</td>\n",
       "      <td>NaN</td>\n",
       "    </tr>\n",
       "    <tr>\n",
       "      <th>1</th>\n",
       "      <td>5</td>\n",
       "      <td>1</td>\n",
       "      <td>1.001422</td>\n",
       "      <td>1.002301</td>\n",
       "      <td>1.001370</td>\n",
       "      <td>1.002353</td>\n",
       "      <td>3</td>\n",
       "      <td>100</td>\n",
       "      <td>2</td>\n",
       "      <td>100</td>\n",
       "      <td>1.001448</td>\n",
       "      <td>1.001390</td>\n",
       "      <td>0.000014</td>\n",
       "      <td>NaN</td>\n",
       "      <td>NaN</td>\n",
       "      <td>NaN</td>\n",
       "      <td>NaN</td>\n",
       "      <td>NaN</td>\n",
       "    </tr>\n",
       "    <tr>\n",
       "      <th>2</th>\n",
       "      <td>5</td>\n",
       "      <td>5</td>\n",
       "      <td>1.001422</td>\n",
       "      <td>1.002301</td>\n",
       "      <td>1.001370</td>\n",
       "      <td>1.002405</td>\n",
       "      <td>3</td>\n",
       "      <td>100</td>\n",
       "      <td>2</td>\n",
       "      <td>100</td>\n",
       "      <td>1.001448</td>\n",
       "      <td>1.001391</td>\n",
       "      <td>0.000000</td>\n",
       "      <td>NaN</td>\n",
       "      <td>NaN</td>\n",
       "      <td>NaN</td>\n",
       "      <td>NaN</td>\n",
       "      <td>NaN</td>\n",
       "    </tr>\n",
       "    <tr>\n",
       "      <th>3</th>\n",
       "      <td>5</td>\n",
       "      <td>6</td>\n",
       "      <td>1.001422</td>\n",
       "      <td>1.002301</td>\n",
       "      <td>1.001370</td>\n",
       "      <td>1.002405</td>\n",
       "      <td>3</td>\n",
       "      <td>126</td>\n",
       "      <td>2</td>\n",
       "      <td>100</td>\n",
       "      <td>1.001443</td>\n",
       "      <td>1.001391</td>\n",
       "      <td>-0.000005</td>\n",
       "      <td>NaN</td>\n",
       "      <td>NaN</td>\n",
       "      <td>NaN</td>\n",
       "      <td>NaN</td>\n",
       "      <td>NaN</td>\n",
       "    </tr>\n",
       "    <tr>\n",
       "      <th>4</th>\n",
       "      <td>5</td>\n",
       "      <td>7</td>\n",
       "      <td>1.001422</td>\n",
       "      <td>1.002301</td>\n",
       "      <td>1.001370</td>\n",
       "      <td>1.002405</td>\n",
       "      <td>3</td>\n",
       "      <td>126</td>\n",
       "      <td>2</td>\n",
       "      <td>100</td>\n",
       "      <td>1.001443</td>\n",
       "      <td>1.001391</td>\n",
       "      <td>0.000000</td>\n",
       "      <td>NaN</td>\n",
       "      <td>NaN</td>\n",
       "      <td>NaN</td>\n",
       "      <td>NaN</td>\n",
       "      <td>NaN</td>\n",
       "    </tr>\n",
       "    <tr>\n",
       "      <th>...</th>\n",
       "      <td>...</td>\n",
       "      <td>...</td>\n",
       "      <td>...</td>\n",
       "      <td>...</td>\n",
       "      <td>...</td>\n",
       "      <td>...</td>\n",
       "      <td>...</td>\n",
       "      <td>...</td>\n",
       "      <td>...</td>\n",
       "      <td>...</td>\n",
       "      <td>...</td>\n",
       "      <td>...</td>\n",
       "      <td>...</td>\n",
       "      <td>...</td>\n",
       "      <td>...</td>\n",
       "      <td>...</td>\n",
       "      <td>...</td>\n",
       "      <td>...</td>\n",
       "    </tr>\n",
       "    <tr>\n",
       "      <th>297</th>\n",
       "      <td>5</td>\n",
       "      <td>585</td>\n",
       "      <td>1.003129</td>\n",
       "      <td>1.003749</td>\n",
       "      <td>1.003025</td>\n",
       "      <td>1.003801</td>\n",
       "      <td>100</td>\n",
       "      <td>3</td>\n",
       "      <td>26</td>\n",
       "      <td>3</td>\n",
       "      <td>1.003731</td>\n",
       "      <td>1.003721</td>\n",
       "      <td>0.000245</td>\n",
       "      <td>1.002914</td>\n",
       "      <td>0.000573</td>\n",
       "      <td>1.004060</td>\n",
       "      <td>1.001768</td>\n",
       "      <td>0.002292</td>\n",
       "    </tr>\n",
       "    <tr>\n",
       "      <th>298</th>\n",
       "      <td>5</td>\n",
       "      <td>586</td>\n",
       "      <td>1.003129</td>\n",
       "      <td>1.003749</td>\n",
       "      <td>1.002612</td>\n",
       "      <td>1.003801</td>\n",
       "      <td>100</td>\n",
       "      <td>3</td>\n",
       "      <td>2</td>\n",
       "      <td>3</td>\n",
       "      <td>1.003731</td>\n",
       "      <td>1.003087</td>\n",
       "      <td>0.000000</td>\n",
       "      <td>1.002928</td>\n",
       "      <td>0.000590</td>\n",
       "      <td>1.004108</td>\n",
       "      <td>1.001748</td>\n",
       "      <td>0.002360</td>\n",
       "    </tr>\n",
       "    <tr>\n",
       "      <th>299</th>\n",
       "      <td>5</td>\n",
       "      <td>587</td>\n",
       "      <td>1.003129</td>\n",
       "      <td>1.003749</td>\n",
       "      <td>1.003025</td>\n",
       "      <td>1.003801</td>\n",
       "      <td>100</td>\n",
       "      <td>3</td>\n",
       "      <td>26</td>\n",
       "      <td>3</td>\n",
       "      <td>1.003731</td>\n",
       "      <td>1.003721</td>\n",
       "      <td>0.000000</td>\n",
       "      <td>1.002948</td>\n",
       "      <td>0.000611</td>\n",
       "      <td>1.004169</td>\n",
       "      <td>1.001727</td>\n",
       "      <td>0.002443</td>\n",
       "    </tr>\n",
       "    <tr>\n",
       "      <th>300</th>\n",
       "      <td>5</td>\n",
       "      <td>588</td>\n",
       "      <td>1.003129</td>\n",
       "      <td>1.003749</td>\n",
       "      <td>1.002612</td>\n",
       "      <td>1.003801</td>\n",
       "      <td>100</td>\n",
       "      <td>3</td>\n",
       "      <td>2</td>\n",
       "      <td>3</td>\n",
       "      <td>1.003731</td>\n",
       "      <td>1.003087</td>\n",
       "      <td>0.000000</td>\n",
       "      <td>1.002996</td>\n",
       "      <td>0.000633</td>\n",
       "      <td>1.004263</td>\n",
       "      <td>1.001729</td>\n",
       "      <td>0.002534</td>\n",
       "    </tr>\n",
       "    <tr>\n",
       "      <th>301</th>\n",
       "      <td>5</td>\n",
       "      <td>593</td>\n",
       "      <td>1.003129</td>\n",
       "      <td>1.003749</td>\n",
       "      <td>1.003025</td>\n",
       "      <td>1.003801</td>\n",
       "      <td>100</td>\n",
       "      <td>3</td>\n",
       "      <td>26</td>\n",
       "      <td>3</td>\n",
       "      <td>1.003731</td>\n",
       "      <td>1.003721</td>\n",
       "      <td>0.000000</td>\n",
       "      <td>1.003049</td>\n",
       "      <td>0.000649</td>\n",
       "      <td>1.004347</td>\n",
       "      <td>1.001751</td>\n",
       "      <td>0.002596</td>\n",
       "    </tr>\n",
       "  </tbody>\n",
       "</table>\n",
       "<p>302 rows × 18 columns</p>\n",
       "</div>"
      ],
      "text/plain": [
       "     time_id  seconds_in_bucket  bid_price1  ask_price1  bid_price2  \\\n",
       "0          5                  0    1.001422    1.002301    1.001370   \n",
       "1          5                  1    1.001422    1.002301    1.001370   \n",
       "2          5                  5    1.001422    1.002301    1.001370   \n",
       "3          5                  6    1.001422    1.002301    1.001370   \n",
       "4          5                  7    1.001422    1.002301    1.001370   \n",
       "..       ...                ...         ...         ...         ...   \n",
       "297        5                585    1.003129    1.003749    1.003025   \n",
       "298        5                586    1.003129    1.003749    1.002612   \n",
       "299        5                587    1.003129    1.003749    1.003025   \n",
       "300        5                588    1.003129    1.003749    1.002612   \n",
       "301        5                593    1.003129    1.003749    1.003025   \n",
       "\n",
       "     ask_price2  bid_size1  ask_size1  bid_size2  ask_size2       wap  \\\n",
       "0      1.002353          3        226          2        100  1.001434   \n",
       "1      1.002353          3        100          2        100  1.001448   \n",
       "2      1.002405          3        100          2        100  1.001448   \n",
       "3      1.002405          3        126          2        100  1.001443   \n",
       "4      1.002405          3        126          2        100  1.001443   \n",
       "..          ...        ...        ...        ...        ...       ...   \n",
       "297    1.003801        100          3         26          3  1.003731   \n",
       "298    1.003801        100          3          2          3  1.003731   \n",
       "299    1.003801        100          3         26          3  1.003731   \n",
       "300    1.003801        100          3          2          3  1.003731   \n",
       "301    1.003801        100          3         26          3  1.003731   \n",
       "\n",
       "         wap2  log_return      mean       std  wap_bol_upper  wap_bol_lower  \\\n",
       "0    1.001390         NaN       NaN       NaN            NaN            NaN   \n",
       "1    1.001390    0.000014       NaN       NaN            NaN            NaN   \n",
       "2    1.001391    0.000000       NaN       NaN            NaN            NaN   \n",
       "3    1.001391   -0.000005       NaN       NaN            NaN            NaN   \n",
       "4    1.001391    0.000000       NaN       NaN            NaN            NaN   \n",
       "..        ...         ...       ...       ...            ...            ...   \n",
       "297  1.003721    0.000245  1.002914  0.000573       1.004060       1.001768   \n",
       "298  1.003087    0.000000  1.002928  0.000590       1.004108       1.001748   \n",
       "299  1.003721    0.000000  1.002948  0.000611       1.004169       1.001727   \n",
       "300  1.003087    0.000000  1.002996  0.000633       1.004263       1.001729   \n",
       "301  1.003721    0.000000  1.003049  0.000649       1.004347       1.001751   \n",
       "\n",
       "     wap_bol_balance  \n",
       "0                NaN  \n",
       "1                NaN  \n",
       "2                NaN  \n",
       "3                NaN  \n",
       "4                NaN  \n",
       "..               ...  \n",
       "297         0.002292  \n",
       "298         0.002360  \n",
       "299         0.002443  \n",
       "300         0.002534  \n",
       "301         0.002596  \n",
       "\n",
       "[302 rows x 18 columns]"
      ]
     },
     "execution_count": 32,
     "metadata": {},
     "output_type": "execute_result"
    }
   ],
   "source": [
    "df['mean'] = df[\"wap\"].rolling(window=20).mean()\n",
    "df['std'] = df[\"wap\"].rolling(window=20).std()\n",
    "df['wap_bol_upper'] = df['mean'] + (df['std'] * 2)\n",
    "df['wap_bol_lower'] = df['mean'] - (df['std'] * 2)\n",
    "df['wap_bol_balance'] = df['wap_bol_upper'] - df['wap_bol_lower']\n",
    "df[df[\"time_id\"] == book_time_id_number]"
   ]
  },
  {
   "cell_type": "markdown",
   "id": "5d5e7992",
   "metadata": {
    "papermill": {
     "duration": 0.084785,
     "end_time": "2021-08-29T00:38:06.224695",
     "exception": false,
     "start_time": "2021-08-29T00:38:06.139910",
     "status": "completed"
    },
    "tags": []
   },
   "source": [
    "### ボインジャーバンドの差の合計"
   ]
  },
  {
   "cell_type": "markdown",
   "id": "35fd4910",
   "metadata": {
    "papermill": {
     "duration": 0.085098,
     "end_time": "2021-08-29T00:38:06.394829",
     "exception": false,
     "start_time": "2021-08-29T00:38:06.309731",
     "status": "completed"
    },
    "tags": []
   },
   "source": [
    "## 自己相関のグラフ\n",
    "自己相関とは、時系列データを分析するツールの一つで、例えば、ある日のデータと次の日のデータ、またある日のデータとその次の日のデータという組み合わせを作ったうえでの相関係数を計算したもの。  \n",
    "\n",
    "**【参考】**\n",
    "* https://qiita.com/hcpmiyuki/items/b1783956dee20c6d4700"
   ]
  },
  {
   "cell_type": "code",
   "execution_count": 33,
   "id": "a8c9aec0",
   "metadata": {
    "execution": {
     "iopub.execute_input": "2021-08-29T00:38:06.568486Z",
     "iopub.status.busy": "2021-08-29T00:38:06.567525Z",
     "iopub.status.idle": "2021-08-29T00:38:07.270898Z",
     "shell.execute_reply": "2021-08-29T00:38:07.270370Z",
     "shell.execute_reply.started": "2021-08-29T00:23:23.655352Z"
    },
    "papermill": {
     "duration": 0.791384,
     "end_time": "2021-08-29T00:38:07.271044",
     "exception": false,
     "start_time": "2021-08-29T00:38:06.479660",
     "status": "completed"
    },
    "tags": []
   },
   "outputs": [],
   "source": [
    "import statsmodels.api as sm"
   ]
  },
  {
   "cell_type": "code",
   "execution_count": 34,
   "id": "6b7ef51b",
   "metadata": {
    "execution": {
     "iopub.execute_input": "2021-08-29T00:38:07.448607Z",
     "iopub.status.busy": "2021-08-29T00:38:07.447910Z",
     "iopub.status.idle": "2021-08-29T00:38:07.460497Z",
     "shell.execute_reply": "2021-08-29T00:38:07.459873Z"
    },
    "papermill": {
     "duration": 0.104085,
     "end_time": "2021-08-29T00:38:07.460648",
     "exception": false,
     "start_time": "2021-08-29T00:38:07.356563",
     "status": "completed"
    },
    "tags": []
   },
   "outputs": [],
   "source": [
    "df.wap = df.wap.astype('float64')\n",
    "df.wap2 = df.wap2.astype('float64')"
   ]
  },
  {
   "cell_type": "code",
   "execution_count": 35,
   "id": "348921ba",
   "metadata": {
    "execution": {
     "iopub.execute_input": "2021-08-29T00:38:07.659843Z",
     "iopub.status.busy": "2021-08-29T00:38:07.655797Z",
     "iopub.status.idle": "2021-08-29T00:38:08.109840Z",
     "shell.execute_reply": "2021-08-29T00:38:08.109357Z"
    },
    "papermill": {
     "duration": 0.563776,
     "end_time": "2021-08-29T00:38:08.109973",
     "exception": false,
     "start_time": "2021-08-29T00:38:07.546197",
     "status": "completed"
    },
    "tags": []
   },
   "outputs": [
    {
     "name": "stdout",
     "output_type": "stream",
     "text": [
      "CPU times: user 265 ms, sys: 222 ms, total: 486 ms\n",
      "Wall time: 156 ms\n"
     ]
    },
    {
     "data": {
      "image/png": "[encoded data removed]",
      "text/plain": [
       "<Figure size 864x576 with 2 Axes>"
      ]
     },
     "metadata": {
      "needs_background": "light"
     },
     "output_type": "display_data"
    }
   ],
   "source": [
    "%%time\n",
    "fig = plt.figure(figsize=(12,8))\n",
    "ax1 = fig.add_subplot(211)\n",
    "fig = sm.graphics.tsa.plot_acf(df[df[\"time_id\"] == book_time_id_number]['wap'], lags=120, ax=ax1)\n",
    "ax2 = fig.add_subplot(212)\n",
    "fig = sm.graphics.tsa.plot_pacf(df[df[\"time_id\"] == book_time_id_number]['wap'],lags=93, ax=ax2)"
   ]
  },
  {
   "cell_type": "markdown",
   "id": "3031b493",
   "metadata": {
    "papermill": {
     "duration": 0.086894,
     "end_time": "2021-08-29T00:38:08.284761",
     "exception": false,
     "start_time": "2021-08-29T00:38:08.197867",
     "status": "completed"
    },
    "tags": []
   },
   "source": [
    "### わかったこと\n",
    "* time_idごとで相関がバラバラ\n",
    "* time_idごとで個数がバラバラ"
   ]
  },
  {
   "cell_type": "markdown",
   "id": "c031e108",
   "metadata": {
    "papermill": {
     "duration": 0.086266,
     "end_time": "2021-08-29T00:38:08.516681",
     "exception": false,
     "start_time": "2021-08-29T00:38:08.430415",
     "status": "completed"
    },
    "tags": []
   },
   "source": [
    "### データをトレンドと季節成分に分解"
   ]
  },
  {
   "cell_type": "code",
   "execution_count": 36,
   "id": "68d9fbb4",
   "metadata": {
    "execution": {
     "iopub.execute_input": "2021-08-29T00:38:08.698441Z",
     "iopub.status.busy": "2021-08-29T00:38:08.697441Z",
     "iopub.status.idle": "2021-08-29T00:38:09.136054Z",
     "shell.execute_reply": "2021-08-29T00:38:09.136583Z"
    },
    "papermill": {
     "duration": 0.533532,
     "end_time": "2021-08-29T00:38:09.136755",
     "exception": false,
     "start_time": "2021-08-29T00:38:08.603223",
     "status": "completed"
    },
    "tags": []
   },
   "outputs": [
    {
     "name": "stderr",
     "output_type": "stream",
     "text": [
      "/opt/conda/lib/python3.7/site-packages/ipykernel_launcher.py:1: FutureWarning: the 'freq'' keyword is deprecated, use 'period' instead\n",
      "  \"\"\"Entry point for launching an IPython kernel.\n"
     ]
    },
    {
     "data": {
      "image/png": "[encoded data removed]",
      "text/plain": [
       "<Figure size 576x576 with 4 Axes>"
      ]
     },
     "metadata": {
      "needs_background": "light"
     },
     "output_type": "display_data"
    }
   ],
   "source": [
    "seasonal_decompose_res = sm.tsa.seasonal_decompose(df[df[\"time_id\"] == book_time_id_number]['wap'], freq=12)\n",
    "\n",
    "fig, axes = plt.subplots(nrows=4, ncols=1, figsize=(8, 8), sharex=True)\n",
    "# 原系列\n",
    "axes[0].set_title('Observed')\n",
    "axes[0].plot(seasonal_decompose_res.observed)\n",
    "# 傾向変動\n",
    "axes[1].set_title('Trend')\n",
    "axes[1].plot(seasonal_decompose_res.trend)\n",
    "# 季節変動\n",
    "axes[2].set_title('Seasonal')\n",
    "axes[2].plot(seasonal_decompose_res.seasonal)\n",
    "# 残差 (不規則変動 = 誤差変動 + 特異的変動)\n",
    "axes[3].set_title('Residual')\n",
    "axes[3].plot(seasonal_decompose_res.resid)\n",
    "\n",
    "# グラフを表示する\n",
    "plt.show()"
   ]
  },
  {
   "cell_type": "markdown",
   "id": "6e73db99",
   "metadata": {
    "papermill": {
     "duration": 0.093226,
     "end_time": "2021-08-29T00:38:09.322164",
     "exception": false,
     "start_time": "2021-08-29T00:38:09.228938",
     "status": "completed"
    },
    "tags": []
   },
   "source": [
    "観測データ(生データ) = トレンド成分 + 季節成分 + 残差  \n",
    "トレンド成分で、動きが大きいと、次の予想に繋がるか？"
   ]
  },
  {
   "cell_type": "markdown",
   "id": "b1edf8a0",
   "metadata": {
    "papermill": {
     "duration": 0.089985,
     "end_time": "2021-08-29T00:38:09.503370",
     "exception": false,
     "start_time": "2021-08-29T00:38:09.413385",
     "status": "completed"
    },
    "tags": []
   },
   "source": [
    "## Trade 側"
   ]
  },
  {
   "cell_type": "code",
   "execution_count": 37,
   "id": "d4a761ec",
   "metadata": {
    "execution": {
     "iopub.execute_input": "2021-08-29T00:38:09.687015Z",
     "iopub.status.busy": "2021-08-29T00:38:09.686387Z",
     "iopub.status.idle": "2021-08-29T00:38:09.717181Z",
     "shell.execute_reply": "2021-08-29T00:38:09.718150Z",
     "shell.execute_reply.started": "2021-08-29T00:23:16.375682Z"
    },
    "papermill": {
     "duration": 0.12492,
     "end_time": "2021-08-29T00:38:09.718460",
     "exception": false,
     "start_time": "2021-08-29T00:38:09.593540",
     "status": "completed"
    },
    "tags": []
   },
   "outputs": [
    {
     "name": "stdout",
     "output_type": "stream",
     "text": [
      "[    5    11    16 ... 32758 32763 32767]\n"
     ]
    }
   ],
   "source": [
    "df_trade = pd.read_parquet(data_dir + \"trade_train.parquet/stock_id=0\")\n",
    "df_trade_ids = df_trade.time_id.unique()\n",
    "print(df_trade_ids)"
   ]
  },
  {
   "cell_type": "code",
   "execution_count": 38,
   "id": "1d14a2be",
   "metadata": {
    "execution": {
     "iopub.execute_input": "2021-08-29T00:38:09.904263Z",
     "iopub.status.busy": "2021-08-29T00:38:09.903595Z",
     "iopub.status.idle": "2021-08-29T00:38:09.907007Z",
     "shell.execute_reply": "2021-08-29T00:38:09.907636Z",
     "shell.execute_reply.started": "2021-08-29T00:23:16.756483Z"
    },
    "papermill": {
     "duration": 0.097703,
     "end_time": "2021-08-29T00:38:09.907801",
     "exception": false,
     "start_time": "2021-08-29T00:38:09.810098",
     "status": "completed"
    },
    "tags": []
   },
   "outputs": [],
   "source": [
    "trade_time_id_number = 32758 "
   ]
  },
  {
   "cell_type": "code",
   "execution_count": 39,
   "id": "d4a41739",
   "metadata": {
    "execution": {
     "iopub.execute_input": "2021-08-29T00:38:10.093540Z",
     "iopub.status.busy": "2021-08-29T00:38:10.092891Z",
     "iopub.status.idle": "2021-08-29T00:38:10.121965Z",
     "shell.execute_reply": "2021-08-29T00:38:10.122569Z",
     "shell.execute_reply.started": "2021-08-29T00:23:17.147742Z"
    },
    "papermill": {
     "duration": 0.124593,
     "end_time": "2021-08-29T00:38:10.122747",
     "exception": false,
     "start_time": "2021-08-29T00:38:09.998154",
     "status": "completed"
    },
    "tags": []
   },
   "outputs": [
    {
     "data": {
      "text/html": [
       "<div>\n",
       "<style scoped>\n",
       "    .dataframe tbody tr th:only-of-type {\n",
       "        vertical-align: middle;\n",
       "    }\n",
       "\n",
       "    .dataframe tbody tr th {\n",
       "        vertical-align: top;\n",
       "    }\n",
       "\n",
       "    .dataframe thead th {\n",
       "        text-align: right;\n",
       "    }\n",
       "</style>\n",
       "<table border=\"1\" class=\"dataframe\">\n",
       "  <thead>\n",
       "    <tr style=\"text-align: right;\">\n",
       "      <th></th>\n",
       "      <th>time_id</th>\n",
       "      <th>seconds_in_bucket</th>\n",
       "      <th>price</th>\n",
       "      <th>size</th>\n",
       "      <th>order_count</th>\n",
       "    </tr>\n",
       "  </thead>\n",
       "  <tbody>\n",
       "    <tr>\n",
       "      <th>count</th>\n",
       "      <td>36.0</td>\n",
       "      <td>36.000000</td>\n",
       "      <td>36.000000</td>\n",
       "      <td>36.000000</td>\n",
       "      <td>36.000000</td>\n",
       "    </tr>\n",
       "    <tr>\n",
       "      <th>mean</th>\n",
       "      <td>32758.0</td>\n",
       "      <td>304.305556</td>\n",
       "      <td>0.999633</td>\n",
       "      <td>118.055556</td>\n",
       "      <td>3.500000</td>\n",
       "    </tr>\n",
       "    <tr>\n",
       "      <th>std</th>\n",
       "      <td>0.0</td>\n",
       "      <td>167.294918</td>\n",
       "      <td>0.000695</td>\n",
       "      <td>141.328583</td>\n",
       "      <td>3.660601</td>\n",
       "    </tr>\n",
       "    <tr>\n",
       "      <th>min</th>\n",
       "      <td>32758.0</td>\n",
       "      <td>0.000000</td>\n",
       "      <td>0.998438</td>\n",
       "      <td>1.000000</td>\n",
       "      <td>1.000000</td>\n",
       "    </tr>\n",
       "    <tr>\n",
       "      <th>25%</th>\n",
       "      <td>32758.0</td>\n",
       "      <td>151.000000</td>\n",
       "      <td>0.999037</td>\n",
       "      <td>12.750000</td>\n",
       "      <td>1.000000</td>\n",
       "    </tr>\n",
       "    <tr>\n",
       "      <th>50%</th>\n",
       "      <td>32758.0</td>\n",
       "      <td>353.500000</td>\n",
       "      <td>0.999504</td>\n",
       "      <td>100.000000</td>\n",
       "      <td>2.000000</td>\n",
       "    </tr>\n",
       "    <tr>\n",
       "      <th>75%</th>\n",
       "      <td>32758.0</td>\n",
       "      <td>418.000000</td>\n",
       "      <td>1.000353</td>\n",
       "      <td>173.750000</td>\n",
       "      <td>4.250000</td>\n",
       "    </tr>\n",
       "    <tr>\n",
       "      <th>max</th>\n",
       "      <td>32758.0</td>\n",
       "      <td>579.000000</td>\n",
       "      <td>1.000705</td>\n",
       "      <td>601.000000</td>\n",
       "      <td>18.000000</td>\n",
       "    </tr>\n",
       "  </tbody>\n",
       "</table>\n",
       "</div>"
      ],
      "text/plain": [
       "       time_id  seconds_in_bucket      price        size  order_count\n",
       "count     36.0          36.000000  36.000000   36.000000    36.000000\n",
       "mean   32758.0         304.305556   0.999633  118.055556     3.500000\n",
       "std        0.0         167.294918   0.000695  141.328583     3.660601\n",
       "min    32758.0           0.000000   0.998438    1.000000     1.000000\n",
       "25%    32758.0         151.000000   0.999037   12.750000     1.000000\n",
       "50%    32758.0         353.500000   0.999504  100.000000     2.000000\n",
       "75%    32758.0         418.000000   1.000353  173.750000     4.250000\n",
       "max    32758.0         579.000000   1.000705  601.000000    18.000000"
      ]
     },
     "execution_count": 39,
     "metadata": {},
     "output_type": "execute_result"
    }
   ],
   "source": [
    "df_trade[df_trade[\"time_id\"] == trade_time_id_number ].describe()"
   ]
  },
  {
   "cell_type": "code",
   "execution_count": 40,
   "id": "859266dd",
   "metadata": {
    "execution": {
     "iopub.execute_input": "2021-08-29T00:38:10.307656Z",
     "iopub.status.busy": "2021-08-29T00:38:10.306931Z",
     "iopub.status.idle": "2021-08-29T00:38:10.652871Z",
     "shell.execute_reply": "2021-08-29T00:38:10.652382Z",
     "shell.execute_reply.started": "2021-08-29T00:23:26.934315Z"
    },
    "papermill": {
     "duration": 0.439398,
     "end_time": "2021-08-29T00:38:10.653009",
     "exception": false,
     "start_time": "2021-08-29T00:38:10.213611",
     "status": "completed"
    },
    "tags": []
   },
   "outputs": [
    {
     "name": "stdout",
     "output_type": "stream",
     "text": [
      "CPU times: user 81.5 ms, sys: 45.9 ms, total: 127 ms\n",
      "Wall time: 61.2 ms\n"
     ]
    },
    {
     "data": {
      "image/png": "[encoded data removed]",
      "text/plain": [
       "<Figure size 864x576 with 2 Axes>"
      ]
     },
     "metadata": {
      "needs_background": "light"
     },
     "output_type": "display_data"
    }
   ],
   "source": [
    "%%time\n",
    "fig = plt.figure(figsize=(12,8))\n",
    "ax1 = fig.add_subplot(211)\n",
    "fig = sm.graphics.tsa.plot_acf(df_trade[df_trade[\"time_id\"] == trade_time_id_number]['price'], lags=10, ax=ax1)\n",
    "ax2 = fig.add_subplot(212)\n",
    "fig = sm.graphics.tsa.plot_pacf(df_trade[df_trade[\"time_id\"] == trade_time_id_number]['price'],lags=10, ax=ax2)"
   ]
  },
  {
   "cell_type": "code",
   "execution_count": 41,
   "id": "b49ae589",
   "metadata": {
    "execution": {
     "iopub.execute_input": "2021-08-29T00:38:10.848873Z",
     "iopub.status.busy": "2021-08-29T00:38:10.847874Z",
     "iopub.status.idle": "2021-08-29T00:38:11.327301Z",
     "shell.execute_reply": "2021-08-29T00:38:11.326749Z",
     "shell.execute_reply.started": "2021-08-29T00:23:36.389453Z"
    },
    "papermill": {
     "duration": 0.581849,
     "end_time": "2021-08-29T00:38:11.327442",
     "exception": false,
     "start_time": "2021-08-29T00:38:10.745593",
     "status": "completed"
    },
    "tags": []
   },
   "outputs": [
    {
     "data": {
      "text/plain": [
       "array([[<AxesSubplot:title={'center':'seconds_in_bucket'}>,\n",
       "        <AxesSubplot:title={'center':'price'}>],\n",
       "       [<AxesSubplot:title={'center':'size'}>,\n",
       "        <AxesSubplot:title={'center':'order_count'}>]], dtype=object)"
      ]
     },
     "execution_count": 41,
     "metadata": {},
     "output_type": "execute_result"
    },
    {
     "data": {
      "image/png": "[encoded data removed]",
      "text/plain": [
       "<Figure size 432x288 with 4 Axes>"
      ]
     },
     "metadata": {
      "needs_background": "light"
     },
     "output_type": "display_data"
    }
   ],
   "source": [
    "df_time_id_count = df_trade.groupby('time_id').count()\n",
    "df_time_id_count.hist()"
   ]
  },
  {
   "cell_type": "markdown",
   "id": "a3b1c2d4",
   "metadata": {
    "papermill": {
     "duration": 0.094489,
     "end_time": "2021-08-29T00:38:11.515052",
     "exception": false,
     "start_time": "2021-08-29T00:38:11.420563",
     "status": "completed"
    },
    "tags": []
   },
   "source": [
    "# 気づいたこと\n",
    "trade側でもtime_idごとのデータ数は必ず固定ということはない。\n",
    "\n",
    "➡売買で決まるから変則的か？"
   ]
  },
  {
   "cell_type": "code",
   "execution_count": 42,
   "id": "448a90ee",
   "metadata": {
    "execution": {
     "iopub.execute_input": "2021-08-29T00:38:11.709405Z",
     "iopub.status.busy": "2021-08-29T00:38:11.708752Z",
     "iopub.status.idle": "2021-08-29T00:38:12.286215Z",
     "shell.execute_reply": "2021-08-29T00:38:12.285674Z",
     "shell.execute_reply.started": "2021-08-29T00:23:51.3116Z"
    },
    "papermill": {
     "duration": 0.677907,
     "end_time": "2021-08-29T00:38:12.286354",
     "exception": false,
     "start_time": "2021-08-29T00:38:11.608447",
     "status": "completed"
    },
    "tags": []
   },
   "outputs": [
    {
     "name": "stderr",
     "output_type": "stream",
     "text": [
      "/opt/conda/lib/python3.7/site-packages/ipykernel_launcher.py:1: FutureWarning: the 'freq'' keyword is deprecated, use 'period' instead\n",
      "  \"\"\"Entry point for launching an IPython kernel.\n"
     ]
    },
    {
     "data": {
      "image/png": "[encoded data removed]",
      "text/plain": [
       "<Figure size 576x576 with 4 Axes>"
      ]
     },
     "metadata": {
      "needs_background": "light"
     },
     "output_type": "display_data"
    }
   ],
   "source": [
    "seasonal_decompose_res = sm.tsa.seasonal_decompose(df_trade[df_trade[\"time_id\"] == trade_time_id_number]['price'], freq=12)\n",
    "\n",
    "fig, axes = plt.subplots(nrows=4, ncols=1, figsize=(8, 8), sharex=True)\n",
    "# 原系列\n",
    "axes[0].set_title('Observed')\n",
    "axes[0].plot(seasonal_decompose_res.observed)\n",
    "# 傾向変動\n",
    "axes[1].set_title('Trend')\n",
    "axes[1].plot(seasonal_decompose_res.trend)\n",
    "# 季節変動\n",
    "axes[2].set_title('Seasonal')\n",
    "axes[2].plot(seasonal_decompose_res.seasonal)\n",
    "# 残差 (不規則変動 = 誤差変動 + 特異的変動)\n",
    "axes[3].set_title('Residual')\n",
    "axes[3].plot(seasonal_decompose_res.resid)\n",
    "\n",
    "# グラフを表示する\n",
    "plt.show()"
   ]
  },
  {
   "cell_type": "code",
   "execution_count": null,
   "id": "9ff26512",
   "metadata": {
    "papermill": {
     "duration": 0.096123,
     "end_time": "2021-08-29T00:38:12.479398",
     "exception": false,
     "start_time": "2021-08-29T00:38:12.383275",
     "status": "completed"
    },
    "tags": []
   },
   "outputs": [],
   "source": []
  }
 ],
 "metadata": {
  "kernelspec": {
   "display_name": "Python 3",
   "language": "python",
   "name": "python3"
  },
  "language_info": {
   "codemirror_mode": {
    "name": "ipython",
    "version": 3
   },
   "file_extension": ".py",
   "mimetype": "text/x-python",
   "name": "python",
   "nbconvert_exporter": "python",
   "pygments_lexer": "ipython3",
   "version": "3.7.10"
  },
  "papermill": {
   "default_parameters": {},
   "duration": 755.060063,
   "end_time": "2021-08-29T00:38:14.011894",
   "environment_variables": {},
   "exception": null,
   "input_path": "__notebook__.ipynb",
   "output_path": "__notebook__.ipynb",
   "parameters": {},
   "start_time": "2021-08-29T00:25:38.951831",
   "version": "2.3.3"
  }
 },
 "nbformat": 4,
 "nbformat_minor": 5
}
