{
 "cells": [
  {
   "cell_type": "code",
   "execution_count": 15,
   "id": "cb3d6d15-7747-4ae3-9d60-3ef5890bdaca",
   "metadata": {},
   "outputs": [],
   "source": [
    "import os\n",
    "import gc\n",
    "import glob\n",
    "\n",
    "import numpy as np \n",
    "import pandas as pd \n",
    "\n",
    "from itertools import islice\n",
    "\n",
    "from multiprocessing import Pool\n",
    "from sklearn.preprocessing import MinMaxScaler, StandardScaler\n",
    "\n",
    "import tensorflow as tf\n",
    "#import keras.backend as K\n",
    "\n",
    "from tensorflow.keras.layers import Dense, Lambda, Dot, Activation, Concatenate\n",
    "from tensorflow.keras.layers import Layer\n",
    "\n",
    "from sklearn.model_selection import train_test_split\n",
    "\n",
    "from tqdm.auto import tqdm\n",
    "tqdm.pandas()\n",
    "\n",
    "import warnings\n",
    "warnings.filterwarnings('ignore')"
   ]
  },
  {
   "cell_type": "code",
   "execution_count": 11,
   "id": "6abc2915-8e62-461d-88b4-8d518ef92374",
   "metadata": {},
   "outputs": [],
   "source": [
    "NTHREADS = 4\n",
    "SEED = 42\n",
    "TRAIN_BATCH_SIZE = 256\n",
    "TEST_BATCH_SIZE = 256\n",
    "BUCKET_WINDOWS2 = [(0, 100), (100, 200), (200, 300), (300, 400), (400, 500), (500, 600)]\n",
    "\n",
    "DATA_PATH        = '../input/optiver-realized-volatility-prediction'\n",
    "BOOK_TRAIN_PATH  = '../input/optiver-realized-volatility-prediction/book_train.parquet'\n",
    "TRADE_TRAIN_PATH = '../input/optiver-realized-volatility-prediction/trade_train.parquet'\n",
    "BOOK_TEST_PATH   = '../input/optiver-realized-volatility-prediction/book_test.parquet'\n",
    "TRADE_TEST_PATH  = '../input/optiver-realized-volatility-prediction/trade_test.parquet'\n",
    "CHECKPOINT       = './model_checkpoint/model_01'\n",
    "\n",
    "book_skip_columns = trade_skip_columns = ['time_id', 'row_id', 'target']"
   ]
  },
  {
   "cell_type": "markdown",
   "id": "20e494ef-bb77-4126-82b9-847df9849c04",
   "metadata": {},
   "source": [
    "# 辞書を作成する"
   ]
  },
  {
   "cell_type": "code",
   "execution_count": 5,
   "id": "dea01de1-0ba4-4a87-898c-d66e8e1d27f4",
   "metadata": {},
   "outputs": [],
   "source": [
    "def get_path_dict(f, v):\n",
    "\n",
    "    f_dict = {}\n",
    "    for i in tqdm(v):\n",
    "        fpath = f'{f}/stock_id={i}'\n",
    "        flist = glob.glob(os.path.join(fpath, '*.parquet'))\n",
    "    \n",
    "        if len(flist) > 0:\n",
    "            f_dict[i] = flist[0]\n",
    "    \n",
    "    return f_dict"
   ]
  },
  {
   "cell_type": "code",
   "execution_count": 8,
   "id": "a0a41077-eaf8-4705-a455-b739b1812719",
   "metadata": {},
   "outputs": [
    {
     "name": "stdout",
     "output_type": "stream",
     "text": [
      "Train ds shape: (428932, 4)\n",
      "Test ds shape: (3, 3)\n"
     ]
    }
   ],
   "source": [
    "train_ds = pd.read_csv(os.path.join(DATA_PATH, 'train.csv'))\n",
    "test_ds = pd.read_csv(os.path.join(DATA_PATH, 'test.csv'))\n",
    "train_ds['row_id'] = train_ds['stock_id'].astype(str) + '-' + train_ds['time_id'].astype(str)\n",
    "\n",
    "print(f'Train ds shape: {train_ds.shape}')\n",
    "print(f'Test ds shape: {test_ds.shape}')"
   ]
  },
  {
   "cell_type": "code",
   "execution_count": 9,
   "id": "27b7f889-240d-44bf-a551-690b8c7cc2ed",
   "metadata": {},
   "outputs": [
    {
     "data": {
      "application/vnd.jupyter.widget-view+json": {
       "model_id": "a38310f755a649849459e0e44920461c",
       "version_major": 2,
       "version_minor": 0
      },
      "text/plain": [
       "  0%|          | 0/112 [00:00<?, ?it/s]"
      ]
     },
     "metadata": {},
     "output_type": "display_data"
    },
    {
     "data": {
      "application/vnd.jupyter.widget-view+json": {
       "model_id": "f20255fd252f4863aab2ca7f1d666d29",
       "version_major": 2,
       "version_minor": 0
      },
      "text/plain": [
       "  0%|          | 0/112 [00:00<?, ?it/s]"
      ]
     },
     "metadata": {},
     "output_type": "display_data"
    },
    {
     "data": {
      "application/vnd.jupyter.widget-view+json": {
       "model_id": "27a924dc7ff348e79de29bc82b81ea2b",
       "version_major": 2,
       "version_minor": 0
      },
      "text/plain": [
       "  0%|          | 0/1 [00:00<?, ?it/s]"
      ]
     },
     "metadata": {},
     "output_type": "display_data"
    },
    {
     "data": {
      "application/vnd.jupyter.widget-view+json": {
       "model_id": "55a26915e6d5465f93539bdc7ac2942e",
       "version_major": 2,
       "version_minor": 0
      },
      "text/plain": [
       "  0%|          | 0/1 [00:00<?, ?it/s]"
      ]
     },
     "metadata": {},
     "output_type": "display_data"
    }
   ],
   "source": [
    "book_train_dict = get_path_dict(BOOK_TRAIN_PATH, train_ds['stock_id'].unique())\n",
    "trade_train_dict = get_path_dict(TRADE_TRAIN_PATH, train_ds['stock_id'].unique())\n",
    "\n",
    "book_test_dict = get_path_dict(BOOK_TEST_PATH, test_ds['stock_id'].unique())\n",
    "trade_test_dict = get_path_dict(TRADE_TEST_PATH, test_ds['stock_id'].unique())"
   ]
  },
  {
   "cell_type": "code",
   "execution_count": 10,
   "id": "4ff2eeb3-1b2c-4ba0-9096-c889e03cc301",
   "metadata": {},
   "outputs": [
    {
     "data": {
      "text/plain": [
       "{0: '../input/optiver-realized-volatility-prediction/book_train.parquet/stock_id=0/c439ef22282f412ba39e9137a3fdabac.parquet',\n",
       " 1: '../input/optiver-realized-volatility-prediction/book_train.parquet/stock_id=1/31a1c5cd6d8546b383d10373db762236.parquet',\n",
       " 2: '../input/optiver-realized-volatility-prediction/book_train.parquet/stock_id=2/36f27d865da54e8d92ff54e07ac4afd2.parquet',\n",
       " 3: '../input/optiver-realized-volatility-prediction/book_train.parquet/stock_id=3/ccc6d426f595409680d6f422ed911bee.parquet',\n",
       " 4: '../input/optiver-realized-volatility-prediction/book_train.parquet/stock_id=4/6ae39a36676a419f8847cb217e5ec75d.parquet',\n",
       " 5: '../input/optiver-realized-volatility-prediction/book_train.parquet/stock_id=5/c39da423b1404b00946ceedf32ae3f07.parquet',\n",
       " 6: '../input/optiver-realized-volatility-prediction/book_train.parquet/stock_id=6/84352cd5e3424aeaadf11f8d89c8a07a.parquet',\n",
       " 7: '../input/optiver-realized-volatility-prediction/book_train.parquet/stock_id=7/4f66c3336dec449280ed3719530f9486.parquet',\n",
       " 8: '../input/optiver-realized-volatility-prediction/book_train.parquet/stock_id=8/e40cd587617e4bfc86f0125aef383932.parquet',\n",
       " 9: '../input/optiver-realized-volatility-prediction/book_train.parquet/stock_id=9/8a87bd6ec9934a889026174cceb9e30a.parquet',\n",
       " 10: '../input/optiver-realized-volatility-prediction/book_train.parquet/stock_id=10/d671bb2b87f447d4ba3fa4b18b3656f9.parquet',\n",
       " 11: '../input/optiver-realized-volatility-prediction/book_train.parquet/stock_id=11/755d9c4058914e2a901aaeccf2406e30.parquet',\n",
       " 13: '../input/optiver-realized-volatility-prediction/book_train.parquet/stock_id=13/e576f0cd91c347a7b1cdb87c3bd1abf4.parquet',\n",
       " 14: '../input/optiver-realized-volatility-prediction/book_train.parquet/stock_id=14/ae1ae9deed8048fbb1191a77ca68ab24.parquet',\n",
       " 15: '../input/optiver-realized-volatility-prediction/book_train.parquet/stock_id=15/a47deb70de554fdcb7b780bd060d4564.parquet',\n",
       " 16: '../input/optiver-realized-volatility-prediction/book_train.parquet/stock_id=16/eaa06704bf15493fae496cdf6c016b6c.parquet',\n",
       " 17: '../input/optiver-realized-volatility-prediction/book_train.parquet/stock_id=17/4539ddf198a64337bdeca019b4edb1bb.parquet',\n",
       " 18: '../input/optiver-realized-volatility-prediction/book_train.parquet/stock_id=18/cbc56bf4cc424b12ae18493920465a3a.parquet',\n",
       " 19: '../input/optiver-realized-volatility-prediction/book_train.parquet/stock_id=19/cae027e29b0749b5b2e139134b75fe63.parquet',\n",
       " 20: '../input/optiver-realized-volatility-prediction/book_train.parquet/stock_id=20/fe0e467dc2ca4092afc151d4069c54a7.parquet',\n",
       " 21: '../input/optiver-realized-volatility-prediction/book_train.parquet/stock_id=21/60cc70a1e25d4da7b39fbfac2bd9fab1.parquet',\n",
       " 22: '../input/optiver-realized-volatility-prediction/book_train.parquet/stock_id=22/3f2ddd48d0b147f09c852cc2034ece80.parquet',\n",
       " 23: '../input/optiver-realized-volatility-prediction/book_train.parquet/stock_id=23/9229d9611b4e45b4bf81d60939a8274a.parquet',\n",
       " 26: '../input/optiver-realized-volatility-prediction/book_train.parquet/stock_id=26/1adc4a39b6fe4f8bbbedd7551006a170.parquet',\n",
       " 27: '../input/optiver-realized-volatility-prediction/book_train.parquet/stock_id=27/0e5f57dd508b46cb9d6d88bd63aeaedd.parquet',\n",
       " 28: '../input/optiver-realized-volatility-prediction/book_train.parquet/stock_id=28/e956e66d12664e509d27a680731a4057.parquet',\n",
       " 29: '../input/optiver-realized-volatility-prediction/book_train.parquet/stock_id=29/9534c4ef29c049f6af22f4ca8305f315.parquet',\n",
       " 30: '../input/optiver-realized-volatility-prediction/book_train.parquet/stock_id=30/ee59d4b4cf4847adaee7de785d7918e4.parquet',\n",
       " 31: '../input/optiver-realized-volatility-prediction/book_train.parquet/stock_id=31/c0b9eb5ed0bf40bc838fab4da5459f76.parquet',\n",
       " 32: '../input/optiver-realized-volatility-prediction/book_train.parquet/stock_id=32/446dd6db2d064e5b86666c66ec669755.parquet',\n",
       " 33: '../input/optiver-realized-volatility-prediction/book_train.parquet/stock_id=33/85142fc4257b4ece8157a174ae6d2f4f.parquet',\n",
       " 34: '../input/optiver-realized-volatility-prediction/book_train.parquet/stock_id=34/4cb0d70566654bf480518b3a1cee2ad2.parquet',\n",
       " 35: '../input/optiver-realized-volatility-prediction/book_train.parquet/stock_id=35/8803efd6c9c44895a6fda59448a8eede.parquet',\n",
       " 36: '../input/optiver-realized-volatility-prediction/book_train.parquet/stock_id=36/0ffca9c0dae84890ad8c923d4b95e840.parquet',\n",
       " 37: '../input/optiver-realized-volatility-prediction/book_train.parquet/stock_id=37/7163ec1911204a10a479e421c0a41a35.parquet',\n",
       " 38: '../input/optiver-realized-volatility-prediction/book_train.parquet/stock_id=38/c49c83c6eb1c41f0b8f0d61de1e3bb89.parquet',\n",
       " 39: '../input/optiver-realized-volatility-prediction/book_train.parquet/stock_id=39/99d14712047840fbb3a93eb1f6ebc7a2.parquet',\n",
       " 40: '../input/optiver-realized-volatility-prediction/book_train.parquet/stock_id=40/ab33096950f647ddb7b705f17b21f11c.parquet',\n",
       " 41: '../input/optiver-realized-volatility-prediction/book_train.parquet/stock_id=41/3090fd7adaf447679b6e836778168be8.parquet',\n",
       " 42: '../input/optiver-realized-volatility-prediction/book_train.parquet/stock_id=42/01281c6eedfc46c1b72357c484e640b5.parquet',\n",
       " 43: '../input/optiver-realized-volatility-prediction/book_train.parquet/stock_id=43/ce8f54442b1142338d2e4b02b9dc578a.parquet',\n",
       " 44: '../input/optiver-realized-volatility-prediction/book_train.parquet/stock_id=44/31274a12b2ec4c24a4a57a054e67d704.parquet',\n",
       " 46: '../input/optiver-realized-volatility-prediction/book_train.parquet/stock_id=46/db00d635f1614686837abc1c71f6e16b.parquet',\n",
       " 47: '../input/optiver-realized-volatility-prediction/book_train.parquet/stock_id=47/ede300b0202a43caaaefc8ae07475c33.parquet',\n",
       " 48: '../input/optiver-realized-volatility-prediction/book_train.parquet/stock_id=48/5c08c8582813448e8e87eda2c3c36b84.parquet',\n",
       " 50: '../input/optiver-realized-volatility-prediction/book_train.parquet/stock_id=50/0f5c98a29be64774a136b60f71033ec6.parquet',\n",
       " 51: '../input/optiver-realized-volatility-prediction/book_train.parquet/stock_id=51/ace8af4c1a474efd80544609ea4a47c4.parquet',\n",
       " 52: '../input/optiver-realized-volatility-prediction/book_train.parquet/stock_id=52/d5eb854d66174f5483449da151fbca50.parquet',\n",
       " 53: '../input/optiver-realized-volatility-prediction/book_train.parquet/stock_id=53/46c591d10f0940de908317001e533db7.parquet',\n",
       " 55: '../input/optiver-realized-volatility-prediction/book_train.parquet/stock_id=55/d3bdb39f65d34bb18278d789729f9323.parquet',\n",
       " 56: '../input/optiver-realized-volatility-prediction/book_train.parquet/stock_id=56/55f4ad52ac2347f1a468ea3bf0cb7adc.parquet',\n",
       " 58: '../input/optiver-realized-volatility-prediction/book_train.parquet/stock_id=58/33de4ffff5494e3a8ecc02c7b6d9433a.parquet',\n",
       " 59: '../input/optiver-realized-volatility-prediction/book_train.parquet/stock_id=59/fd5b747386604005b18594c00f0312ab.parquet',\n",
       " 60: '../input/optiver-realized-volatility-prediction/book_train.parquet/stock_id=60/6242aca22efd458fbec9a13c86ab42ee.parquet',\n",
       " 61: '../input/optiver-realized-volatility-prediction/book_train.parquet/stock_id=61/2522f71edc4d47419f602cc920f906d6.parquet',\n",
       " 62: '../input/optiver-realized-volatility-prediction/book_train.parquet/stock_id=62/c2a348a3d0b04a1c945607779c2128dd.parquet',\n",
       " 63: '../input/optiver-realized-volatility-prediction/book_train.parquet/stock_id=63/37bff36e80a0485bba2bf875cb3188d4.parquet',\n",
       " 64: '../input/optiver-realized-volatility-prediction/book_train.parquet/stock_id=64/acbff79109e44474bfa3a6145bd4244a.parquet',\n",
       " 66: '../input/optiver-realized-volatility-prediction/book_train.parquet/stock_id=66/3d1df975704b49cbb407d74d1adb53b6.parquet',\n",
       " 67: '../input/optiver-realized-volatility-prediction/book_train.parquet/stock_id=67/2a7fd60b816b431597dec0e80d0ec3b7.parquet',\n",
       " 68: '../input/optiver-realized-volatility-prediction/book_train.parquet/stock_id=68/ab42bd95488842f5aa15b750052e79ad.parquet',\n",
       " 69: '../input/optiver-realized-volatility-prediction/book_train.parquet/stock_id=69/16f9fe0eb6544a1d89fbf25f290b8466.parquet',\n",
       " 70: '../input/optiver-realized-volatility-prediction/book_train.parquet/stock_id=70/afecffe028274a66a0e674d0db2d3c3c.parquet',\n",
       " 72: '../input/optiver-realized-volatility-prediction/book_train.parquet/stock_id=72/0a18126395144a0a8ccca55bdbd31f1b.parquet',\n",
       " 73: '../input/optiver-realized-volatility-prediction/book_train.parquet/stock_id=73/42238482fd7443838a8fc6490cd329c8.parquet',\n",
       " 74: '../input/optiver-realized-volatility-prediction/book_train.parquet/stock_id=74/8229e924b5ef4716a0078d9e8ee397bd.parquet',\n",
       " 75: '../input/optiver-realized-volatility-prediction/book_train.parquet/stock_id=75/f0354d49be4e4552b548b410b349bbc8.parquet',\n",
       " 76: '../input/optiver-realized-volatility-prediction/book_train.parquet/stock_id=76/494ecaad37f9430384ad0a825aab00ec.parquet',\n",
       " 77: '../input/optiver-realized-volatility-prediction/book_train.parquet/stock_id=77/5f6ce3ce569548c78c2ad17035454639.parquet',\n",
       " 78: '../input/optiver-realized-volatility-prediction/book_train.parquet/stock_id=78/b6deb113746a4de0a752ca0b2917f7ef.parquet',\n",
       " 80: '../input/optiver-realized-volatility-prediction/book_train.parquet/stock_id=80/705f7c3bde584dadba222d4ef6f7973e.parquet',\n",
       " 81: '../input/optiver-realized-volatility-prediction/book_train.parquet/stock_id=81/3736a90d604d4b8eaa15c6eb5f83fd8c.parquet',\n",
       " 82: '../input/optiver-realized-volatility-prediction/book_train.parquet/stock_id=82/ae830997c75f405986957af2984493f3.parquet',\n",
       " 83: '../input/optiver-realized-volatility-prediction/book_train.parquet/stock_id=83/4c10ab2a0f324a1189af12bd5458ef15.parquet',\n",
       " 84: '../input/optiver-realized-volatility-prediction/book_train.parquet/stock_id=84/53e9faaf11e745debb3c246acea61a84.parquet',\n",
       " 85: '../input/optiver-realized-volatility-prediction/book_train.parquet/stock_id=85/1b7a536b29724b60990ee6c368f1fbf0.parquet',\n",
       " 86: '../input/optiver-realized-volatility-prediction/book_train.parquet/stock_id=86/6ecdb8f8c4da483b8fd3fbdf6aee4381.parquet',\n",
       " 87: '../input/optiver-realized-volatility-prediction/book_train.parquet/stock_id=87/670ab2a9e8b548bdaa8b9f8bc9057331.parquet',\n",
       " 88: '../input/optiver-realized-volatility-prediction/book_train.parquet/stock_id=88/2c4ed518efb54a4f880a0f945c317fae.parquet',\n",
       " 89: '../input/optiver-realized-volatility-prediction/book_train.parquet/stock_id=89/a1cd471332f24761a90f6fadb8b54ccf.parquet',\n",
       " 90: '../input/optiver-realized-volatility-prediction/book_train.parquet/stock_id=90/380689865a7c4af8aa8625a7a7c40533.parquet',\n",
       " 93: '../input/optiver-realized-volatility-prediction/book_train.parquet/stock_id=93/036725ac1ba94d40bf15a75c36adb184.parquet',\n",
       " 94: '../input/optiver-realized-volatility-prediction/book_train.parquet/stock_id=94/d4c922016df84141ad176dac1455b725.parquet',\n",
       " 95: '../input/optiver-realized-volatility-prediction/book_train.parquet/stock_id=95/8e4a80c1b7eb44e8844cc0f2ec4badff.parquet',\n",
       " 96: '../input/optiver-realized-volatility-prediction/book_train.parquet/stock_id=96/605c29fae948465db8c2ab233852e982.parquet',\n",
       " 97: '../input/optiver-realized-volatility-prediction/book_train.parquet/stock_id=97/52e74e4ef0d84c5c989fc4704e46b527.parquet',\n",
       " 98: '../input/optiver-realized-volatility-prediction/book_train.parquet/stock_id=98/59ad203a6ac040fdb891702430440b01.parquet',\n",
       " 99: '../input/optiver-realized-volatility-prediction/book_train.parquet/stock_id=99/903e3170136d4ce7a7761664482d61c2.parquet',\n",
       " 100: '../input/optiver-realized-volatility-prediction/book_train.parquet/stock_id=100/9495f2c64cee42078601dee7408e3c36.parquet',\n",
       " 101: '../input/optiver-realized-volatility-prediction/book_train.parquet/stock_id=101/dbbf6dc725ee4bcb8656c427165c888d.parquet',\n",
       " 102: '../input/optiver-realized-volatility-prediction/book_train.parquet/stock_id=102/9d16ca233fea42c7a8ec91d621ca113a.parquet',\n",
       " 103: '../input/optiver-realized-volatility-prediction/book_train.parquet/stock_id=103/cc7984f01a8747299339cb441632d6c0.parquet',\n",
       " 104: '../input/optiver-realized-volatility-prediction/book_train.parquet/stock_id=104/6875618fb8144a80a033ae8de7809493.parquet',\n",
       " 105: '../input/optiver-realized-volatility-prediction/book_train.parquet/stock_id=105/a37b8bf4be2e4fa5b3ea63b7c4240d3d.parquet',\n",
       " 107: '../input/optiver-realized-volatility-prediction/book_train.parquet/stock_id=107/0a58f297fa7b471a8c39b79420f9990d.parquet',\n",
       " 108: '../input/optiver-realized-volatility-prediction/book_train.parquet/stock_id=108/662f6789c2be46e28884e9caceb1f67a.parquet',\n",
       " 109: '../input/optiver-realized-volatility-prediction/book_train.parquet/stock_id=109/fede24892e38482a9b0a0af7adb1030c.parquet',\n",
       " 110: '../input/optiver-realized-volatility-prediction/book_train.parquet/stock_id=110/2bba26018b9c482e90ca9be02e856382.parquet',\n",
       " 111: '../input/optiver-realized-volatility-prediction/book_train.parquet/stock_id=111/76fdfb893640493f8822cec944e35f0d.parquet',\n",
       " 112: '../input/optiver-realized-volatility-prediction/book_train.parquet/stock_id=112/89c931289b58423bb27b45ce8109c148.parquet',\n",
       " 113: '../input/optiver-realized-volatility-prediction/book_train.parquet/stock_id=113/2698c014aa014ce0a476ccaf13795a43.parquet',\n",
       " 114: '../input/optiver-realized-volatility-prediction/book_train.parquet/stock_id=114/22c84a10a4b4477b85b5bf7688037e77.parquet',\n",
       " 115: '../input/optiver-realized-volatility-prediction/book_train.parquet/stock_id=115/32688ffcc77d40a5ab6ad8054cf44cab.parquet',\n",
       " 116: '../input/optiver-realized-volatility-prediction/book_train.parquet/stock_id=116/bd6b0dc7386c49a79856b8df04e4a33b.parquet',\n",
       " 118: '../input/optiver-realized-volatility-prediction/book_train.parquet/stock_id=118/eefc9574b4024ddb90eefc065ccd2918.parquet',\n",
       " 119: '../input/optiver-realized-volatility-prediction/book_train.parquet/stock_id=119/a942847a75914186b47fec1c857e45fd.parquet',\n",
       " 120: '../input/optiver-realized-volatility-prediction/book_train.parquet/stock_id=120/3068890f5521450db46c271190fa24d8.parquet',\n",
       " 122: '../input/optiver-realized-volatility-prediction/book_train.parquet/stock_id=122/12dc61893ff0440e8972b8dc7d3988d8.parquet',\n",
       " 123: '../input/optiver-realized-volatility-prediction/book_train.parquet/stock_id=123/50d0df62ffc241dea0ae635e7858aca5.parquet',\n",
       " 124: '../input/optiver-realized-volatility-prediction/book_train.parquet/stock_id=124/a88197568c3e441cb1b45dccc5f3bd8b.parquet',\n",
       " 125: '../input/optiver-realized-volatility-prediction/book_train.parquet/stock_id=125/996b501aec144de8ae4149a72633db84.parquet',\n",
       " 126: '../input/optiver-realized-volatility-prediction/book_train.parquet/stock_id=126/c877c4dda91f41018dbf6ccb1182ef28.parquet'}"
      ]
     },
     "execution_count": 10,
     "metadata": {},
     "output_type": "execute_result"
    }
   ],
   "source": [
    "book_train_dict"
   ]
  },
  {
   "cell_type": "markdown",
   "id": "6fb0d827-4796-4fb0-b10c-5653c0cf4b78",
   "metadata": {},
   "source": [
    "## チャンクに分ける"
   ]
  },
  {
   "cell_type": "code",
   "execution_count": 12,
   "id": "e868e4b5-8c6e-4b0e-b958-e047ef9b4193",
   "metadata": {},
   "outputs": [],
   "source": [
    "def chunks(data, SIZE=10000):\n",
    "    it = iter(data)\n",
    "    for i in range(0, len(data), SIZE):\n",
    "        yield {k:data[k] for k in islice(it, SIZE)}\n",
    "        \n",
    "def process_book_train_chunk(chunk_ds):\n",
    "    return process_optiver_ds(train_ds, chunk_ds, book_ds_fe, book_skip_columns)\n",
    "\n",
    "def process_trade_train_chunk(chunk_ds):\n",
    "    return process_optiver_ds(train_ds, chunk_ds, trade_ds_fe, trade_skip_columns)\n",
    "\n",
    "def process_book_test_chunk(chunk_ds):\n",
    "    return process_optiver_ds(test_ds, chunk_ds, book_ds_fe, book_skip_columns, False)\n",
    "\n",
    "def process_trade_test_chunk(chunk_ds):\n",
    "    return process_optiver_ds(test_ds, chunk_ds, trade_ds_fe, trade_skip_columns, False)"
   ]
  },
  {
   "cell_type": "markdown",
   "id": "e974e140-0228-4130-9c85-e5297f662499",
   "metadata": {},
   "source": [
    "説明用に辞書をスキムする。"
   ]
  },
  {
   "cell_type": "code",
   "execution_count": 17,
   "id": "7c2968c0-e664-4646-85ae-150c58ab74e0",
   "metadata": {},
   "outputs": [
    {
     "data": {
      "text/plain": [
       "{0: '../input/optiver-realized-volatility-prediction/book_train.parquet/stock_id=0/c439ef22282f412ba39e9137a3fdabac.parquet',\n",
       " 1: '../input/optiver-realized-volatility-prediction/book_train.parquet/stock_id=1/31a1c5cd6d8546b383d10373db762236.parquet',\n",
       " 2: '../input/optiver-realized-volatility-prediction/book_train.parquet/stock_id=2/36f27d865da54e8d92ff54e07ac4afd2.parquet',\n",
       " 3: '../input/optiver-realized-volatility-prediction/book_train.parquet/stock_id=3/ccc6d426f595409680d6f422ed911bee.parquet',\n",
       " 4: '../input/optiver-realized-volatility-prediction/book_train.parquet/stock_id=4/6ae39a36676a419f8847cb217e5ec75d.parquet'}"
      ]
     },
     "execution_count": 17,
     "metadata": {},
     "output_type": "execute_result"
    }
   ],
   "source": [
    "my_book_train_dict = { idx : book_train_dict[idx] for idx in range(5) }\n",
    "my_book_train_dict"
   ]
  },
  {
   "cell_type": "code",
   "execution_count": 18,
   "id": "9389917b-de14-4ad2-873e-645e5d9dec03",
   "metadata": {},
   "outputs": [
    {
     "data": {
      "text/plain": [
       "<dict_keyiterator at 0x15760bef8>"
      ]
     },
     "execution_count": 18,
     "metadata": {},
     "output_type": "execute_result"
    }
   ],
   "source": [
    "iter(my_book_train_dict)"
   ]
  },
  {
   "cell_type": "markdown",
   "id": "cd1f6cf7-a6fb-4278-9590-ee29a3ccc65e",
   "metadata": {},
   "source": [
    "islice は、リストの `[start:stop:step]` が iterable な要素に対して実行できる関数。\n",
    "\n",
    "> iterable から要素を選択して返すイテレータを作成します。 start が0でない場合、iterable の要素は start に達するまでスキップされます。その後、 要素が順に返されます。\n",
    "\n",
    "下記の例だと、0〜999の数字を要素にもつ `test_data` から、最初の10個だけを取り出す操作と同義。イテレーターを返すので、例えば for 文に入れると一つ一つの要素を見ることができる。"
   ]
  },
  {
   "cell_type": "code",
   "execution_count": 25,
   "id": "c41236b0-ca0a-476f-9eb1-9c950611309e",
   "metadata": {},
   "outputs": [
    {
     "name": "stdout",
     "output_type": "stream",
     "text": [
      "0\n",
      "1\n",
      "2\n",
      "3\n",
      "4\n",
      "5\n",
      "6\n",
      "7\n",
      "8\n",
      "9\n"
     ]
    }
   ],
   "source": [
    "test_data = [ i for i in range(1000)]\n",
    "for line in islice(test_data,10): \n",
    "    print(line)"
   ]
  },
  {
   "cell_type": "markdown",
   "id": "0bdc76c0-8cb3-492f-ba54-44e4cc3d060f",
   "metadata": {},
   "source": [
    "この関数の良いところは、リストであれば `test_data[:10]` で事足りるが、iterable であれば何でも応用できるところ。\n",
    "\n",
    "- ファイルオブジェクトに適用して、最初の10行だけを表示する\n",
    "- 辞書の最初の10要素だけ取り出す（← 今回）\n",
    "\n",
    "今回は、以下の操作に該当する。まずリスト（今回は辞書）のイテレータを作成する。外側のループは、チャンク（ひとかたまり）にしたいサイズをステップとして要素数をループするもので、チャンク数分だけ処理が加わる。次に内側のループでは、SIZE個数分だけをスライスした要素でループを回して辞書から要素を取り出している。ここでイテレータの islice を使っているので、次のチャンクで呼び出されたときにはちゃんと次のチャンクを指していることになっている。こうすることで、辞書から狙ったぶんだけスライスできる。"
   ]
  },
  {
   "cell_type": "code",
   "execution_count": 30,
   "id": "ae7fb1d8-f220-417a-b7fc-6a0202305fbe",
   "metadata": {},
   "outputs": [
    {
     "name": "stdout",
     "output_type": "stream",
     "text": [
      ">>>>> 0\n",
      "0\n",
      "1\n",
      "2\n",
      "3\n",
      "4\n",
      ">>>>> 1\n",
      "5\n",
      "6\n",
      "7\n",
      "8\n",
      "9\n",
      ">>>>> 2\n",
      "10\n",
      "11\n",
      "12\n",
      "13\n",
      "14\n"
     ]
    }
   ],
   "source": [
    "test_data = [ i for i in range(1000)]\n",
    "itr = iter(test_data)\n",
    "for i in range(3):\n",
    "    print(\">>>>>\", i)\n",
    "    for line in islice(itr, 5): \n",
    "        print(line)"
   ]
  },
  {
   "cell_type": "code",
   "execution_count": 36,
   "id": "7b557a25-6051-4390-8d02-8a3c43a27135",
   "metadata": {},
   "outputs": [
    {
     "data": {
      "text/plain": [
       "[{0: '../input/optiver-realized-volatility-prediction/book_train.parquet/stock_id=0/c439ef22282f412ba39e9137a3fdabac.parquet',\n",
       "  1: '../input/optiver-realized-volatility-prediction/book_train.parquet/stock_id=1/31a1c5cd6d8546b383d10373db762236.parquet'},\n",
       " {2: '../input/optiver-realized-volatility-prediction/book_train.parquet/stock_id=2/36f27d865da54e8d92ff54e07ac4afd2.parquet',\n",
       "  3: '../input/optiver-realized-volatility-prediction/book_train.parquet/stock_id=3/ccc6d426f595409680d6f422ed911bee.parquet'},\n",
       " {4: '../input/optiver-realized-volatility-prediction/book_train.parquet/stock_id=4/6ae39a36676a419f8847cb217e5ec75d.parquet'}]"
      ]
     },
     "execution_count": 36,
     "metadata": {},
     "output_type": "execute_result"
    }
   ],
   "source": [
    "my_book_train_chunks = [i for i in chunks(my_book_train_dict, 2)]\n",
    "my_book_train_chunks"
   ]
  },
  {
   "cell_type": "code",
   "execution_count": 13,
   "id": "16b8690c-a3fe-40f0-889f-bea2f8ade8db",
   "metadata": {},
   "outputs": [],
   "source": [
    "book_train_chunks = [i for i in chunks(book_train_dict, int(len(book_train_dict)/NTHREADS))]\n",
    "trade_train_chunks = [i for i in chunks(trade_train_dict, int(len(trade_train_dict)/NTHREADS))]\n",
    "\n",
    "z = 1 if len(book_test_dict) < NTHREADS else NTHREADS\n",
    "book_test_chunks = [i for i in chunks(book_test_dict, int(len(book_test_dict)/z))]\n",
    "trade_test_chunks = [i for i in chunks(trade_test_dict, int(len(trade_test_dict)/z))]"
   ]
  },
  {
   "cell_type": "code",
   "execution_count": 14,
   "id": "d2039682-725d-4398-b88d-665d62969fa3",
   "metadata": {},
   "outputs": [
    {
     "data": {
      "text/plain": [
       "[{0: '../input/optiver-realized-volatility-prediction/book_train.parquet/stock_id=0/c439ef22282f412ba39e9137a3fdabac.parquet',\n",
       "  1: '../input/optiver-realized-volatility-prediction/book_train.parquet/stock_id=1/31a1c5cd6d8546b383d10373db762236.parquet',\n",
       "  2: '../input/optiver-realized-volatility-prediction/book_train.parquet/stock_id=2/36f27d865da54e8d92ff54e07ac4afd2.parquet',\n",
       "  3: '../input/optiver-realized-volatility-prediction/book_train.parquet/stock_id=3/ccc6d426f595409680d6f422ed911bee.parquet',\n",
       "  4: '../input/optiver-realized-volatility-prediction/book_train.parquet/stock_id=4/6ae39a36676a419f8847cb217e5ec75d.parquet',\n",
       "  5: '../input/optiver-realized-volatility-prediction/book_train.parquet/stock_id=5/c39da423b1404b00946ceedf32ae3f07.parquet',\n",
       "  6: '../input/optiver-realized-volatility-prediction/book_train.parquet/stock_id=6/84352cd5e3424aeaadf11f8d89c8a07a.parquet',\n",
       "  7: '../input/optiver-realized-volatility-prediction/book_train.parquet/stock_id=7/4f66c3336dec449280ed3719530f9486.parquet',\n",
       "  8: '../input/optiver-realized-volatility-prediction/book_train.parquet/stock_id=8/e40cd587617e4bfc86f0125aef383932.parquet',\n",
       "  9: '../input/optiver-realized-volatility-prediction/book_train.parquet/stock_id=9/8a87bd6ec9934a889026174cceb9e30a.parquet',\n",
       "  10: '../input/optiver-realized-volatility-prediction/book_train.parquet/stock_id=10/d671bb2b87f447d4ba3fa4b18b3656f9.parquet',\n",
       "  11: '../input/optiver-realized-volatility-prediction/book_train.parquet/stock_id=11/755d9c4058914e2a901aaeccf2406e30.parquet',\n",
       "  13: '../input/optiver-realized-volatility-prediction/book_train.parquet/stock_id=13/e576f0cd91c347a7b1cdb87c3bd1abf4.parquet',\n",
       "  14: '../input/optiver-realized-volatility-prediction/book_train.parquet/stock_id=14/ae1ae9deed8048fbb1191a77ca68ab24.parquet',\n",
       "  15: '../input/optiver-realized-volatility-prediction/book_train.parquet/stock_id=15/a47deb70de554fdcb7b780bd060d4564.parquet',\n",
       "  16: '../input/optiver-realized-volatility-prediction/book_train.parquet/stock_id=16/eaa06704bf15493fae496cdf6c016b6c.parquet',\n",
       "  17: '../input/optiver-realized-volatility-prediction/book_train.parquet/stock_id=17/4539ddf198a64337bdeca019b4edb1bb.parquet',\n",
       "  18: '../input/optiver-realized-volatility-prediction/book_train.parquet/stock_id=18/cbc56bf4cc424b12ae18493920465a3a.parquet',\n",
       "  19: '../input/optiver-realized-volatility-prediction/book_train.parquet/stock_id=19/cae027e29b0749b5b2e139134b75fe63.parquet',\n",
       "  20: '../input/optiver-realized-volatility-prediction/book_train.parquet/stock_id=20/fe0e467dc2ca4092afc151d4069c54a7.parquet',\n",
       "  21: '../input/optiver-realized-volatility-prediction/book_train.parquet/stock_id=21/60cc70a1e25d4da7b39fbfac2bd9fab1.parquet',\n",
       "  22: '../input/optiver-realized-volatility-prediction/book_train.parquet/stock_id=22/3f2ddd48d0b147f09c852cc2034ece80.parquet',\n",
       "  23: '../input/optiver-realized-volatility-prediction/book_train.parquet/stock_id=23/9229d9611b4e45b4bf81d60939a8274a.parquet',\n",
       "  26: '../input/optiver-realized-volatility-prediction/book_train.parquet/stock_id=26/1adc4a39b6fe4f8bbbedd7551006a170.parquet',\n",
       "  27: '../input/optiver-realized-volatility-prediction/book_train.parquet/stock_id=27/0e5f57dd508b46cb9d6d88bd63aeaedd.parquet',\n",
       "  28: '../input/optiver-realized-volatility-prediction/book_train.parquet/stock_id=28/e956e66d12664e509d27a680731a4057.parquet',\n",
       "  29: '../input/optiver-realized-volatility-prediction/book_train.parquet/stock_id=29/9534c4ef29c049f6af22f4ca8305f315.parquet',\n",
       "  30: '../input/optiver-realized-volatility-prediction/book_train.parquet/stock_id=30/ee59d4b4cf4847adaee7de785d7918e4.parquet'},\n",
       " {31: '../input/optiver-realized-volatility-prediction/book_train.parquet/stock_id=31/c0b9eb5ed0bf40bc838fab4da5459f76.parquet',\n",
       "  32: '../input/optiver-realized-volatility-prediction/book_train.parquet/stock_id=32/446dd6db2d064e5b86666c66ec669755.parquet',\n",
       "  33: '../input/optiver-realized-volatility-prediction/book_train.parquet/stock_id=33/85142fc4257b4ece8157a174ae6d2f4f.parquet',\n",
       "  34: '../input/optiver-realized-volatility-prediction/book_train.parquet/stock_id=34/4cb0d70566654bf480518b3a1cee2ad2.parquet',\n",
       "  35: '../input/optiver-realized-volatility-prediction/book_train.parquet/stock_id=35/8803efd6c9c44895a6fda59448a8eede.parquet',\n",
       "  36: '../input/optiver-realized-volatility-prediction/book_train.parquet/stock_id=36/0ffca9c0dae84890ad8c923d4b95e840.parquet',\n",
       "  37: '../input/optiver-realized-volatility-prediction/book_train.parquet/stock_id=37/7163ec1911204a10a479e421c0a41a35.parquet',\n",
       "  38: '../input/optiver-realized-volatility-prediction/book_train.parquet/stock_id=38/c49c83c6eb1c41f0b8f0d61de1e3bb89.parquet',\n",
       "  39: '../input/optiver-realized-volatility-prediction/book_train.parquet/stock_id=39/99d14712047840fbb3a93eb1f6ebc7a2.parquet',\n",
       "  40: '../input/optiver-realized-volatility-prediction/book_train.parquet/stock_id=40/ab33096950f647ddb7b705f17b21f11c.parquet',\n",
       "  41: '../input/optiver-realized-volatility-prediction/book_train.parquet/stock_id=41/3090fd7adaf447679b6e836778168be8.parquet',\n",
       "  42: '../input/optiver-realized-volatility-prediction/book_train.parquet/stock_id=42/01281c6eedfc46c1b72357c484e640b5.parquet',\n",
       "  43: '../input/optiver-realized-volatility-prediction/book_train.parquet/stock_id=43/ce8f54442b1142338d2e4b02b9dc578a.parquet',\n",
       "  44: '../input/optiver-realized-volatility-prediction/book_train.parquet/stock_id=44/31274a12b2ec4c24a4a57a054e67d704.parquet',\n",
       "  46: '../input/optiver-realized-volatility-prediction/book_train.parquet/stock_id=46/db00d635f1614686837abc1c71f6e16b.parquet',\n",
       "  47: '../input/optiver-realized-volatility-prediction/book_train.parquet/stock_id=47/ede300b0202a43caaaefc8ae07475c33.parquet',\n",
       "  48: '../input/optiver-realized-volatility-prediction/book_train.parquet/stock_id=48/5c08c8582813448e8e87eda2c3c36b84.parquet',\n",
       "  50: '../input/optiver-realized-volatility-prediction/book_train.parquet/stock_id=50/0f5c98a29be64774a136b60f71033ec6.parquet',\n",
       "  51: '../input/optiver-realized-volatility-prediction/book_train.parquet/stock_id=51/ace8af4c1a474efd80544609ea4a47c4.parquet',\n",
       "  52: '../input/optiver-realized-volatility-prediction/book_train.parquet/stock_id=52/d5eb854d66174f5483449da151fbca50.parquet',\n",
       "  53: '../input/optiver-realized-volatility-prediction/book_train.parquet/stock_id=53/46c591d10f0940de908317001e533db7.parquet',\n",
       "  55: '../input/optiver-realized-volatility-prediction/book_train.parquet/stock_id=55/d3bdb39f65d34bb18278d789729f9323.parquet',\n",
       "  56: '../input/optiver-realized-volatility-prediction/book_train.parquet/stock_id=56/55f4ad52ac2347f1a468ea3bf0cb7adc.parquet',\n",
       "  58: '../input/optiver-realized-volatility-prediction/book_train.parquet/stock_id=58/33de4ffff5494e3a8ecc02c7b6d9433a.parquet',\n",
       "  59: '../input/optiver-realized-volatility-prediction/book_train.parquet/stock_id=59/fd5b747386604005b18594c00f0312ab.parquet',\n",
       "  60: '../input/optiver-realized-volatility-prediction/book_train.parquet/stock_id=60/6242aca22efd458fbec9a13c86ab42ee.parquet',\n",
       "  61: '../input/optiver-realized-volatility-prediction/book_train.parquet/stock_id=61/2522f71edc4d47419f602cc920f906d6.parquet',\n",
       "  62: '../input/optiver-realized-volatility-prediction/book_train.parquet/stock_id=62/c2a348a3d0b04a1c945607779c2128dd.parquet'},\n",
       " {63: '../input/optiver-realized-volatility-prediction/book_train.parquet/stock_id=63/37bff36e80a0485bba2bf875cb3188d4.parquet',\n",
       "  64: '../input/optiver-realized-volatility-prediction/book_train.parquet/stock_id=64/acbff79109e44474bfa3a6145bd4244a.parquet',\n",
       "  66: '../input/optiver-realized-volatility-prediction/book_train.parquet/stock_id=66/3d1df975704b49cbb407d74d1adb53b6.parquet',\n",
       "  67: '../input/optiver-realized-volatility-prediction/book_train.parquet/stock_id=67/2a7fd60b816b431597dec0e80d0ec3b7.parquet',\n",
       "  68: '../input/optiver-realized-volatility-prediction/book_train.parquet/stock_id=68/ab42bd95488842f5aa15b750052e79ad.parquet',\n",
       "  69: '../input/optiver-realized-volatility-prediction/book_train.parquet/stock_id=69/16f9fe0eb6544a1d89fbf25f290b8466.parquet',\n",
       "  70: '../input/optiver-realized-volatility-prediction/book_train.parquet/stock_id=70/afecffe028274a66a0e674d0db2d3c3c.parquet',\n",
       "  72: '../input/optiver-realized-volatility-prediction/book_train.parquet/stock_id=72/0a18126395144a0a8ccca55bdbd31f1b.parquet',\n",
       "  73: '../input/optiver-realized-volatility-prediction/book_train.parquet/stock_id=73/42238482fd7443838a8fc6490cd329c8.parquet',\n",
       "  74: '../input/optiver-realized-volatility-prediction/book_train.parquet/stock_id=74/8229e924b5ef4716a0078d9e8ee397bd.parquet',\n",
       "  75: '../input/optiver-realized-volatility-prediction/book_train.parquet/stock_id=75/f0354d49be4e4552b548b410b349bbc8.parquet',\n",
       "  76: '../input/optiver-realized-volatility-prediction/book_train.parquet/stock_id=76/494ecaad37f9430384ad0a825aab00ec.parquet',\n",
       "  77: '../input/optiver-realized-volatility-prediction/book_train.parquet/stock_id=77/5f6ce3ce569548c78c2ad17035454639.parquet',\n",
       "  78: '../input/optiver-realized-volatility-prediction/book_train.parquet/stock_id=78/b6deb113746a4de0a752ca0b2917f7ef.parquet',\n",
       "  80: '../input/optiver-realized-volatility-prediction/book_train.parquet/stock_id=80/705f7c3bde584dadba222d4ef6f7973e.parquet',\n",
       "  81: '../input/optiver-realized-volatility-prediction/book_train.parquet/stock_id=81/3736a90d604d4b8eaa15c6eb5f83fd8c.parquet',\n",
       "  82: '../input/optiver-realized-volatility-prediction/book_train.parquet/stock_id=82/ae830997c75f405986957af2984493f3.parquet',\n",
       "  83: '../input/optiver-realized-volatility-prediction/book_train.parquet/stock_id=83/4c10ab2a0f324a1189af12bd5458ef15.parquet',\n",
       "  84: '../input/optiver-realized-volatility-prediction/book_train.parquet/stock_id=84/53e9faaf11e745debb3c246acea61a84.parquet',\n",
       "  85: '../input/optiver-realized-volatility-prediction/book_train.parquet/stock_id=85/1b7a536b29724b60990ee6c368f1fbf0.parquet',\n",
       "  86: '../input/optiver-realized-volatility-prediction/book_train.parquet/stock_id=86/6ecdb8f8c4da483b8fd3fbdf6aee4381.parquet',\n",
       "  87: '../input/optiver-realized-volatility-prediction/book_train.parquet/stock_id=87/670ab2a9e8b548bdaa8b9f8bc9057331.parquet',\n",
       "  88: '../input/optiver-realized-volatility-prediction/book_train.parquet/stock_id=88/2c4ed518efb54a4f880a0f945c317fae.parquet',\n",
       "  89: '../input/optiver-realized-volatility-prediction/book_train.parquet/stock_id=89/a1cd471332f24761a90f6fadb8b54ccf.parquet',\n",
       "  90: '../input/optiver-realized-volatility-prediction/book_train.parquet/stock_id=90/380689865a7c4af8aa8625a7a7c40533.parquet',\n",
       "  93: '../input/optiver-realized-volatility-prediction/book_train.parquet/stock_id=93/036725ac1ba94d40bf15a75c36adb184.parquet',\n",
       "  94: '../input/optiver-realized-volatility-prediction/book_train.parquet/stock_id=94/d4c922016df84141ad176dac1455b725.parquet',\n",
       "  95: '../input/optiver-realized-volatility-prediction/book_train.parquet/stock_id=95/8e4a80c1b7eb44e8844cc0f2ec4badff.parquet'},\n",
       " {96: '../input/optiver-realized-volatility-prediction/book_train.parquet/stock_id=96/605c29fae948465db8c2ab233852e982.parquet',\n",
       "  97: '../input/optiver-realized-volatility-prediction/book_train.parquet/stock_id=97/52e74e4ef0d84c5c989fc4704e46b527.parquet',\n",
       "  98: '../input/optiver-realized-volatility-prediction/book_train.parquet/stock_id=98/59ad203a6ac040fdb891702430440b01.parquet',\n",
       "  99: '../input/optiver-realized-volatility-prediction/book_train.parquet/stock_id=99/903e3170136d4ce7a7761664482d61c2.parquet',\n",
       "  100: '../input/optiver-realized-volatility-prediction/book_train.parquet/stock_id=100/9495f2c64cee42078601dee7408e3c36.parquet',\n",
       "  101: '../input/optiver-realized-volatility-prediction/book_train.parquet/stock_id=101/dbbf6dc725ee4bcb8656c427165c888d.parquet',\n",
       "  102: '../input/optiver-realized-volatility-prediction/book_train.parquet/stock_id=102/9d16ca233fea42c7a8ec91d621ca113a.parquet',\n",
       "  103: '../input/optiver-realized-volatility-prediction/book_train.parquet/stock_id=103/cc7984f01a8747299339cb441632d6c0.parquet',\n",
       "  104: '../input/optiver-realized-volatility-prediction/book_train.parquet/stock_id=104/6875618fb8144a80a033ae8de7809493.parquet',\n",
       "  105: '../input/optiver-realized-volatility-prediction/book_train.parquet/stock_id=105/a37b8bf4be2e4fa5b3ea63b7c4240d3d.parquet',\n",
       "  107: '../input/optiver-realized-volatility-prediction/book_train.parquet/stock_id=107/0a58f297fa7b471a8c39b79420f9990d.parquet',\n",
       "  108: '../input/optiver-realized-volatility-prediction/book_train.parquet/stock_id=108/662f6789c2be46e28884e9caceb1f67a.parquet',\n",
       "  109: '../input/optiver-realized-volatility-prediction/book_train.parquet/stock_id=109/fede24892e38482a9b0a0af7adb1030c.parquet',\n",
       "  110: '../input/optiver-realized-volatility-prediction/book_train.parquet/stock_id=110/2bba26018b9c482e90ca9be02e856382.parquet',\n",
       "  111: '../input/optiver-realized-volatility-prediction/book_train.parquet/stock_id=111/76fdfb893640493f8822cec944e35f0d.parquet',\n",
       "  112: '../input/optiver-realized-volatility-prediction/book_train.parquet/stock_id=112/89c931289b58423bb27b45ce8109c148.parquet',\n",
       "  113: '../input/optiver-realized-volatility-prediction/book_train.parquet/stock_id=113/2698c014aa014ce0a476ccaf13795a43.parquet',\n",
       "  114: '../input/optiver-realized-volatility-prediction/book_train.parquet/stock_id=114/22c84a10a4b4477b85b5bf7688037e77.parquet',\n",
       "  115: '../input/optiver-realized-volatility-prediction/book_train.parquet/stock_id=115/32688ffcc77d40a5ab6ad8054cf44cab.parquet',\n",
       "  116: '../input/optiver-realized-volatility-prediction/book_train.parquet/stock_id=116/bd6b0dc7386c49a79856b8df04e4a33b.parquet',\n",
       "  118: '../input/optiver-realized-volatility-prediction/book_train.parquet/stock_id=118/eefc9574b4024ddb90eefc065ccd2918.parquet',\n",
       "  119: '../input/optiver-realized-volatility-prediction/book_train.parquet/stock_id=119/a942847a75914186b47fec1c857e45fd.parquet',\n",
       "  120: '../input/optiver-realized-volatility-prediction/book_train.parquet/stock_id=120/3068890f5521450db46c271190fa24d8.parquet',\n",
       "  122: '../input/optiver-realized-volatility-prediction/book_train.parquet/stock_id=122/12dc61893ff0440e8972b8dc7d3988d8.parquet',\n",
       "  123: '../input/optiver-realized-volatility-prediction/book_train.parquet/stock_id=123/50d0df62ffc241dea0ae635e7858aca5.parquet',\n",
       "  124: '../input/optiver-realized-volatility-prediction/book_train.parquet/stock_id=124/a88197568c3e441cb1b45dccc5f3bd8b.parquet',\n",
       "  125: '../input/optiver-realized-volatility-prediction/book_train.parquet/stock_id=125/996b501aec144de8ae4149a72633db84.parquet',\n",
       "  126: '../input/optiver-realized-volatility-prediction/book_train.parquet/stock_id=126/c877c4dda91f41018dbf6ccb1182ef28.parquet'}]"
      ]
     },
     "execution_count": 14,
     "metadata": {},
     "output_type": "execute_result"
    }
   ],
   "source": [
    "book_train_chunks"
   ]
  },
  {
   "cell_type": "markdown",
   "id": "5a1ce725-4798-4dbc-b6a2-352ad2f248da",
   "metadata": {},
   "source": [
    "# np_booksを作成する"
   ]
  },
  {
   "cell_type": "code",
   "execution_count": 47,
   "id": "94c67d01-b133-4503-81c9-190bf45c5d2c",
   "metadata": {},
   "outputs": [],
   "source": [
    "def calc_wap1(df):\n",
    "    # Function to calculate first WAP\n",
    "    wap = (df['bid_price1'] * df['ask_size1'] + df['ask_price1'] * df['bid_size1']) / (df['bid_size1'] + df['ask_size1'])\n",
    "    return wap\n",
    "\n",
    "def calc_wap2(df):\n",
    "    # Function to calculate second WAP\n",
    "    wap = (df['bid_price2'] * df['ask_size2'] + df['ask_price2'] * df['bid_size2']) / (df['bid_size2'] + df['ask_size2'])\n",
    "    return wap\n",
    "\n",
    "def calc_wap3(df):\n",
    "    wap = (df['bid_price1'] * df['bid_size1'] + df['ask_price1'] * df['ask_size1']) / (df['bid_size1'] + df['ask_size1'])\n",
    "    return wap\n",
    "\n",
    "def calc_wap4(df):\n",
    "    wap = (df['bid_price2'] * df['bid_size2'] + df['ask_price2'] * df['ask_size2']) / (df['bid_size2'] + df['ask_size2'])\n",
    "    return wap\n",
    "\n",
    "def calc_ma(df, colname, window_size):\n",
    "    a = df[colname].rolling(window=window_size).mean()\n",
    "    return a\n",
    "\n",
    "def calc_mstd(df, colname, window_size):\n",
    "    a = df[colname].rolling(window=window_size).std()\n",
    "    return a\n",
    "\n",
    "def calc_memw(df, colname, window_size):\n",
    "    a = df[colname].ewm(span=10).mean()\n",
    "    return a\n",
    "\n",
    "def log_return(series):\n",
    "    # Function to calculate the log of the return\n",
    "    return np.log(series).diff()\n",
    "\n",
    "def realized_volatility(series):\n",
    "    # Calculate the realized volatility\n",
    "    return np.sqrt(np.sum(series**2))\n",
    "\n",
    "def count_unique(series):\n",
    "    # Function to count unique elements of a series\n",
    "    return len(np.unique(series))"
   ]
  },
  {
   "cell_type": "code",
   "execution_count": 48,
   "id": "ac701f4e-ad2d-4df5-9ed8-06c980f4a5a7",
   "metadata": {},
   "outputs": [],
   "source": [
    "def book_ds_fe(df):\n",
    "    # Calculate Wap\n",
    "    df['wap1'] = calc_wap1(df)\n",
    "    df['wap2'] = calc_wap2(df)\n",
    "    \n",
    "    # Calculate log returns\n",
    "    df['log_return1'] = df.groupby(['time_id'])['wap1'].apply(log_return)\n",
    "    df['log_return2'] = df.groupby(['time_id'])['wap2'].apply(log_return)\n",
    "    \n",
    "    # Calculate wap balance\n",
    "    df['wap_balance'] = abs(df['wap1'] - df['wap2'])\n",
    "    \n",
    "    # Calculate spread\n",
    "    df['price_spread'] = (df['ask_price1'] - df['bid_price1']) / ((df['ask_price1'] + df['bid_price1']) / 2)\n",
    "    df['price_spread2'] = (df['ask_price2'] - df['bid_price2']) / ((df['ask_price2'] + df['bid_price2']) / 2)\n",
    "    \n",
    "    df['bid_spread'] = df['bid_price1'] - df['bid_price2']\n",
    "    df['ask_spread'] = df['ask_price1'] - df['ask_price2']\n",
    "    df[\"bid_ask_spread\"] = abs(df['bid_spread'] - df['ask_spread'])\n",
    "    \n",
    "    df['total_volume'] = (df['ask_size1'] + df['ask_size2']) + (df['bid_size1'] + df['bid_size2'])\n",
    "    df['volume_imbalance'] = abs((df['ask_size1'] + df['ask_size2']) - (df['bid_size1'] + df['bid_size2']))\n",
    "    \n",
    "    #####\n",
    "    win_size = 10\n",
    "    bid_price1_ma = calc_ma(df, 'bid_price1', win_size)\n",
    "    ask_size1_ma = calc_ma(df, 'ask_size1', win_size)\n",
    "    ask_price1_ma = calc_ma(df, 'ask_price1', win_size)\n",
    "    bid_size1_ma = calc_ma(df, 'bid_size1', win_size)\n",
    "    \n",
    "    bid_price2_ma = calc_ma(df, 'bid_price2', win_size)\n",
    "    ask_size2_ma = calc_ma(df, 'ask_size2', win_size)\n",
    "    ask_price2_ma = calc_ma(df, 'ask_price2', win_size)\n",
    "    bid_size2_ma = calc_ma(df, 'bid_size2', win_size)\n",
    "    \n",
    "    df['wap1_ma'] = (bid_price1_ma * ask_size1_ma + ask_price1_ma * bid_size1_ma) / (bid_size1_ma + ask_size1_ma)\n",
    "    df['wap2_ma'] = (bid_price2_ma * ask_size2_ma + ask_price2_ma * bid_size2_ma) / (bid_size2_ma + ask_size2_ma)\n",
    "    \n",
    "    return df"
   ]
  },
  {
   "cell_type": "code",
   "execution_count": 217,
   "id": "f4d39aab-fcaf-4750-997a-77f64845bf98",
   "metadata": {},
   "outputs": [],
   "source": [
    "def np_seq_stat(a, s):\n",
    "    ''' a - array, s - seconds_in_bucket'''\n",
    "    \n",
    "    r = []\n",
    "    # BUCKET_WINDOWS2 = [(0, 100), (100, 200), (200, 300), (300, 400), (400, 500), (500, 600)]\n",
    "    for w in BUCKET_WINDOWS2:\n",
    "        \n",
    "        idx = np.where(np.logical_and(s >= w[0], s < w[1]))[0]\n",
    "       \n",
    "        s_min = np.zeros((1, a.shape[1]))\n",
    "        s_max = np.zeros((1, a.shape[1]))\n",
    "        s_mean = np.zeros((1, a.shape[1]))\n",
    "        s_std = np.zeros((1, a.shape[1]))\n",
    "        s_median = np.zeros((1, a.shape[1]))\n",
    "        s_sum = np.zeros((1, a.shape[1]))\n",
    "        #s_mfcc = np.zeros((1, a.shape[1]))\n",
    "        #s_peaks = np.zeros((1, a.shape[1]))\n",
    "        \n",
    "        if a[idx].shape[0] > 0:\n",
    "            s_min = np.min(a[idx], axis=0, keepdims=True)\n",
    "            s_max = np.max(a[idx], axis=0, keepdims=True)\n",
    "            s_mean = np.mean(a[idx], axis=0, keepdims=True)\n",
    "            s_std = np.std(a[idx], axis=0, keepdims=True)\n",
    "            s_median = np.median(a[idx], axis=0, keepdims=True)\n",
    "            s_sum = np.sum(a[idx], axis=0, keepdims=True)\n",
    "            \n",
    "            #s_peaks = get_number_peaks(a[idx]) # <- it gives small boost\n",
    "            #s_mfcc = get_mfcc(a[idx])\n",
    "            \n",
    "        r.append(np.concatenate((s_min, s_max, s_mean, s_std, s_median, s_sum), axis=0))\n",
    "        \n",
    "    return np.nan_to_num(np.concatenate(r, axis=0).transpose())"
   ]
  },
  {
   "cell_type": "code",
   "execution_count": 115,
   "id": "e2d2bdd9-5c17-4843-b4d7-581d4197a38c",
   "metadata": {},
   "outputs": [],
   "source": [
    "def process_optiver_ds(ds, f_dict, fe_func, skip_cols, train_flg=True):\n",
    "    \n",
    "    x = []\n",
    "    y = []\n",
    "    \n",
    "    for stock_id, stock_fname in tqdm(f_dict.items()):\n",
    "\n",
    "        # book_train.csv の読み込み\n",
    "        optiver_ds = pd.read_parquet(stock_fname)\n",
    "        optiver_ds['row_id'] = str(stock_id) + '-' + optiver_ds['time_id'].astype(str)\n",
    "\n",
    "        # train.csv のうち該当するストックIDだけを抽出する\n",
    "        # この csv だけがターゲットの値を持っている\n",
    "        sds = ds[ds['stock_id'] == stock_id]\n",
    "\n",
    "        cols = ['time_id', 'target']\n",
    "        if train_flg == False:\n",
    "            cols = ['time_id']\n",
    "            \n",
    "        # ターゲットを持っているファイルと、offer book を左結合\n",
    "        merge_ds = pd.merge(sds[cols], optiver_ds, on='time_id', how='left')\n",
    "        # 結合したものに対して、fe_func (特徴量作成の関数、book_ds_fe)を適用\n",
    "        merge_ds = fe_func(merge_ds).fillna(0)\n",
    "        \n",
    "        cols = [c for c in merge_ds.columns if c not in skip_cols]\n",
    "\n",
    "        # numpy に変換\n",
    "        # ここで time_id, stock_id, row_id は落とした量的情報だけのテーブルを np_ds にしている\n",
    "        np_ds = merge_ds[cols].to_numpy(dtype=np.float16)\n",
    "        \n",
    "        # seconds_in_bucket, time_id をnumpyとして取り出す\n",
    "        seconds_in_bucket = merge_ds['seconds_in_bucket'].to_numpy()\n",
    "        \n",
    "        # >>> np.unique(g_idx, return_index=True)\n",
    "        # (array([    5,    11,    16, ..., 32758, 32763, 32767]),\n",
    "        # array([     0,    302,    502, ..., 916830, 917018, 917325]))\n",
    "        # \n",
    "        # return_index=True でユニークな値と、そのインデックス番号が返ってくる\n",
    "        # いま、インデックス0とインデックス302を使用することで、time_id が 5 の情報だけをまとめることができるようになる\n",
    "        g_idx = merge_ds[['time_id']].to_numpy()\n",
    "        l = np.unique(g_idx, return_index=True)[1][1:]        \n",
    "        \n",
    "        # time_id 毎に分割\n",
    "        a_list = np.split(np_ds, l) # データ (a : array)\n",
    "        s_list = np.split(seconds_in_bucket, l)　# 時間情報 (s: seconds)\n",
    "\n",
    "        stat = list(map(np_seq_stat, a_list, s_list))\n",
    "        b = np.transpose(np.dstack(stat), (2, 1, 0))\n",
    "        b = b.astype(np.float16)\n",
    "        \n",
    "        r = []\n",
    "        if train_flg:\n",
    "            targets = merge_ds[['target']].to_numpy(dtype=np.float16)\n",
    "            t_list = np.split(targets, l)\n",
    "            r = [t[0][0] for t in t_list]\n",
    "        \n",
    "        x.append(b)\n",
    "        y.append(r)\n",
    "        #break\n",
    "    return x, y"
   ]
  },
  {
   "cell_type": "code",
   "execution_count": 51,
   "id": "4b30203e-ba31-4c0f-86d5-d2b0a4b252b6",
   "metadata": {},
   "outputs": [],
   "source": [
    "def process_book_train_chunk(chunk_ds):\n",
    "    return process_optiver_ds(train_ds, chunk_ds, book_ds_fe, book_skip_columns)"
   ]
  },
  {
   "cell_type": "code",
   "execution_count": 57,
   "id": "c9d8f967-a3c9-4840-88ae-543e6db2a617",
   "metadata": {},
   "outputs": [
    {
     "data": {
      "text/html": [
       "<div>\n",
       "<style scoped>\n",
       "    .dataframe tbody tr th:only-of-type {\n",
       "        vertical-align: middle;\n",
       "    }\n",
       "\n",
       "    .dataframe tbody tr th {\n",
       "        vertical-align: top;\n",
       "    }\n",
       "\n",
       "    .dataframe thead th {\n",
       "        text-align: right;\n",
       "    }\n",
       "</style>\n",
       "<table border=\"1\" class=\"dataframe\">\n",
       "  <thead>\n",
       "    <tr style=\"text-align: right;\">\n",
       "      <th></th>\n",
       "      <th>stock_id</th>\n",
       "      <th>time_id</th>\n",
       "      <th>target</th>\n",
       "    </tr>\n",
       "  </thead>\n",
       "  <tbody>\n",
       "    <tr>\n",
       "      <th>0</th>\n",
       "      <td>0</td>\n",
       "      <td>5</td>\n",
       "      <td>0.004136</td>\n",
       "    </tr>\n",
       "    <tr>\n",
       "      <th>1</th>\n",
       "      <td>0</td>\n",
       "      <td>11</td>\n",
       "      <td>0.001445</td>\n",
       "    </tr>\n",
       "    <tr>\n",
       "      <th>2</th>\n",
       "      <td>0</td>\n",
       "      <td>16</td>\n",
       "      <td>0.002168</td>\n",
       "    </tr>\n",
       "    <tr>\n",
       "      <th>3</th>\n",
       "      <td>0</td>\n",
       "      <td>31</td>\n",
       "      <td>0.002195</td>\n",
       "    </tr>\n",
       "    <tr>\n",
       "      <th>4</th>\n",
       "      <td>0</td>\n",
       "      <td>62</td>\n",
       "      <td>0.001747</td>\n",
       "    </tr>\n",
       "  </tbody>\n",
       "</table>\n",
       "</div>"
      ],
      "text/plain": [
       "   stock_id  time_id    target\n",
       "0         0        5  0.004136\n",
       "1         0       11  0.001445\n",
       "2         0       16  0.002168\n",
       "3         0       31  0.002195\n",
       "4         0       62  0.001747"
      ]
     },
     "execution_count": 57,
     "metadata": {},
     "output_type": "execute_result"
    }
   ],
   "source": [
    "train_ds = pd.read_csv(os.path.join(DATA_PATH, 'train.csv'))\n",
    "train_ds.head()"
   ]
  },
  {
   "cell_type": "markdown",
   "id": "95821107-d039-42f5-8476-a1c1528a7b93",
   "metadata": {},
   "source": [
    "- train_ds：stock_id と time_id が書いていて、予測すべき目的変数（target）が記されている\n",
    "- my_book_train_chunks：`{stock_id : file_name}` の辞書が、チャンク単位でリストになっている\n",
    "- book_ds_fe：book_train から特徴量を作成する関数\n",
    "- book_skip_columns：最初の方で示されている `book_skip_columns = trade_skip_columns = ['time_id', 'row_id', 'target']`、削除される要素を定義している"
   ]
  },
  {
   "cell_type": "code",
   "execution_count": 58,
   "id": "76049da9-1e12-4cc3-9335-3b3d5a61a768",
   "metadata": {},
   "outputs": [],
   "source": [
    "# x, y = process_optiver_ds(train_ds, my_book_train_chunks[0], book_ds_fe, book_skip_columns)"
   ]
  },
  {
   "cell_type": "markdown",
   "id": "f052566c-c36c-491e-9434-75af853e0841",
   "metadata": {},
   "source": [
    "## process_optiver_ds"
   ]
  },
  {
   "cell_type": "markdown",
   "id": "5a7bb017-b355-4110-aa65-1af3da2d46f3",
   "metadata": {},
   "source": [
    "### book_train の読み込み\n",
    "\n",
    "- ds : train.csv\n",
    "- f_dict : チャンクに分けた辞書\n",
    "- fe_func : `book_ds_fe` 関数\n",
    "- skip_cols : 扱わないカラム\n",
    "- train_flag : 学習か評価か\n",
    "- optiver_ds : book_train.csv\n",
    "\n",
    "実際にはループを回しているが、やっていることは\n",
    "\n",
    "1. stock_id ごとのループを回す\n",
    "1. 読み込んで、row_id (stock_id + time_id) を作成する\n",
    "1. "
   ]
  },
  {
   "cell_type": "code",
   "execution_count": 63,
   "id": "129c3cf9-ec6b-469e-a811-dcc39f783100",
   "metadata": {},
   "outputs": [
    {
     "name": "stdout",
     "output_type": "stream",
     "text": [
      "../input/optiver-realized-volatility-prediction/book_train.parquet/stock_id=0/c439ef22282f412ba39e9137a3fdabac.parquet\n"
     ]
    },
    {
     "data": {
      "text/html": [
       "<div>\n",
       "<style scoped>\n",
       "    .dataframe tbody tr th:only-of-type {\n",
       "        vertical-align: middle;\n",
       "    }\n",
       "\n",
       "    .dataframe tbody tr th {\n",
       "        vertical-align: top;\n",
       "    }\n",
       "\n",
       "    .dataframe thead th {\n",
       "        text-align: right;\n",
       "    }\n",
       "</style>\n",
       "<table border=\"1\" class=\"dataframe\">\n",
       "  <thead>\n",
       "    <tr style=\"text-align: right;\">\n",
       "      <th></th>\n",
       "      <th>time_id</th>\n",
       "      <th>seconds_in_bucket</th>\n",
       "      <th>bid_price1</th>\n",
       "      <th>ask_price1</th>\n",
       "      <th>bid_price2</th>\n",
       "      <th>ask_price2</th>\n",
       "      <th>bid_size1</th>\n",
       "      <th>ask_size1</th>\n",
       "      <th>bid_size2</th>\n",
       "      <th>ask_size2</th>\n",
       "      <th>row_id</th>\n",
       "    </tr>\n",
       "  </thead>\n",
       "  <tbody>\n",
       "    <tr>\n",
       "      <th>0</th>\n",
       "      <td>5</td>\n",
       "      <td>0</td>\n",
       "      <td>1.001422</td>\n",
       "      <td>1.002301</td>\n",
       "      <td>1.00137</td>\n",
       "      <td>1.002353</td>\n",
       "      <td>3</td>\n",
       "      <td>226</td>\n",
       "      <td>2</td>\n",
       "      <td>100</td>\n",
       "      <td>0-5</td>\n",
       "    </tr>\n",
       "    <tr>\n",
       "      <th>1</th>\n",
       "      <td>5</td>\n",
       "      <td>1</td>\n",
       "      <td>1.001422</td>\n",
       "      <td>1.002301</td>\n",
       "      <td>1.00137</td>\n",
       "      <td>1.002353</td>\n",
       "      <td>3</td>\n",
       "      <td>100</td>\n",
       "      <td>2</td>\n",
       "      <td>100</td>\n",
       "      <td>0-5</td>\n",
       "    </tr>\n",
       "    <tr>\n",
       "      <th>2</th>\n",
       "      <td>5</td>\n",
       "      <td>5</td>\n",
       "      <td>1.001422</td>\n",
       "      <td>1.002301</td>\n",
       "      <td>1.00137</td>\n",
       "      <td>1.002405</td>\n",
       "      <td>3</td>\n",
       "      <td>100</td>\n",
       "      <td>2</td>\n",
       "      <td>100</td>\n",
       "      <td>0-5</td>\n",
       "    </tr>\n",
       "    <tr>\n",
       "      <th>3</th>\n",
       "      <td>5</td>\n",
       "      <td>6</td>\n",
       "      <td>1.001422</td>\n",
       "      <td>1.002301</td>\n",
       "      <td>1.00137</td>\n",
       "      <td>1.002405</td>\n",
       "      <td>3</td>\n",
       "      <td>126</td>\n",
       "      <td>2</td>\n",
       "      <td>100</td>\n",
       "      <td>0-5</td>\n",
       "    </tr>\n",
       "    <tr>\n",
       "      <th>4</th>\n",
       "      <td>5</td>\n",
       "      <td>7</td>\n",
       "      <td>1.001422</td>\n",
       "      <td>1.002301</td>\n",
       "      <td>1.00137</td>\n",
       "      <td>1.002405</td>\n",
       "      <td>3</td>\n",
       "      <td>126</td>\n",
       "      <td>2</td>\n",
       "      <td>100</td>\n",
       "      <td>0-5</td>\n",
       "    </tr>\n",
       "  </tbody>\n",
       "</table>\n",
       "</div>"
      ],
      "text/plain": [
       "   time_id  seconds_in_bucket  bid_price1  ask_price1  bid_price2  ask_price2  \\\n",
       "0        5                  0    1.001422    1.002301     1.00137    1.002353   \n",
       "1        5                  1    1.001422    1.002301     1.00137    1.002353   \n",
       "2        5                  5    1.001422    1.002301     1.00137    1.002405   \n",
       "3        5                  6    1.001422    1.002301     1.00137    1.002405   \n",
       "4        5                  7    1.001422    1.002301     1.00137    1.002405   \n",
       "\n",
       "   bid_size1  ask_size1  bid_size2  ask_size2 row_id  \n",
       "0          3        226          2        100    0-5  \n",
       "1          3        100          2        100    0-5  \n",
       "2          3        100          2        100    0-5  \n",
       "3          3        126          2        100    0-5  \n",
       "4          3        126          2        100    0-5  "
      ]
     },
     "execution_count": 63,
     "metadata": {},
     "output_type": "execute_result"
    }
   ],
   "source": [
    "stock_id = 0\n",
    "stock_fname = my_book_train_chunks[0][stock_id]\n",
    "\n",
    "print(stock_fname)\n",
    "\n",
    "optiver_ds = pd.read_parquet(stock_fname)\n",
    "optiver_ds['row_id'] = str(stock_id) + '-' + optiver_ds['time_id'].astype(str)\n",
    "\n",
    "optiver_ds.head()"
   ]
  },
  {
   "cell_type": "markdown",
   "id": "60a8d845-e0dd-4b5c-9cf3-ea07277f1c5f",
   "metadata": {},
   "source": [
    "次に、train.csv (目的変数をまとめたCSVファイル）と offer book を左結合する。\n",
    "\n",
    "1. train.csv は、いま stock_id でループを回しているので、stock_id の列はいらないので削除\n",
    "1. (time_id, target) しか持たないテーブルに対して、左結合をしているので、左側表の大部分は複製されてしまうことに留意\n",
    "1. 上記の注意点をおいておくと、要は target の値をもったテーブルを作りたいとうことだけ"
   ]
  },
  {
   "cell_type": "code",
   "execution_count": 214,
   "id": "2d01e839-b698-4be9-aeb3-90284eaa4f5f",
   "metadata": {},
   "outputs": [
    {
     "name": "stdout",
     "output_type": "stream",
     "text": [
      "   stock_id  time_id    target\n",
      "0         0        5  0.004136\n",
      "1         0       11  0.001445\n",
      "2         0       16  0.002168\n",
      "3         0       31  0.002195\n",
      "4         0       62  0.001747\n",
      "(917553, 12)\n"
     ]
    },
    {
     "data": {
      "text/html": [
       "<div>\n",
       "<style scoped>\n",
       "    .dataframe tbody tr th:only-of-type {\n",
       "        vertical-align: middle;\n",
       "    }\n",
       "\n",
       "    .dataframe tbody tr th {\n",
       "        vertical-align: top;\n",
       "    }\n",
       "\n",
       "    .dataframe thead th {\n",
       "        text-align: right;\n",
       "    }\n",
       "</style>\n",
       "<table border=\"1\" class=\"dataframe\">\n",
       "  <thead>\n",
       "    <tr style=\"text-align: right;\">\n",
       "      <th></th>\n",
       "      <th>time_id</th>\n",
       "      <th>target</th>\n",
       "      <th>seconds_in_bucket</th>\n",
       "      <th>bid_price1</th>\n",
       "      <th>ask_price1</th>\n",
       "      <th>bid_price2</th>\n",
       "      <th>ask_price2</th>\n",
       "      <th>bid_size1</th>\n",
       "      <th>ask_size1</th>\n",
       "      <th>bid_size2</th>\n",
       "      <th>ask_size2</th>\n",
       "      <th>row_id</th>\n",
       "    </tr>\n",
       "  </thead>\n",
       "  <tbody>\n",
       "    <tr>\n",
       "      <th>0</th>\n",
       "      <td>5</td>\n",
       "      <td>0.004136</td>\n",
       "      <td>0</td>\n",
       "      <td>1.001422</td>\n",
       "      <td>1.002301</td>\n",
       "      <td>1.00137</td>\n",
       "      <td>1.002353</td>\n",
       "      <td>3</td>\n",
       "      <td>226</td>\n",
       "      <td>2</td>\n",
       "      <td>100</td>\n",
       "      <td>0-5</td>\n",
       "    </tr>\n",
       "    <tr>\n",
       "      <th>1</th>\n",
       "      <td>5</td>\n",
       "      <td>0.004136</td>\n",
       "      <td>1</td>\n",
       "      <td>1.001422</td>\n",
       "      <td>1.002301</td>\n",
       "      <td>1.00137</td>\n",
       "      <td>1.002353</td>\n",
       "      <td>3</td>\n",
       "      <td>100</td>\n",
       "      <td>2</td>\n",
       "      <td>100</td>\n",
       "      <td>0-5</td>\n",
       "    </tr>\n",
       "    <tr>\n",
       "      <th>2</th>\n",
       "      <td>5</td>\n",
       "      <td>0.004136</td>\n",
       "      <td>5</td>\n",
       "      <td>1.001422</td>\n",
       "      <td>1.002301</td>\n",
       "      <td>1.00137</td>\n",
       "      <td>1.002405</td>\n",
       "      <td>3</td>\n",
       "      <td>100</td>\n",
       "      <td>2</td>\n",
       "      <td>100</td>\n",
       "      <td>0-5</td>\n",
       "    </tr>\n",
       "    <tr>\n",
       "      <th>3</th>\n",
       "      <td>5</td>\n",
       "      <td>0.004136</td>\n",
       "      <td>6</td>\n",
       "      <td>1.001422</td>\n",
       "      <td>1.002301</td>\n",
       "      <td>1.00137</td>\n",
       "      <td>1.002405</td>\n",
       "      <td>3</td>\n",
       "      <td>126</td>\n",
       "      <td>2</td>\n",
       "      <td>100</td>\n",
       "      <td>0-5</td>\n",
       "    </tr>\n",
       "    <tr>\n",
       "      <th>4</th>\n",
       "      <td>5</td>\n",
       "      <td>0.004136</td>\n",
       "      <td>7</td>\n",
       "      <td>1.001422</td>\n",
       "      <td>1.002301</td>\n",
       "      <td>1.00137</td>\n",
       "      <td>1.002405</td>\n",
       "      <td>3</td>\n",
       "      <td>126</td>\n",
       "      <td>2</td>\n",
       "      <td>100</td>\n",
       "      <td>0-5</td>\n",
       "    </tr>\n",
       "  </tbody>\n",
       "</table>\n",
       "</div>"
      ],
      "text/plain": [
       "   time_id    target  seconds_in_bucket  bid_price1  ask_price1  bid_price2  \\\n",
       "0        5  0.004136                  0    1.001422    1.002301     1.00137   \n",
       "1        5  0.004136                  1    1.001422    1.002301     1.00137   \n",
       "2        5  0.004136                  5    1.001422    1.002301     1.00137   \n",
       "3        5  0.004136                  6    1.001422    1.002301     1.00137   \n",
       "4        5  0.004136                  7    1.001422    1.002301     1.00137   \n",
       "\n",
       "   ask_price2  bid_size1  ask_size1  bid_size2  ask_size2 row_id  \n",
       "0    1.002353          3        226          2        100    0-5  \n",
       "1    1.002353          3        100          2        100    0-5  \n",
       "2    1.002405          3        100          2        100    0-5  \n",
       "3    1.002405          3        126          2        100    0-5  \n",
       "4    1.002405          3        126          2        100    0-5  "
      ]
     },
     "execution_count": 214,
     "metadata": {},
     "output_type": "execute_result"
    }
   ],
   "source": [
    "ds = train_ds\n",
    "print(ds.head())\n",
    "\n",
    "sds = ds[ds['stock_id'] == stock_id]\n",
    "\n",
    "cols = ['time_id', 'target']\n",
    "merge_ds = pd.merge(sds[cols], optiver_ds, on='time_id', how='left')\n",
    "\n",
    "print(merge_ds.shape)\n",
    "merge_ds.head()"
   ]
  },
  {
   "cell_type": "markdown",
   "id": "dbfe1ba1-78c0-456a-9c9f-36dedbd3863c",
   "metadata": {},
   "source": [
    "次に、作成した表から特徴量を作成する。\n",
    "\n",
    "1. 特徴量（wap, log_return, volatilityなど）の計算\n",
    "1. ひとつの行内の情報だけで計算できる特徴量（WAP）もあれば、ウィンドウ内での移動平均（wap_ma）を計算している特徴量もある。\n",
    "1. 移動平均系は最初の部分が NaN になるので、実際にはゼロ埋めする"
   ]
  },
  {
   "cell_type": "code",
   "execution_count": 216,
   "id": "3b2ac0f1-8dab-4d8b-a630-7ab67e4a271b",
   "metadata": {},
   "outputs": [
    {
     "name": "stdout",
     "output_type": "stream",
     "text": [
      "(917553, 26)\n"
     ]
    },
    {
     "data": {
      "text/html": [
       "<div>\n",
       "<style scoped>\n",
       "    .dataframe tbody tr th:only-of-type {\n",
       "        vertical-align: middle;\n",
       "    }\n",
       "\n",
       "    .dataframe tbody tr th {\n",
       "        vertical-align: top;\n",
       "    }\n",
       "\n",
       "    .dataframe thead th {\n",
       "        text-align: right;\n",
       "    }\n",
       "</style>\n",
       "<table border=\"1\" class=\"dataframe\">\n",
       "  <thead>\n",
       "    <tr style=\"text-align: right;\">\n",
       "      <th></th>\n",
       "      <th>time_id</th>\n",
       "      <th>target</th>\n",
       "      <th>seconds_in_bucket</th>\n",
       "      <th>bid_price1</th>\n",
       "      <th>ask_price1</th>\n",
       "      <th>bid_price2</th>\n",
       "      <th>ask_price2</th>\n",
       "      <th>bid_size1</th>\n",
       "      <th>ask_size1</th>\n",
       "      <th>bid_size2</th>\n",
       "      <th>...</th>\n",
       "      <th>wap_balance</th>\n",
       "      <th>price_spread</th>\n",
       "      <th>price_spread2</th>\n",
       "      <th>bid_spread</th>\n",
       "      <th>ask_spread</th>\n",
       "      <th>bid_ask_spread</th>\n",
       "      <th>total_volume</th>\n",
       "      <th>volume_imbalance</th>\n",
       "      <th>wap1_ma</th>\n",
       "      <th>wap2_ma</th>\n",
       "    </tr>\n",
       "  </thead>\n",
       "  <tbody>\n",
       "    <tr>\n",
       "      <th>0</th>\n",
       "      <td>5</td>\n",
       "      <td>0.004136</td>\n",
       "      <td>0</td>\n",
       "      <td>1.001422</td>\n",
       "      <td>1.002301</td>\n",
       "      <td>1.001370</td>\n",
       "      <td>1.002353</td>\n",
       "      <td>3</td>\n",
       "      <td>226</td>\n",
       "      <td>2</td>\n",
       "      <td>...</td>\n",
       "      <td>0.000044</td>\n",
       "      <td>0.000878</td>\n",
       "      <td>0.000981</td>\n",
       "      <td>0.000052</td>\n",
       "      <td>-0.000052</td>\n",
       "      <td>0.000103</td>\n",
       "      <td>331</td>\n",
       "      <td>321</td>\n",
       "      <td>NaN</td>\n",
       "      <td>NaN</td>\n",
       "    </tr>\n",
       "    <tr>\n",
       "      <th>1</th>\n",
       "      <td>5</td>\n",
       "      <td>0.004136</td>\n",
       "      <td>1</td>\n",
       "      <td>1.001422</td>\n",
       "      <td>1.002301</td>\n",
       "      <td>1.001370</td>\n",
       "      <td>1.002353</td>\n",
       "      <td>3</td>\n",
       "      <td>100</td>\n",
       "      <td>2</td>\n",
       "      <td>...</td>\n",
       "      <td>0.000058</td>\n",
       "      <td>0.000878</td>\n",
       "      <td>0.000981</td>\n",
       "      <td>0.000052</td>\n",
       "      <td>-0.000052</td>\n",
       "      <td>0.000103</td>\n",
       "      <td>205</td>\n",
       "      <td>195</td>\n",
       "      <td>NaN</td>\n",
       "      <td>NaN</td>\n",
       "    </tr>\n",
       "    <tr>\n",
       "      <th>2</th>\n",
       "      <td>5</td>\n",
       "      <td>0.004136</td>\n",
       "      <td>5</td>\n",
       "      <td>1.001422</td>\n",
       "      <td>1.002301</td>\n",
       "      <td>1.001370</td>\n",
       "      <td>1.002405</td>\n",
       "      <td>3</td>\n",
       "      <td>100</td>\n",
       "      <td>2</td>\n",
       "      <td>...</td>\n",
       "      <td>0.000057</td>\n",
       "      <td>0.000878</td>\n",
       "      <td>0.001032</td>\n",
       "      <td>0.000052</td>\n",
       "      <td>-0.000103</td>\n",
       "      <td>0.000155</td>\n",
       "      <td>205</td>\n",
       "      <td>195</td>\n",
       "      <td>NaN</td>\n",
       "      <td>NaN</td>\n",
       "    </tr>\n",
       "    <tr>\n",
       "      <th>3</th>\n",
       "      <td>5</td>\n",
       "      <td>0.004136</td>\n",
       "      <td>6</td>\n",
       "      <td>1.001422</td>\n",
       "      <td>1.002301</td>\n",
       "      <td>1.001370</td>\n",
       "      <td>1.002405</td>\n",
       "      <td>3</td>\n",
       "      <td>126</td>\n",
       "      <td>2</td>\n",
       "      <td>...</td>\n",
       "      <td>0.000052</td>\n",
       "      <td>0.000878</td>\n",
       "      <td>0.001032</td>\n",
       "      <td>0.000052</td>\n",
       "      <td>-0.000103</td>\n",
       "      <td>0.000155</td>\n",
       "      <td>231</td>\n",
       "      <td>221</td>\n",
       "      <td>NaN</td>\n",
       "      <td>NaN</td>\n",
       "    </tr>\n",
       "    <tr>\n",
       "      <th>4</th>\n",
       "      <td>5</td>\n",
       "      <td>0.004136</td>\n",
       "      <td>7</td>\n",
       "      <td>1.001422</td>\n",
       "      <td>1.002301</td>\n",
       "      <td>1.001370</td>\n",
       "      <td>1.002405</td>\n",
       "      <td>3</td>\n",
       "      <td>126</td>\n",
       "      <td>2</td>\n",
       "      <td>...</td>\n",
       "      <td>0.000052</td>\n",
       "      <td>0.000878</td>\n",
       "      <td>0.001032</td>\n",
       "      <td>0.000052</td>\n",
       "      <td>-0.000103</td>\n",
       "      <td>0.000155</td>\n",
       "      <td>231</td>\n",
       "      <td>221</td>\n",
       "      <td>NaN</td>\n",
       "      <td>NaN</td>\n",
       "    </tr>\n",
       "    <tr>\n",
       "      <th>5</th>\n",
       "      <td>5</td>\n",
       "      <td>0.004136</td>\n",
       "      <td>11</td>\n",
       "      <td>1.001422</td>\n",
       "      <td>1.002301</td>\n",
       "      <td>1.001370</td>\n",
       "      <td>1.002405</td>\n",
       "      <td>3</td>\n",
       "      <td>100</td>\n",
       "      <td>2</td>\n",
       "      <td>...</td>\n",
       "      <td>0.000057</td>\n",
       "      <td>0.000878</td>\n",
       "      <td>0.001032</td>\n",
       "      <td>0.000052</td>\n",
       "      <td>-0.000103</td>\n",
       "      <td>0.000155</td>\n",
       "      <td>205</td>\n",
       "      <td>195</td>\n",
       "      <td>NaN</td>\n",
       "      <td>NaN</td>\n",
       "    </tr>\n",
       "    <tr>\n",
       "      <th>6</th>\n",
       "      <td>5</td>\n",
       "      <td>0.004136</td>\n",
       "      <td>12</td>\n",
       "      <td>1.001422</td>\n",
       "      <td>1.002301</td>\n",
       "      <td>1.001370</td>\n",
       "      <td>1.002405</td>\n",
       "      <td>3</td>\n",
       "      <td>126</td>\n",
       "      <td>2</td>\n",
       "      <td>...</td>\n",
       "      <td>0.000052</td>\n",
       "      <td>0.000878</td>\n",
       "      <td>0.001032</td>\n",
       "      <td>0.000052</td>\n",
       "      <td>-0.000103</td>\n",
       "      <td>0.000155</td>\n",
       "      <td>231</td>\n",
       "      <td>221</td>\n",
       "      <td>NaN</td>\n",
       "      <td>NaN</td>\n",
       "    </tr>\n",
       "    <tr>\n",
       "      <th>7</th>\n",
       "      <td>5</td>\n",
       "      <td>0.004136</td>\n",
       "      <td>14</td>\n",
       "      <td>1.001422</td>\n",
       "      <td>1.002301</td>\n",
       "      <td>1.001370</td>\n",
       "      <td>1.002405</td>\n",
       "      <td>3</td>\n",
       "      <td>126</td>\n",
       "      <td>2</td>\n",
       "      <td>...</td>\n",
       "      <td>0.000052</td>\n",
       "      <td>0.000878</td>\n",
       "      <td>0.001032</td>\n",
       "      <td>0.000052</td>\n",
       "      <td>-0.000103</td>\n",
       "      <td>0.000155</td>\n",
       "      <td>231</td>\n",
       "      <td>221</td>\n",
       "      <td>NaN</td>\n",
       "      <td>NaN</td>\n",
       "    </tr>\n",
       "    <tr>\n",
       "      <th>8</th>\n",
       "      <td>5</td>\n",
       "      <td>0.004136</td>\n",
       "      <td>15</td>\n",
       "      <td>1.001422</td>\n",
       "      <td>1.002301</td>\n",
       "      <td>1.001370</td>\n",
       "      <td>1.002405</td>\n",
       "      <td>3</td>\n",
       "      <td>126</td>\n",
       "      <td>2</td>\n",
       "      <td>...</td>\n",
       "      <td>0.000052</td>\n",
       "      <td>0.000878</td>\n",
       "      <td>0.001032</td>\n",
       "      <td>0.000052</td>\n",
       "      <td>-0.000103</td>\n",
       "      <td>0.000155</td>\n",
       "      <td>231</td>\n",
       "      <td>221</td>\n",
       "      <td>NaN</td>\n",
       "      <td>NaN</td>\n",
       "    </tr>\n",
       "    <tr>\n",
       "      <th>9</th>\n",
       "      <td>5</td>\n",
       "      <td>0.004136</td>\n",
       "      <td>16</td>\n",
       "      <td>1.001422</td>\n",
       "      <td>1.002301</td>\n",
       "      <td>1.001370</td>\n",
       "      <td>1.002405</td>\n",
       "      <td>3</td>\n",
       "      <td>126</td>\n",
       "      <td>2</td>\n",
       "      <td>...</td>\n",
       "      <td>0.000052</td>\n",
       "      <td>0.000878</td>\n",
       "      <td>0.001032</td>\n",
       "      <td>0.000052</td>\n",
       "      <td>-0.000103</td>\n",
       "      <td>0.000155</td>\n",
       "      <td>231</td>\n",
       "      <td>221</td>\n",
       "      <td>1.001442</td>\n",
       "      <td>1.001391</td>\n",
       "    </tr>\n",
       "    <tr>\n",
       "      <th>10</th>\n",
       "      <td>5</td>\n",
       "      <td>0.004136</td>\n",
       "      <td>17</td>\n",
       "      <td>1.001422</td>\n",
       "      <td>1.002301</td>\n",
       "      <td>1.001370</td>\n",
       "      <td>1.002405</td>\n",
       "      <td>3</td>\n",
       "      <td>100</td>\n",
       "      <td>2</td>\n",
       "      <td>...</td>\n",
       "      <td>0.000057</td>\n",
       "      <td>0.000878</td>\n",
       "      <td>0.001032</td>\n",
       "      <td>0.000052</td>\n",
       "      <td>-0.000103</td>\n",
       "      <td>0.000155</td>\n",
       "      <td>205</td>\n",
       "      <td>195</td>\n",
       "      <td>1.001444</td>\n",
       "      <td>1.001391</td>\n",
       "    </tr>\n",
       "    <tr>\n",
       "      <th>11</th>\n",
       "      <td>5</td>\n",
       "      <td>0.004136</td>\n",
       "      <td>18</td>\n",
       "      <td>1.001422</td>\n",
       "      <td>1.002301</td>\n",
       "      <td>1.001370</td>\n",
       "      <td>1.002405</td>\n",
       "      <td>3</td>\n",
       "      <td>126</td>\n",
       "      <td>2</td>\n",
       "      <td>...</td>\n",
       "      <td>0.000052</td>\n",
       "      <td>0.000878</td>\n",
       "      <td>0.001032</td>\n",
       "      <td>0.000052</td>\n",
       "      <td>-0.000103</td>\n",
       "      <td>0.000155</td>\n",
       "      <td>231</td>\n",
       "      <td>221</td>\n",
       "      <td>1.001444</td>\n",
       "      <td>1.001391</td>\n",
       "    </tr>\n",
       "    <tr>\n",
       "      <th>12</th>\n",
       "      <td>5</td>\n",
       "      <td>0.004136</td>\n",
       "      <td>19</td>\n",
       "      <td>1.001422</td>\n",
       "      <td>1.002301</td>\n",
       "      <td>1.001370</td>\n",
       "      <td>1.002405</td>\n",
       "      <td>3</td>\n",
       "      <td>126</td>\n",
       "      <td>2</td>\n",
       "      <td>...</td>\n",
       "      <td>0.000052</td>\n",
       "      <td>0.000878</td>\n",
       "      <td>0.001032</td>\n",
       "      <td>0.000052</td>\n",
       "      <td>-0.000103</td>\n",
       "      <td>0.000155</td>\n",
       "      <td>231</td>\n",
       "      <td>221</td>\n",
       "      <td>1.001443</td>\n",
       "      <td>1.001391</td>\n",
       "    </tr>\n",
       "    <tr>\n",
       "      <th>13</th>\n",
       "      <td>5</td>\n",
       "      <td>0.004136</td>\n",
       "      <td>21</td>\n",
       "      <td>1.001422</td>\n",
       "      <td>1.002818</td>\n",
       "      <td>1.001370</td>\n",
       "      <td>1.002922</td>\n",
       "      <td>3</td>\n",
       "      <td>30</td>\n",
       "      <td>2</td>\n",
       "      <td>...</td>\n",
       "      <td>0.000148</td>\n",
       "      <td>0.001393</td>\n",
       "      <td>0.001548</td>\n",
       "      <td>0.000052</td>\n",
       "      <td>-0.000103</td>\n",
       "      <td>0.000155</td>\n",
       "      <td>135</td>\n",
       "      <td>125</td>\n",
       "      <td>1.001447</td>\n",
       "      <td>1.001392</td>\n",
       "    </tr>\n",
       "    <tr>\n",
       "      <th>14</th>\n",
       "      <td>5</td>\n",
       "      <td>0.004136</td>\n",
       "      <td>24</td>\n",
       "      <td>1.001474</td>\n",
       "      <td>1.002818</td>\n",
       "      <td>1.001422</td>\n",
       "      <td>1.002922</td>\n",
       "      <td>155</td>\n",
       "      <td>30</td>\n",
       "      <td>3</td>\n",
       "      <td>...</td>\n",
       "      <td>0.001135</td>\n",
       "      <td>0.001342</td>\n",
       "      <td>0.001497</td>\n",
       "      <td>0.000052</td>\n",
       "      <td>-0.000103</td>\n",
       "      <td>0.000155</td>\n",
       "      <td>288</td>\n",
       "      <td>28</td>\n",
       "      <td>1.001576</td>\n",
       "      <td>1.001399</td>\n",
       "    </tr>\n",
       "  </tbody>\n",
       "</table>\n",
       "<p>15 rows × 26 columns</p>\n",
       "</div>"
      ],
      "text/plain": [
       "    time_id    target  seconds_in_bucket  bid_price1  ask_price1  bid_price2  \\\n",
       "0         5  0.004136                  0    1.001422    1.002301    1.001370   \n",
       "1         5  0.004136                  1    1.001422    1.002301    1.001370   \n",
       "2         5  0.004136                  5    1.001422    1.002301    1.001370   \n",
       "3         5  0.004136                  6    1.001422    1.002301    1.001370   \n",
       "4         5  0.004136                  7    1.001422    1.002301    1.001370   \n",
       "5         5  0.004136                 11    1.001422    1.002301    1.001370   \n",
       "6         5  0.004136                 12    1.001422    1.002301    1.001370   \n",
       "7         5  0.004136                 14    1.001422    1.002301    1.001370   \n",
       "8         5  0.004136                 15    1.001422    1.002301    1.001370   \n",
       "9         5  0.004136                 16    1.001422    1.002301    1.001370   \n",
       "10        5  0.004136                 17    1.001422    1.002301    1.001370   \n",
       "11        5  0.004136                 18    1.001422    1.002301    1.001370   \n",
       "12        5  0.004136                 19    1.001422    1.002301    1.001370   \n",
       "13        5  0.004136                 21    1.001422    1.002818    1.001370   \n",
       "14        5  0.004136                 24    1.001474    1.002818    1.001422   \n",
       "\n",
       "    ask_price2  bid_size1  ask_size1  bid_size2  ...  wap_balance  \\\n",
       "0     1.002353          3        226          2  ...     0.000044   \n",
       "1     1.002353          3        100          2  ...     0.000058   \n",
       "2     1.002405          3        100          2  ...     0.000057   \n",
       "3     1.002405          3        126          2  ...     0.000052   \n",
       "4     1.002405          3        126          2  ...     0.000052   \n",
       "5     1.002405          3        100          2  ...     0.000057   \n",
       "6     1.002405          3        126          2  ...     0.000052   \n",
       "7     1.002405          3        126          2  ...     0.000052   \n",
       "8     1.002405          3        126          2  ...     0.000052   \n",
       "9     1.002405          3        126          2  ...     0.000052   \n",
       "10    1.002405          3        100          2  ...     0.000057   \n",
       "11    1.002405          3        126          2  ...     0.000052   \n",
       "12    1.002405          3        126          2  ...     0.000052   \n",
       "13    1.002922          3         30          2  ...     0.000148   \n",
       "14    1.002922        155         30          3  ...     0.001135   \n",
       "\n",
       "   price_spread  price_spread2  bid_spread  ask_spread  bid_ask_spread  \\\n",
       "0      0.000878       0.000981    0.000052   -0.000052        0.000103   \n",
       "1      0.000878       0.000981    0.000052   -0.000052        0.000103   \n",
       "2      0.000878       0.001032    0.000052   -0.000103        0.000155   \n",
       "3      0.000878       0.001032    0.000052   -0.000103        0.000155   \n",
       "4      0.000878       0.001032    0.000052   -0.000103        0.000155   \n",
       "5      0.000878       0.001032    0.000052   -0.000103        0.000155   \n",
       "6      0.000878       0.001032    0.000052   -0.000103        0.000155   \n",
       "7      0.000878       0.001032    0.000052   -0.000103        0.000155   \n",
       "8      0.000878       0.001032    0.000052   -0.000103        0.000155   \n",
       "9      0.000878       0.001032    0.000052   -0.000103        0.000155   \n",
       "10     0.000878       0.001032    0.000052   -0.000103        0.000155   \n",
       "11     0.000878       0.001032    0.000052   -0.000103        0.000155   \n",
       "12     0.000878       0.001032    0.000052   -0.000103        0.000155   \n",
       "13     0.001393       0.001548    0.000052   -0.000103        0.000155   \n",
       "14     0.001342       0.001497    0.000052   -0.000103        0.000155   \n",
       "\n",
       "    total_volume  volume_imbalance   wap1_ma   wap2_ma  \n",
       "0            331               321       NaN       NaN  \n",
       "1            205               195       NaN       NaN  \n",
       "2            205               195       NaN       NaN  \n",
       "3            231               221       NaN       NaN  \n",
       "4            231               221       NaN       NaN  \n",
       "5            205               195       NaN       NaN  \n",
       "6            231               221       NaN       NaN  \n",
       "7            231               221       NaN       NaN  \n",
       "8            231               221       NaN       NaN  \n",
       "9            231               221  1.001442  1.001391  \n",
       "10           205               195  1.001444  1.001391  \n",
       "11           231               221  1.001444  1.001391  \n",
       "12           231               221  1.001443  1.001391  \n",
       "13           135               125  1.001447  1.001392  \n",
       "14           288                28  1.001576  1.001399  \n",
       "\n",
       "[15 rows x 26 columns]"
      ]
     },
     "execution_count": 216,
     "metadata": {},
     "output_type": "execute_result"
    }
   ],
   "source": [
    "merge_ds = book_ds_fe(merge_ds)\n",
    "print(merge_ds.shape)\n",
    "merge_ds.head(15)"
   ]
  },
  {
   "cell_type": "markdown",
   "id": "88dd9f40-5794-4dda-b743-ef5801542874",
   "metadata": {},
   "source": [
    "1. 作成したDataFrameを numpy に変換する（skip_columnsを覗いて、単純にnumpyに変換しただけ）\n",
    "1. seconds_in_bucket, time_id も numpyに変換する"
   ]
  },
  {
   "cell_type": "code",
   "execution_count": 79,
   "id": "4e744173-d69b-4c7b-979b-b9cf9ddbf75b",
   "metadata": {},
   "outputs": [],
   "source": [
    "cols = [c for c in merge_ds.columns if c not in book_skip_columns]\n",
    "\n",
    "np_ds = merge_ds[cols].to_numpy(dtype=np.float16)\n",
    "seconds_in_bucket = merge_ds['seconds_in_bucket'].to_numpy()\n",
    "g_idx = merge_ds[['time_id']].to_numpy()"
   ]
  },
  {
   "cell_type": "code",
   "execution_count": 110,
   "id": "e20c1631-c54c-403e-8fba-8b50ecc667b4",
   "metadata": {},
   "outputs": [
    {
     "name": "stdout",
     "output_type": "stream",
     "text": [
      "(917553, 23)\n"
     ]
    },
    {
     "data": {
      "text/plain": [
       "array([[ 0.000e+00,  1.001e+00,  1.002e+00,  1.001e+00,  1.002e+00,\n",
       "         3.000e+00,  2.260e+02,  2.000e+00,  1.000e+02,  1.001e+00,\n",
       "         1.001e+00,        nan,        nan,  4.399e-05,  8.774e-04,\n",
       "         9.804e-04,  5.174e-05, -5.174e-05,  1.035e-04,  3.310e+02,\n",
       "         3.210e+02,        nan,        nan],\n",
       "       [ 1.000e+00,  1.001e+00,  1.002e+00,  1.001e+00,  1.002e+00,\n",
       "         3.000e+00,  1.000e+02,  2.000e+00,  1.000e+02,  1.001e+00,\n",
       "         1.001e+00,  1.407e-05,  0.000e+00,  5.805e-05,  8.774e-04,\n",
       "         9.804e-04,  5.174e-05, -5.174e-05,  1.035e-04,  2.050e+02,\n",
       "         1.950e+02,        nan,        nan]], dtype=float16)"
      ]
     },
     "execution_count": 110,
     "metadata": {},
     "output_type": "execute_result"
    }
   ],
   "source": [
    "# DFをnumpyにしただけのもの\n",
    "# 構造は変化しない\n",
    "print(np_ds.shape)\n",
    "np_ds[:2]"
   ]
  },
  {
   "cell_type": "code",
   "execution_count": 85,
   "id": "4fccba63-f80f-42d0-aeb5-a284ec99c9e1",
   "metadata": {},
   "outputs": [
    {
     "data": {
      "text/plain": [
       "array([0, 1, 5, 6, 7], dtype=int16)"
      ]
     },
     "execution_count": 85,
     "metadata": {},
     "output_type": "execute_result"
    }
   ],
   "source": [
    "seconds_in_bucket[:5]"
   ]
  },
  {
   "cell_type": "code",
   "execution_count": 148,
   "id": "aa89324b-d7bb-4765-b30d-9b08447acbe2",
   "metadata": {},
   "outputs": [
    {
     "name": "stdout",
     "output_type": "stream",
     "text": [
      "(917553, 1)\n"
     ]
    },
    {
     "data": {
      "text/plain": [
       "array([[    5],\n",
       "       [    5],\n",
       "       [    5],\n",
       "       ...,\n",
       "       [32767],\n",
       "       [32767],\n",
       "       [32767]])"
      ]
     },
     "execution_count": 148,
     "metadata": {},
     "output_type": "execute_result"
    }
   ],
   "source": [
    "# 917553 : 全データ行数\n",
    "print(g_idx.shape)\n",
    "g_idx"
   ]
  },
  {
   "cell_type": "markdown",
   "id": "b6f5331b-2f26-4586-a33a-ea395ec72441",
   "metadata": {},
   "source": [
    "1. time_id は重複しているのでそのままでは同じ土俵でデータに組み込めない。そこでまず、g_idx として二次元配列にして、そこからユニークな値をとってきて、インデックスをとってくる\n",
    "1. `[1:]` としているのは、後段で split に使用するためで、こうすることで 0〜302, 302〜502, ... といった狙い通りのスプリットができる\n",
    "1. スプリットの狙いは、time_id ごとにデータを分割したいため"
   ]
  },
  {
   "cell_type": "markdown",
   "id": "d9c8232b-8a9c-487c-9201-e2e62852e0b7",
   "metadata": {},
   "source": [
    "## np_seq_stat\n",
    "\n",
    "- 秒数で区切って特徴量を集約する（0, 100, 200, 300, 400, 500, 600）。合計6区間を用意する\n",
    "    - min, max, mean, std, median, sum の6種類を各 time window 内で計算する\n",
    "    - 1 time window 6次元のベクトルができて、それを axis=0 方向に concatenate する\n",
    "    - なので、stock_id毎・time_id 毎で合計36個のベクトルが縦に並ぶ（6次元×6区間）\n",
    "- a_list/s_list の次元は (time_id 数 × そのid中のデータ数)"
   ]
  },
  {
   "cell_type": "code",
   "execution_count": 153,
   "id": "c9e7a81a-31fd-4326-9eb6-c6bbd4b77a3d",
   "metadata": {},
   "outputs": [
    {
     "data": {
      "text/plain": [
       "array([    5,    11,    16, ..., 32758, 32763, 32767])"
      ]
     },
     "execution_count": 153,
     "metadata": {},
     "output_type": "execute_result"
    }
   ],
   "source": [
    "# time_id のユニークな値を取得\n",
    "# 以下では return_index オプションを使用する\n",
    "np.unique(g_idx)"
   ]
  },
  {
   "cell_type": "code",
   "execution_count": 98,
   "id": "72d5351c-7bf3-45c2-94d8-b5d59250c82b",
   "metadata": {},
   "outputs": [
    {
     "data": {
      "text/plain": [
       "(array([    5,    11,    16, ..., 32758, 32763, 32767]),\n",
       " array([     0,    302,    502, ..., 916830, 917018, 917325]))"
      ]
     },
     "execution_count": 98,
     "metadata": {},
     "output_type": "execute_result"
    }
   ],
   "source": [
    "# return_index=True でユニークな値と、そのインデックス番号が返ってくる\n",
    "np.unique(g_idx, return_index=True)"
   ]
  },
  {
   "cell_type": "code",
   "execution_count": 151,
   "id": "c456a348-2681-4bf0-b013-d4104c81b129",
   "metadata": {},
   "outputs": [
    {
     "data": {
      "text/plain": [
       "array([     0,    302,    502, ..., 916830, 917018, 917325])"
      ]
     },
     "execution_count": 151,
     "metadata": {},
     "output_type": "execute_result"
    }
   ],
   "source": [
    "# [1] は index の方を取得することを意味している\n",
    "np.unique(g_idx, return_index=True)[1]"
   ]
  },
  {
   "cell_type": "code",
   "execution_count": 154,
   "id": "9058141c-31e7-4ff0-984e-8007479a650a",
   "metadata": {},
   "outputs": [
    {
     "data": {
      "text/plain": [
       "array([   302,    502,    690, ..., 916830, 917018, 917325])"
      ]
     },
     "execution_count": 154,
     "metadata": {},
     "output_type": "execute_result"
    }
   ],
   "source": [
    "# [1:] で０を含めない\n",
    "np.unique(g_idx, return_index=True)[1][1:]"
   ]
  },
  {
   "cell_type": "code",
   "execution_count": 156,
   "id": "633685bf-d53e-46eb-b070-e400a9d42fea",
   "metadata": {},
   "outputs": [],
   "source": [
    "# l : time_id のユニークな値ごとのインデックス\n",
    "l = np.unique(g_idx, return_index=True)[1][1:]     \n",
    "\n",
    "# a_/s_list : time_id ごとの情報にスプリットしている\n",
    "a_list = np.split(np_ds, l)\n",
    "s_list = np.split(seconds_in_bucket, l)"
   ]
  },
  {
   "cell_type": "code",
   "execution_count": 157,
   "id": "9ed1932d-c7d5-4390-bfeb-4274aa5b937d",
   "metadata": {},
   "outputs": [
    {
     "data": {
      "text/plain": [
       "array([   302,    502,    690, ..., 916830, 917018, 917325])"
      ]
     },
     "execution_count": 157,
     "metadata": {},
     "output_type": "execute_result"
    }
   ],
   "source": [
    "# index 情報\n",
    "l"
   ]
  },
  {
   "cell_type": "code",
   "execution_count": 163,
   "id": "be2ffd59-2677-43c2-89c0-d199214135e5",
   "metadata": {},
   "outputs": [
    {
     "name": "stdout",
     "output_type": "stream",
     "text": [
      "3830\n",
      "(302, 23)\n",
      "(200, 23)\n",
      "(188, 23)\n"
     ]
    },
    {
     "data": {
      "text/plain": [
       "array([[  0.   ,   1.001,   1.002, ..., 321.   ,     nan,     nan],\n",
       "       [  1.   ,   1.001,   1.002, ..., 195.   ,     nan,     nan],\n",
       "       [  5.   ,   1.001,   1.002, ..., 195.   ,     nan,     nan],\n",
       "       ...,\n",
       "       [587.   ,   1.003,   1.004, ..., 120.   ,   1.004,   1.004],\n",
       "       [588.   ,   1.003,   1.004, ...,  96.   ,   1.004,   1.004],\n",
       "       [593.   ,   1.003,   1.004, ..., 120.   ,   1.004,   1.004]],\n",
       "      dtype=float16)"
      ]
     },
     "execution_count": 163,
     "metadata": {},
     "output_type": "execute_result"
    }
   ],
   "source": [
    "# データ\n",
    "print(len(a_list))\n",
    "# [0][1][2] は、各 time_id の中の情報を指す。情報量は一定ではない（もちろん特徴量の総数は一定）\n",
    "print(a_list[0].shape)\n",
    "print(a_list[1].shape)\n",
    "print(a_list[2].shape)\n",
    "a_list[0]"
   ]
  },
  {
   "cell_type": "code",
   "execution_count": 165,
   "id": "78a62d10-d5d7-45d1-b2be-d656f6ae4760",
   "metadata": {},
   "outputs": [
    {
     "name": "stdout",
     "output_type": "stream",
     "text": [
      "(302, 23) (302,)\n",
      "(200, 23) (200,)\n",
      "(188, 23) (188,)\n"
     ]
    }
   ],
   "source": [
    "# 秒数\n",
    "print(a_list[0].shape, s_list[0].shape)\n",
    "print(a_list[1].shape, s_list[1].shape)\n",
    "print(a_list[2].shape, s_list[2].shape)"
   ]
  },
  {
   "cell_type": "markdown",
   "id": "8f3c435f-68e1-4cc1-8e05-01c3229fccd8",
   "metadata": {},
   "source": [
    "### ウィンドウで区切る\n",
    "\n",
    "実際の処理は、map 関数で a_list, s_list の要素に一括で行っているが、ここではその処理をいくつか分解してまとめる。"
   ]
  },
  {
   "cell_type": "code",
   "execution_count": 171,
   "id": "14894cad-efd1-42da-ac3f-cc880fa3c2b0",
   "metadata": {},
   "outputs": [
    {
     "data": {
      "text/plain": [
       "[2, 4, 6, 8, 10]"
      ]
     },
     "execution_count": 171,
     "metadata": {},
     "output_type": "execute_result"
    }
   ],
   "source": [
    "# map 関数 : 要素に対して一括で個別の処理を加えることができる\n",
    "test_list = [1,2,3,4,5]\n",
    "def test_fnc(x):\n",
    "    return 2*x\n",
    "list(map(test_fnc, test_list))"
   ]
  },
  {
   "cell_type": "code",
   "execution_count": 179,
   "id": "46b85101-57cb-440a-bae1-3482ccb75ea5",
   "metadata": {},
   "outputs": [
    {
     "data": {
      "text/plain": [
       "array([ 0,  1,  2,  3,  4,  5,  6,  7,  8,  9, 10, 11, 12, 13, 14, 15, 16,\n",
       "       17, 18, 19, 20, 21, 22, 23, 24, 25, 26, 27, 28, 29, 30, 31, 32, 33,\n",
       "       34, 35, 36, 37, 38, 39])"
      ]
     },
     "execution_count": 179,
     "metadata": {},
     "output_type": "execute_result"
    }
   ],
   "source": [
    "np.where(np.logical_and(0<= s_list[0], s_list[0] < 100))[0].shape\n",
    "np.where(np.logical_and(0<= s_list[0], s_list[0] < 100))[0]"
   ]
  },
  {
   "cell_type": "markdown",
   "id": "3ac99f36-d887-48ca-9ed3-4ace245f4170",
   "metadata": {},
   "source": [
    "各変数の初期化。np_seq_stat の中では、a_list の要素に対して処理していることに留意。以下は、ある time_id の中で、（a_list[0]なので time_id=5を指す）０〜100秒の情報だけを切り出している。その結果 40×23 の配列が確保できた。そして、該当するデータがあった場合に、それらの情報を使用してまとめた特徴量を作成する。\n",
    "\n",
    "- time_id/time_window 内での 最大、最小、分散、平均、総和、を取る\n",
    "- keepdims = True を用いることで、(1,23)の形の配列とする。\n",
    "- それを縦に連結する"
   ]
  },
  {
   "cell_type": "code",
   "execution_count": 180,
   "id": "a704b539-c775-485e-b8ae-de4c0a0d22e5",
   "metadata": {},
   "outputs": [
    {
     "data": {
      "text/plain": [
       "(40, 23)"
      ]
     },
     "execution_count": 180,
     "metadata": {},
     "output_type": "execute_result"
    }
   ],
   "source": [
    "tmp = a_list[0][np.where(np.logical_and(0<= s_list[0], s_list[0] < 100))[0]]\n",
    "tmp.shape"
   ]
  },
  {
   "cell_type": "code",
   "execution_count": 187,
   "id": "488345a1-5749-42a3-9bf2-d655141488ba",
   "metadata": {},
   "outputs": [
    {
     "name": "stdout",
     "output_type": "stream",
     "text": [
      "(1, 23)\n"
     ]
    },
    {
     "data": {
      "text/plain": [
       "array([[ 0.0000e+00,  1.0010e+00,  1.0020e+00,  1.0010e+00,  1.0020e+00,\n",
       "         3.0000e+00,  1.0000e+00,  2.0000e+00,  2.0000e+00,  1.0010e+00,\n",
       "         1.0010e+00,         nan,         nan,  3.3557e-05,  4.1246e-04,\n",
       "         8.7690e-04,  5.1618e-05, -5.6887e-04,  1.0335e-04,  7.6000e+01,\n",
       "         4.0000e+00,         nan,         nan]], dtype=float16)"
      ]
     },
     "execution_count": 187,
     "metadata": {},
     "output_type": "execute_result"
    }
   ],
   "source": [
    "print(np.min(tmp, axis=0, keepdims=True).shape)\n",
    "tmp_min = np.min(tmp, axis=0, keepdims=True)\n",
    "tmp_min"
   ]
  },
  {
   "cell_type": "code",
   "execution_count": 190,
   "id": "bc1274b4-782d-4aac-9d11-bf32e3ade846",
   "metadata": {},
   "outputs": [
    {
     "data": {
      "text/plain": [
       "(2, 23)"
      ]
     },
     "execution_count": 190,
     "metadata": {},
     "output_type": "execute_result"
    }
   ],
   "source": [
    "tmp_min = np.min(tmp, axis=0, keepdims=True)\n",
    "tmp_max = np.max(tmp, axis=0, keepdims=True)\n",
    "\n",
    "np.concatenate((tmp_min, tmp_max,), axis=0).shape"
   ]
  },
  {
   "cell_type": "markdown",
   "id": "1a063716-5ca2-41d4-973a-7ac358815125",
   "metadata": {},
   "source": [
    "一つの time_id/time_window内の処理が終わると、縦に集約した情報個数分、横にもともと用意していた特徴量の種類数分の二次元配列ができる。それをリストに追加していく。"
   ]
  },
  {
   "cell_type": "code",
   "execution_count": 205,
   "id": "ecc85e89-fdee-4393-be63-1ba6b35e5a08",
   "metadata": {},
   "outputs": [
    {
     "name": "stdout",
     "output_type": "stream",
     "text": [
      "処理したtime_windowの個数： 2\n",
      "1 window 内の次元：（aggの種類×特徴量） (2, 23)\n",
      "1 window 内の次元：（aggの種類×特徴量） (2, 23)\n"
     ]
    },
    {
     "data": {
      "text/plain": [
       "(23, 4)"
      ]
     },
     "execution_count": 205,
     "metadata": {},
     "output_type": "execute_result"
    }
   ],
   "source": [
    "tmp_r = []\n",
    "\n",
    "tmp_min = np.min(tmp, axis=0, keepdims=True)\n",
    "tmp_max = np.max(tmp, axis=0, keepdims=True)\n",
    "\n",
    "tmp_r.append(np.concatenate((tmp_min, tmp_max,), axis=0))\n",
    "tmp_r.append(np.concatenate((tmp_min, tmp_max,), axis=0))\n",
    "\n",
    "print(\"処理したtime_windowの個数：\", len(tmp_r))\n",
    "print(\"1 window 内の次元：（aggの種類×特徴量）\", tmp_r[0].shape)\n",
    "print(\"1 window 内の次元：（aggの種類×特徴量）\", tmp_r[1].shape)\n",
    "\n",
    "np.nan_to_num(np.concatenate(tmp_r, axis=0).transpose()).shape"
   ]
  },
  {
   "cell_type": "markdown",
   "id": "604d05ac-7a3e-40b5-a072-9801fff010ab",
   "metadata": {},
   "source": [
    "### 最終的な出力サイズ"
   ]
  },
  {
   "cell_type": "code",
   "execution_count": 117,
   "id": "ccec0e9f-c514-4c1d-bc56-4da5062b94bc",
   "metadata": {},
   "outputs": [],
   "source": [
    "stat = list(map(np_seq_stat, a_list, s_list))"
   ]
  },
  {
   "cell_type": "code",
   "execution_count": 207,
   "id": "5ecfdd54-1b81-4142-b178-5e77166234c9",
   "metadata": {},
   "outputs": [
    {
     "name": "stdout",
     "output_type": "stream",
     "text": [
      "<class 'list'>\n",
      "<class 'numpy.ndarray'>\n",
      "stock_id=0 の中でユニークなtime_idの個数： 3830\n"
     ]
    },
    {
     "data": {
      "text/plain": [
       "(23, 36)"
      ]
     },
     "execution_count": 207,
     "metadata": {},
     "output_type": "execute_result"
    }
   ],
   "source": [
    "print(type(stat))\n",
    "print(type(stat[0]))\n",
    "print(\"stock_id=0 の中でユニークなtime_idの個数：\", len(stat))\n",
    "stat[0].shape"
   ]
  },
  {
   "cell_type": "markdown",
   "id": "06dea236-d159-4730-bca6-ae6907542095",
   "metadata": {},
   "source": [
    "最終的に、np_seq_stat は (特徴量個数 $\\times$ 集約の種類) で表される。集約は min, max, std, mean, median, sum の6個で、time_window は6つ（600秒を100秒刻み）なので、$6\\times 6=36$の種類がある。"
   ]
  },
  {
   "cell_type": "markdown",
   "id": "faf0b016-a4da-4589-9496-6a528dd81ddd",
   "metadata": {},
   "source": [
    "### np_seq_stat の出力を加工する\n",
    "\n",
    "np_seq_stat は計3830個のtime_id の情報を持ったリストで、一つひとつの要素は $36\\times 23$ の次元を持っている。これを連結して numpy 配列にする"
   ]
  },
  {
   "cell_type": "code",
   "execution_count": 208,
   "id": "ed4e8843-cfc6-4e05-8936-a5f74e967404",
   "metadata": {},
   "outputs": [
    {
     "name": "stdout",
     "output_type": "stream",
     "text": [
      "(3830, 36, 23)\n"
     ]
    }
   ],
   "source": [
    "b = np.transpose(np.dstack(stat), (2, 1, 0))\n",
    "b = b.astype(np.float16)\n",
    "\n",
    "print(b.shape)"
   ]
  },
  {
   "cell_type": "markdown",
   "id": "afbdd4ec-e815-40ae-b886-be2fa0242819",
   "metadata": {},
   "source": [
    "## 正解データの作成\n",
    "\n",
    "- merge_ds から target の値をとってくる\n",
    "- このままだと、全データ行分の次元を持っているので、実際の個数に合わせる必要がある\n",
    "- 以上までで time_id で split したことを思い出して、同様に split する\n",
    "- split しただけでは、さらに seconds_in_bucket 分の次元を持っているので、一つを代表してループを回す\n",
    "- こうすることで、stock_id に対しての正解ができた"
   ]
  },
  {
   "cell_type": "code",
   "execution_count": 213,
   "id": "7aa89b80-c176-4e6d-bea4-a3eeee3e0824",
   "metadata": {},
   "outputs": [
    {
     "name": "stdout",
     "output_type": "stream",
     "text": [
      "(917553, 1)\n",
      "3830\n",
      "(302, 1)\n",
      "3830\n"
     ]
    }
   ],
   "source": [
    "tmp_r = []\n",
    "\n",
    "targets = merge_ds[['target']].to_numpy(dtype=np.float16)\n",
    "print(targets.shape)\n",
    "\n",
    "t_list = np.split(targets, l)\n",
    "print(len(t_list))\n",
    "print(t_list[0].shape)\n",
    "\n",
    "tmp_r = [t[0][0] for t in t_list]\n",
    "\n",
    "print(len(tmp_r))"
   ]
  },
  {
   "cell_type": "markdown",
   "id": "2d5aa77c-7720-4bb9-af8c-3c64647dd99b",
   "metadata": {},
   "source": [
    "# サイズ"
   ]
  },
  {
   "cell_type": "code",
   "execution_count": 150,
   "id": "7e558f0f-1b1e-495b-995a-d46ecc1c5f67",
   "metadata": {},
   "outputs": [
    {
     "name": "stdout",
     "output_type": "stream",
     "text": [
      "(428932, 3)\n",
      "\n",
      "\n",
      "<class 'pandas.core.frame.DataFrame'>\n",
      "(917553, 26)\n",
      "\n",
      "\n",
      "<class 'numpy.ndarray'>\n",
      "(917553, 23)\n",
      "\n",
      "\n",
      "<class 'list'>\n",
      "<class 'numpy.ndarray'>\n",
      "3830\n",
      "(302, 23)\n",
      "(200, 23)\n"
     ]
    }
   ],
   "source": [
    "# 正解データ\n",
    "print(train_ds.shape)\n",
    "print(\"\\n\")\n",
    "\n",
    "# 元データ --> stock_id 毎にこのDataFrameは作成している\n",
    "# time_id, stock_id, row_id 分、np_ds よりも多い\n",
    "print(type(merge_ds))\n",
    "print(merge_ds.shape)\n",
    "print(\"\\n\")\n",
    "\n",
    "# データ\n",
    "print(type(np_ds))\n",
    "print(np_ds.shape)\n",
    "print(\"\\n\")\n",
    "\n",
    "# np_ds ---> a_list で、time_id ごとに切っている\n",
    "# time_id 毎に、np_ds を分割したもの\n",
    "print(type(a_list))\n",
    "print(type(a_list[0]))\n",
    "print(len(a_list))\n",
    "print(a_list[0].shape)\n",
    "print(a_list[1].shape)"
   ]
  },
  {
   "cell_type": "markdown",
   "id": "9c6ce385-f71b-4043-81a9-66655cb9ec68",
   "metadata": {},
   "source": [
    "# process_optiver_ds\n",
    "\n",
    "- stock_id でループ\n",
    "- train/book のCSVをマージする\n",
    "- 不要なカラムを削除\n",
    "- time_id 毎に分けるために、 `np.split(np_ds, l)` を実行\n",
    "- b (data size × time-step × feature dim)\n",
    "- 最終出力：(stock_id × data_size) × time-step × feature-dim"
   ]
  },
  {
   "cell_type": "markdown",
   "id": "c323d504-6a45-4b00-a39e-5a27b25c2463",
   "metadata": {},
   "source": [
    "# LSTM\n",
    "\n",
    "- 想定する入力データshape: (batch_size, timesteps, data_dim)\n",
    "- input_shape=(timesteps, data_dim)"
   ]
  },
  {
   "cell_type": "code",
   "execution_count": null,
   "id": "83735a2d-dd75-4888-baa1-d6dcb7ed5bb8",
   "metadata": {},
   "outputs": [],
   "source": []
  }
 ],
 "metadata": {
  "kernelspec": {
   "display_name": "Python 3",
   "language": "python",
   "name": "python3"
  },
  "language_info": {
   "codemirror_mode": {
    "name": "ipython",
    "version": 3
   },
   "file_extension": ".py",
   "mimetype": "text/x-python",
   "name": "python",
   "nbconvert_exporter": "python",
   "pygments_lexer": "ipython3",
   "version": "3.7.3"
  }
 },
 "nbformat": 4,
 "nbformat_minor": 5
}
